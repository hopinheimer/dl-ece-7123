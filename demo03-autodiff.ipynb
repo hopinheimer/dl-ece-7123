{
 "cells": [
  {
   "cell_type": "markdown",
   "metadata": {
    "id": "ErVjWEKLWeHv"
   },
   "source": [
    "# Goal: Understand and Implement Backpropagation from Scratch\n",
    "In this demo, we will implement backpropagation from scratch. Let's set things up by writing out our recipe for machine learning:\n",
    "## 3 Step Recipe:\n",
    "- Fix a representation (neural networks, parameterized by weights $\\theta$)\n",
    "- Define a measure of goodness $\\rightarrow$ Loss Function $L(\\theta)$\n",
    "- Choose an optimization strategy (gradient descent)\n",
    "\n",
    "\n",
    "Gradient Descent:\n",
    "- $L(\\theta)$\n",
    "- $g_t \\leftarrow \\nabla_{\\theta}L(\\theta_{t-1})$ **(this notebook)**\n",
    "-  $\\theta_t \\leftarrow \\theta_{t-1} - \\lambda g_t$\n",
    "\n",
    "\n",
    "This notebook explores how to efficiently calculate the gradient in the equations above and is based off Andrej Karpathy's [notebook](https://github.com/karpathy/nn-zero-to-hero/blob/master/lectures/micrograd/micrograd_lecture_first_half_roughly.ipynb) and [lecture](https://www.youtube.com/watch?v=VMj-3S1tku0&t=0s). \n",
    "\n",
    "Additional sources:\n",
    "- [CS231n notes](https://cs231n.github.io/optimization-2/)\n",
    "- [Deep Learning notes](https://chinmayhegde.github.io/dl-notes/notes/lecture02/#the-backpropagation-algorithm) [from this course](https://chinmayhegde.github.io/dl-notes/notes/lecture03/#automatic-differentiation)\n",
    "\n",
    "\n",
    "Let's start by importing some packages."
   ]
  },
  {
   "cell_type": "code",
   "execution_count": 30,
   "metadata": {
    "id": "gaPcTi2hWeus"
   },
   "outputs": [],
   "source": [
    "import math\n",
    "import random\n",
    "import numpy as np\n",
    "from graphviz import Digraph\n",
    "import matplotlib.pyplot as plt\n",
    "%matplotlib inline"
   ]
  },
  {
   "cell_type": "markdown",
   "metadata": {
    "id": "-sHDIh0Dotx_"
   },
   "source": [
    "Similar to the previous notebook, let's first start with a simple function where we can think of $f$ as being our loss function $L$ and $\\{a,b,c\\}$ as being our trainable network parameters $\\theta$. Let's also fix ourselves somewhere along this function."
   ]
  },
  {
   "cell_type": "markdown",
   "metadata": {
    "id": "ZX0R0cj-W4U7"
   },
   "source": [
    "## $f(a,b,c) = (a \\cdot b) + c$\n",
    "\n",
    "- $a = 2$\n",
    "- $b = -3$\n",
    "- $c = 10$\n",
    "\n",
    "We want the following values in order to run gradient descent and obtain a lower value of our loss function.\n",
    "- $\\partial f / \\partial a$\n",
    "- $\\partial f / \\partial b$\n",
    "- $\\partial f / \\partial c$\n",
    "\n"
   ]
  },
  {
   "cell_type": "code",
   "execution_count": 31,
   "metadata": {
    "colab": {
     "base_uri": "https://localhost:8080/"
    },
    "id": "qLD08hFfWws7",
    "outputId": "e2fc11d0-1fb2-4c2f-a1e8-3b81b8d971c5"
   },
   "outputs": [
    {
     "name": "stdout",
     "output_type": "stream",
     "text": [
      "f: 4.0\n"
     ]
    }
   ],
   "source": [
    "def f(a,b,c):\n",
    "    return a*b + c\n",
    "\n",
    "a = 2.0\n",
    "b = -3.0\n",
    "c = 10.0\n",
    "\n",
    "print(\"f:\", f(a,b,c))"
   ]
  },
  {
   "cell_type": "markdown",
   "metadata": {
    "id": "oMYNQy_Epyed"
   },
   "source": [
    "## Analytical Method\n",
    "We can use what we learned in calculus to find these derivatives by hand:"
   ]
  },
  {
   "cell_type": "code",
   "execution_count": 32,
   "metadata": {
    "colab": {
     "base_uri": "https://localhost:8080/"
    },
    "id": "85G0LmeWXRlo",
    "outputId": "51921ffd-7f02-4f13-ee78-1e88b65f9834"
   },
   "outputs": [
    {
     "name": "stdout",
     "output_type": "stream",
     "text": [
      "df/da: -3.0\n",
      "df/db: 2.0\n",
      "df/dc: 1\n"
     ]
    }
   ],
   "source": [
    "def df_da(a,b,c):\n",
    "    return b\n",
    "\n",
    "def df_db(a,b,c):\n",
    "    return a\n",
    "\n",
    "def df_dc(a,b,c):\n",
    "    return 1\n",
    "\n",
    "print(\"df/da:\", df_da(a,b,c))\n",
    "print(\"df/db:\", df_db(a,b,c))\n",
    "print(\"df/dc:\", df_dc(a,b,c))"
   ]
  },
  {
   "cell_type": "markdown",
   "metadata": {
    "id": "Q_OpAOSbp_Dy"
   },
   "source": [
    "## Numerical Method\n",
    "\n",
    "We could also approximate the derivatives using finite differences."
   ]
  },
  {
   "cell_type": "code",
   "execution_count": 33,
   "metadata": {
    "colab": {
     "base_uri": "https://localhost:8080/"
    },
    "id": "jELA61kzXb0j",
    "outputId": "9553b5a3-b77f-4895-f5d3-32602b744e61"
   },
   "outputs": [
    {
     "name": "stdout",
     "output_type": "stream",
     "text": [
      "df/da: -2.9999999995311555\n",
      "df/db: 1.9999999967268423\n",
      "df/dc: 0.999999993922529\n"
     ]
    }
   ],
   "source": [
    "h = 0.0000001\n",
    "\n",
    "num = f(a+h,b,c) - f(a,b,c)\n",
    "print(\"df/da:\",num/h)\n",
    "num = f(a,b+h,c) - f(a,b,c)\n",
    "print(\"df/db:\",num/h)\n",
    "num = f(a,b,c+h) - f(a,b,c)\n",
    "print(\"df/dc:\",num/h)"
   ]
  },
  {
   "cell_type": "markdown",
   "metadata": {
    "id": "qdAOQzrSX2Sz"
   },
   "source": [
    "## Key Takeaways\n",
    "For the above approaches,\n",
    "- works well for small computational graphs\n",
    "- numerical approach is approximate\n",
    "- take a lot of computation\n",
    "\n",
    "And so both methods won't scale well with neural networks that are composed of many *layers* and contain millions of parameters"
   ]
  },
  {
   "cell_type": "markdown",
   "metadata": {
    "id": "IWjbOR7UqNP7"
   },
   "source": [
    "Now, let's instantiate this same example in Torch and see how we calculate the derivatives."
   ]
  },
  {
   "cell_type": "code",
   "execution_count": 34,
   "metadata": {
    "colab": {
     "base_uri": "https://localhost:8080/"
    },
    "id": "k6Kf0prdXuP7",
    "outputId": "c4a87ae2-fa64-4cc1-860e-eae5fe5241e2"
   },
   "outputs": [
    {
     "name": "stdout",
     "output_type": "stream",
     "text": [
      "df/da: tensor([-3.])\n",
      "df/db: tensor([2.])\n",
      "df/dc: tensor([1.])\n"
     ]
    }
   ],
   "source": [
    "import torch\n",
    "ta = torch.tensor([2.0], requires_grad=True)\n",
    "tb = torch.tensor([-3.0], requires_grad=True)\n",
    "tc = torch.tensor([10.0], requires_grad=True)\n",
    "tf = (ta * tb ) + tc # forward pass\n",
    "tf.backward() # backprop\n",
    "print(\"df/da:\", ta.grad)\n",
    "print(\"df/db:\", tb.grad)\n",
    "print(\"df/dc:\", tc.grad) "
   ]
  },
  {
   "cell_type": "markdown",
   "metadata": {},
   "source": [
    "The grad values given by torch are in agreement with our manual calculations above."
   ]
  },
  {
   "cell_type": "markdown",
   "metadata": {
    "id": "JdAi1sEpqTKa"
   },
   "source": [
    "During the forward pass, torch builds a *computational graph* of our function. Then, the call to `backward()` performs backpropagation on this computational graph which calculates the derivatives at our input values! I find the following graphic (from Boaz Barak) useful in understanding backpropagation. \n",
    "\n",
    "<img src=\"https://windowsontheory.files.wordpress.com/2021/12/backprop.png?w=1024\" width=\"700\">\n",
    "\n",
    "The key idea is that the multivariate chain rule lets us compute $dz/du$ using only information about $u$'s children in the feedforward network. [This page from CS231n](https://cs231n.github.io/optimization-2/#backprop) along with its [lecture](https://youtu.be/i94OvYb6noo?t=322) walk through backprop on a simple computational graph. Let's build up our own **simplified** version of what torch is doing under the hood.\n",
    "\n",
    "### Building the `Value` class for backpropagation\n",
    "\n",
    "We'll start by building a class to easily store gradients and recursively calculate them.\n",
    "\n",
    "Once we've implemented it, our value function should behave as follows.\n",
    "\n",
    "```\n",
    "a = Value(4)\n",
    "print(a.grad) # 0\n",
    "def f(x): return x*x*x + x*x  # x^3 + x^2\n",
    "f(a).backward()\n",
    "print(a.grad) # 56 = 3*(x)**2 + 2x when x = 4\n",
    "```\n",
    "\n",
    "Let's iteratively building up our `Value` class."
   ]
  },
  {
   "cell_type": "markdown",
   "metadata": {
    "id": "VIQi4DyDsZN6"
   },
   "source": [
    "## Building `Value`: Step 1\n",
    "\n",
    "First, we will start by initializing our `Value` object with our data (we will just focus on `float` objects) and define methods for adding and multiplying two `Value` class. "
   ]
  },
  {
   "cell_type": "code",
   "execution_count": 35,
   "metadata": {
    "id": "3gq3kYD-Yglz"
   },
   "outputs": [],
   "source": [
    "class Value:\n",
    "    def __init__(self, data, label=''):\n",
    "        self.data = data\n",
    "        self.label = label\n",
    "\n",
    "    def __repr__(self):\n",
    "        return f\"Value(data={self.data})\"\n",
    "    \n",
    "    def __add__(self, other):\n",
    "        out = Value(self.data + other.data)\n",
    "        return out\n",
    "    \n",
    "    def __mul__(self, other):\n",
    "        out = Value(self.data * other.data)\n",
    "        return out"
   ]
  },
  {
   "cell_type": "markdown",
   "metadata": {
    "id": "qm4xPAwIvXSZ"
   },
   "source": [
    "At this point, we can add and multiply two value objects and also print them:"
   ]
  },
  {
   "cell_type": "code",
   "execution_count": 36,
   "metadata": {
    "colab": {
     "base_uri": "https://localhost:8080/"
    },
    "id": "G5WOQZJyvWum",
    "outputId": "2fdfe983-a0ad-47c3-c975-4e5d8d137cef"
   },
   "outputs": [
    {
     "name": "stdout",
     "output_type": "stream",
     "text": [
      "Value(data=3.0)\n",
      "Value(data=2.0)\n",
      "Value(data=5.0)\n",
      "Value(data=6.0)\n"
     ]
    }
   ],
   "source": [
    "a = Value(3.0, label='a')\n",
    "b = Value(2.0, label='b')\n",
    "c = a+b\n",
    "d = a*b\n",
    "\n",
    "# little hacky but works for the purpose of this notebook\n",
    "c.label = 'c'\n",
    "d.label = 'd'\n",
    "print(a)\n",
    "print(b)\n",
    "print(c)\n",
    "print(d)"
   ]
  },
  {
   "cell_type": "markdown",
   "metadata": {
    "id": "x7x-e0GywU-8"
   },
   "source": [
    "## Building `Value`: Step 2"
   ]
  },
  {
   "cell_type": "markdown",
   "metadata": {
    "id": "8tTE0-J-v0BF"
   },
   "source": [
    "However, we would like to build a computational graph similar to Torch. So let's add that functionality as well. When a new `Value` object is created in our computational graph, we need to keep track of what `Value` nodes were used to create it (`_children`). We will also keep a track of what mathematical operation was used to create our new `Value` node (`_op`). Finally, we will have a `grad` attribute (similar to Torch's)."
   ]
  },
  {
   "cell_type": "code",
   "execution_count": 37,
   "metadata": {
    "id": "Ud-0U-oXwS6K"
   },
   "outputs": [],
   "source": [
    "class Value:\n",
    "    def __init__(self, data, _children = (), _op = '', label=''):\n",
    "        self.data = data\n",
    "        self.grad = 0\n",
    "        self.label = label\n",
    "        self._prev = set(_children)\n",
    "        self._op = _op\n",
    "\n",
    "    def __repr__(self):\n",
    "        return f\"Value(data={self.data})\"\n",
    "\n",
    "    def __add__(self, other):\n",
    "        out = Value(self.data + other.data, _children=(self, other), _op='+')\n",
    "        return out\n",
    "\n",
    "    def __mul__(self, other):\n",
    "        out = Value(self.data * other.data, _children=(self, other), _op='*')\n",
    "        return out"
   ]
  },
  {
   "cell_type": "markdown",
   "metadata": {
    "id": "WzV0pNdXx7X8"
   },
   "source": [
    "At this point, we can build up a computation graph, keep a track of children / parent nodes. Let's add in some code to draw this information. The following cell uses `graphviz` to plot our computational graphs."
   ]
  },
  {
   "cell_type": "code",
   "execution_count": 38,
   "metadata": {
    "id": "VneXHQCDae6x"
   },
   "outputs": [],
   "source": [
    "## you can ignore this cell; just used for plotting our graphs\n",
    "from graphviz import Digraph\n",
    "\n",
    "def trace(root):\n",
    "  # builds a set of all nodes and edges in a graph\n",
    "    nodes, edges = set(), set()\n",
    "    def build(v):\n",
    "        if v not in nodes:\n",
    "            nodes.add(v)\n",
    "            for child in v._prev:\n",
    "                edges.add((child, v))\n",
    "                build(child)\n",
    "    build(root)\n",
    "    return nodes, edges\n",
    "\n",
    "def draw_dot(root):\n",
    "    dot = Digraph(format='svg', graph_attr={'rankdir': 'LR'}) # LR = left to right\n",
    "    nodes, edges = trace(root)\n",
    "    \n",
    "    for n in nodes:\n",
    "        uid = str(id(n))\n",
    "        # for any value in the graph, create a rectangular ('record') node for it\n",
    "        # dot.node(name = uid, label = \"{ %s | data %.4f }\" % (n.label, n.data), shape='record')\n",
    "        dot.node(name = uid, label = \"{ %s | data %.4f | grad %.4f }\" % (n.label, n.data, n.grad), shape='record')\n",
    "        if n._op:\n",
    "            # if this value is a result of some operation, create an op node for it\n",
    "            dot.node(name = uid + n._op, label = n._op)\n",
    "            # and connect this node to it\n",
    "            dot.edge(uid + n._op, uid)\n",
    "\n",
    "    for n1, n2 in edges:\n",
    "        # connect n1 to the op node of n2\n",
    "        dot.edge(str(id(n1)), str(id(n2)) + n2._op)\n",
    "\n",
    "    return dot"
   ]
  },
  {
   "cell_type": "markdown",
   "metadata": {
    "id": "Kj_TggzKzMXW"
   },
   "source": [
    "Now, let's draw the example function we have been working with! We are going to break down our function into its basic building blocks: additions and multiplications. We will also name the intermediate values."
   ]
  },
  {
   "cell_type": "code",
   "execution_count": 39,
   "metadata": {
    "colab": {
     "base_uri": "https://localhost:8080/",
     "height": 211
    },
    "id": "GsRhelx9bOCS",
    "outputId": "ae35f151-c9c6-4fe3-ab87-04d1b76b85ef"
   },
   "outputs": [
    {
     "name": "stdout",
     "output_type": "stream",
     "text": [
      "Value(data=4.0)\n"
     ]
    },
    {
     "data": {
      "image/svg+xml": [
       "<?xml version=\"1.0\" encoding=\"UTF-8\" standalone=\"no\"?>\n",
       "<!DOCTYPE svg PUBLIC \"-//W3C//DTD SVG 1.1//EN\"\n",
       " \"http://www.w3.org/Graphics/SVG/1.1/DTD/svg11.dtd\">\n",
       "<!-- Generated by graphviz version 7.0.4 (20221203.1631)\n",
       " -->\n",
       "<!-- Pages: 1 -->\n",
       "<svg width=\"827pt\" height=\"128pt\"\n",
       " viewBox=\"0.00 0.00 827.00 128.00\" xmlns=\"http://www.w3.org/2000/svg\" xmlns:xlink=\"http://www.w3.org/1999/xlink\">\n",
       "<g id=\"graph0\" class=\"graph\" transform=\"scale(1 1) rotate(0) translate(4 124)\">\n",
       "<polygon fill=\"white\" stroke=\"none\" points=\"-4,4 -4,-124 823,-124 823,4 -4,4\"/>\n",
       "<!-- 140444262481424 -->\n",
       "<g id=\"node1\" class=\"node\">\n",
       "<title>140444262481424</title>\n",
       "<polygon fill=\"none\" stroke=\"black\" points=\"0,-83.5 0,-119.5 190,-119.5 190,-83.5 0,-83.5\"/>\n",
       "<text text-anchor=\"middle\" x=\"11.5\" y=\"-97.8\" font-family=\"Times,serif\" font-size=\"14.00\">b</text>\n",
       "<polyline fill=\"none\" stroke=\"black\" points=\"23,-83.5 23,-119.5\"/>\n",
       "<text text-anchor=\"middle\" x=\"65.5\" y=\"-97.8\" font-family=\"Times,serif\" font-size=\"14.00\">data &#45;3.0000</text>\n",
       "<polyline fill=\"none\" stroke=\"black\" points=\"108,-83.5 108,-119.5\"/>\n",
       "<text text-anchor=\"middle\" x=\"149\" y=\"-97.8\" font-family=\"Times,serif\" font-size=\"14.00\">grad 0.0000</text>\n",
       "</g>\n",
       "<!-- 140444262498512* -->\n",
       "<g id=\"node3\" class=\"node\">\n",
       "<title>140444262498512*</title>\n",
       "<ellipse fill=\"none\" stroke=\"black\" cx=\"253\" cy=\"-73.5\" rx=\"27\" ry=\"18\"/>\n",
       "<text text-anchor=\"middle\" x=\"253\" y=\"-69.8\" font-family=\"Times,serif\" font-size=\"14.00\">*</text>\n",
       "</g>\n",
       "<!-- 140444262481424&#45;&gt;140444262498512* -->\n",
       "<g id=\"edge5\" class=\"edge\">\n",
       "<title>140444262481424&#45;&gt;140444262498512*</title>\n",
       "<path fill=\"none\" stroke=\"black\" d=\"M189.9,-84.65C198.81,-83.05 207.43,-81.5 215.28,-80.09\"/>\n",
       "<polygon fill=\"black\" stroke=\"black\" points=\"215.8,-83.55 225.02,-78.34 214.56,-76.66 215.8,-83.55\"/>\n",
       "</g>\n",
       "<!-- 140444262498512 -->\n",
       "<g id=\"node2\" class=\"node\">\n",
       "<title>140444262498512</title>\n",
       "<polygon fill=\"none\" stroke=\"black\" points=\"317,-55.5 317,-91.5 507,-91.5 507,-55.5 317,-55.5\"/>\n",
       "<text text-anchor=\"middle\" x=\"328.5\" y=\"-69.8\" font-family=\"Times,serif\" font-size=\"14.00\">e</text>\n",
       "<polyline fill=\"none\" stroke=\"black\" points=\"340,-55.5 340,-91.5\"/>\n",
       "<text text-anchor=\"middle\" x=\"382.5\" y=\"-69.8\" font-family=\"Times,serif\" font-size=\"14.00\">data &#45;6.0000</text>\n",
       "<polyline fill=\"none\" stroke=\"black\" points=\"425,-55.5 425,-91.5\"/>\n",
       "<text text-anchor=\"middle\" x=\"466\" y=\"-69.8\" font-family=\"Times,serif\" font-size=\"14.00\">grad 0.0000</text>\n",
       "</g>\n",
       "<!-- 140444262481808+ -->\n",
       "<g id=\"node7\" class=\"node\">\n",
       "<title>140444262481808+</title>\n",
       "<ellipse fill=\"none\" stroke=\"black\" cx=\"571\" cy=\"-45.5\" rx=\"27\" ry=\"18\"/>\n",
       "<text text-anchor=\"middle\" x=\"571\" y=\"-41.8\" font-family=\"Times,serif\" font-size=\"14.00\">+</text>\n",
       "</g>\n",
       "<!-- 140444262498512&#45;&gt;140444262481808+ -->\n",
       "<g id=\"edge4\" class=\"edge\">\n",
       "<title>140444262498512&#45;&gt;140444262481808+</title>\n",
       "<path fill=\"none\" stroke=\"black\" d=\"M506.59,-56.81C516.06,-55.12 525.22,-53.49 533.49,-52.01\"/>\n",
       "<polygon fill=\"black\" stroke=\"black\" points=\"533.82,-55.51 543.05,-50.31 532.59,-48.62 533.82,-55.51\"/>\n",
       "</g>\n",
       "<!-- 140444262498512*&#45;&gt;140444262498512 -->\n",
       "<g id=\"edge1\" class=\"edge\">\n",
       "<title>140444262498512*&#45;&gt;140444262498512</title>\n",
       "<path fill=\"none\" stroke=\"black\" d=\"M280.28,-73.5C287.79,-73.5 296.46,-73.5 305.7,-73.5\"/>\n",
       "<polygon fill=\"black\" stroke=\"black\" points=\"305.7,-77 315.7,-73.5 305.7,-70 305.7,-77\"/>\n",
       "</g>\n",
       "<!-- 140444262481616 -->\n",
       "<g id=\"node4\" class=\"node\">\n",
       "<title>140444262481616</title>\n",
       "<polygon fill=\"none\" stroke=\"black\" points=\"2.5,-28.5 2.5,-64.5 187.5,-64.5 187.5,-28.5 2.5,-28.5\"/>\n",
       "<text text-anchor=\"middle\" x=\"14\" y=\"-42.8\" font-family=\"Times,serif\" font-size=\"14.00\">a</text>\n",
       "<polyline fill=\"none\" stroke=\"black\" points=\"25.5,-28.5 25.5,-64.5\"/>\n",
       "<text text-anchor=\"middle\" x=\"65.5\" y=\"-42.8\" font-family=\"Times,serif\" font-size=\"14.00\">data 2.0000</text>\n",
       "<polyline fill=\"none\" stroke=\"black\" points=\"105.5,-28.5 105.5,-64.5\"/>\n",
       "<text text-anchor=\"middle\" x=\"146.5\" y=\"-42.8\" font-family=\"Times,serif\" font-size=\"14.00\">grad 0.0000</text>\n",
       "</g>\n",
       "<!-- 140444262481616&#45;&gt;140444262498512* -->\n",
       "<g id=\"edge6\" class=\"edge\">\n",
       "<title>140444262481616&#45;&gt;140444262498512*</title>\n",
       "<path fill=\"none\" stroke=\"black\" d=\"M187.2,-62.28C197.1,-64 206.71,-65.66 215.36,-67.16\"/>\n",
       "<polygon fill=\"black\" stroke=\"black\" points=\"214.57,-70.57 225.02,-68.83 215.76,-63.68 214.57,-70.57\"/>\n",
       "</g>\n",
       "<!-- 140444262498640 -->\n",
       "<g id=\"node5\" class=\"node\">\n",
       "<title>140444262498640</title>\n",
       "<polygon fill=\"none\" stroke=\"black\" points=\"316,-0.5 316,-36.5 508,-36.5 508,-0.5 316,-0.5\"/>\n",
       "<text text-anchor=\"middle\" x=\"327.5\" y=\"-14.8\" font-family=\"Times,serif\" font-size=\"14.00\">c</text>\n",
       "<polyline fill=\"none\" stroke=\"black\" points=\"339,-0.5 339,-36.5\"/>\n",
       "<text text-anchor=\"middle\" x=\"382.5\" y=\"-14.8\" font-family=\"Times,serif\" font-size=\"14.00\">data 10.0000</text>\n",
       "<polyline fill=\"none\" stroke=\"black\" points=\"426,-0.5 426,-36.5\"/>\n",
       "<text text-anchor=\"middle\" x=\"467\" y=\"-14.8\" font-family=\"Times,serif\" font-size=\"14.00\">grad 0.0000</text>\n",
       "</g>\n",
       "<!-- 140444262498640&#45;&gt;140444262481808+ -->\n",
       "<g id=\"edge3\" class=\"edge\">\n",
       "<title>140444262498640&#45;&gt;140444262481808+</title>\n",
       "<path fill=\"none\" stroke=\"black\" d=\"M507.95,-34.83C516.87,-36.36 525.49,-37.85 533.33,-39.19\"/>\n",
       "<polygon fill=\"black\" stroke=\"black\" points=\"532.62,-42.62 543.07,-40.87 533.8,-35.72 532.62,-42.62\"/>\n",
       "</g>\n",
       "<!-- 140444262481808 -->\n",
       "<g id=\"node6\" class=\"node\">\n",
       "<title>140444262481808</title>\n",
       "<polygon fill=\"none\" stroke=\"black\" points=\"634,-27.5 634,-63.5 819,-63.5 819,-27.5 634,-27.5\"/>\n",
       "<text text-anchor=\"middle\" x=\"645.5\" y=\"-41.8\" font-family=\"Times,serif\" font-size=\"14.00\">d</text>\n",
       "<polyline fill=\"none\" stroke=\"black\" points=\"657,-27.5 657,-63.5\"/>\n",
       "<text text-anchor=\"middle\" x=\"697\" y=\"-41.8\" font-family=\"Times,serif\" font-size=\"14.00\">data 4.0000</text>\n",
       "<polyline fill=\"none\" stroke=\"black\" points=\"737,-27.5 737,-63.5\"/>\n",
       "<text text-anchor=\"middle\" x=\"778\" y=\"-41.8\" font-family=\"Times,serif\" font-size=\"14.00\">grad 0.0000</text>\n",
       "</g>\n",
       "<!-- 140444262481808+&#45;&gt;140444262481808 -->\n",
       "<g id=\"edge2\" class=\"edge\">\n",
       "<title>140444262481808+&#45;&gt;140444262481808</title>\n",
       "<path fill=\"none\" stroke=\"black\" d=\"M598.39,-45.5C605.62,-45.5 613.92,-45.5 622.74,-45.5\"/>\n",
       "<polygon fill=\"black\" stroke=\"black\" points=\"622.64,-49 632.64,-45.5 622.64,-42 622.64,-49\"/>\n",
       "</g>\n",
       "</g>\n",
       "</svg>\n"
      ],
      "text/plain": [
       "<graphviz.graphs.Digraph at 0x7fbbba6082d0>"
      ]
     },
     "execution_count": 39,
     "metadata": {},
     "output_type": "execute_result"
    }
   ],
   "source": [
    "a = Value(2.0, label='a')\n",
    "b = Value(-3.0, label='b')\n",
    "c = Value(10.0, label='c')\n",
    "e = a*b; e.label='e'\n",
    "d = e + c; \n",
    "d.label='d'\n",
    "print(d)\n",
    "draw_dot(d)"
   ]
  },
  {
   "cell_type": "markdown",
   "metadata": {
    "id": "ItPlQMVA0MFX"
   },
   "source": [
    "We can see that our function is now represented as a computational graph and each `Value` object has its associated `data` attribute filled in. The final `Value` node `d` contains the evaluation of calling this function on our specified inputs: `d.data = 4`. This is essentially performing a forward pass with our inputs. Let's add one more layer of complexity to our function."
   ]
  },
  {
   "cell_type": "code",
   "execution_count": 40,
   "metadata": {
    "colab": {
     "base_uri": "https://localhost:8080/",
     "height": 213
    },
    "id": "-h-7PHXKbT4I",
    "outputId": "2731fb75-29f0-476f-8bb7-faac09d4c5db"
   },
   "outputs": [
    {
     "data": {
      "image/svg+xml": [
       "<?xml version=\"1.0\" encoding=\"UTF-8\" standalone=\"no\"?>\n",
       "<!DOCTYPE svg PUBLIC \"-//W3C//DTD SVG 1.1//EN\"\n",
       " \"http://www.w3.org/Graphics/SVG/1.1/DTD/svg11.dtd\">\n",
       "<!-- Generated by graphviz version 7.0.4 (20221203.1631)\n",
       " -->\n",
       "<!-- Pages: 1 -->\n",
       "<svg width=\"1148pt\" height=\"156pt\"\n",
       " viewBox=\"0.00 0.00 1148.00 156.00\" xmlns=\"http://www.w3.org/2000/svg\" xmlns:xlink=\"http://www.w3.org/1999/xlink\">\n",
       "<g id=\"graph0\" class=\"graph\" transform=\"scale(1 1) rotate(0) translate(4 152)\">\n",
       "<polygon fill=\"white\" stroke=\"none\" points=\"-4,4 -4,-152 1144,-152 1144,4 -4,4\"/>\n",
       "<!-- 140444261283792 -->\n",
       "<g id=\"node1\" class=\"node\">\n",
       "<title>140444261283792</title>\n",
       "<polygon fill=\"none\" stroke=\"black\" points=\"2.5,-111.5 2.5,-147.5 187.5,-147.5 187.5,-111.5 2.5,-111.5\"/>\n",
       "<text text-anchor=\"middle\" x=\"14\" y=\"-125.8\" font-family=\"Times,serif\" font-size=\"14.00\">a</text>\n",
       "<polyline fill=\"none\" stroke=\"black\" points=\"25.5,-111.5 25.5,-147.5\"/>\n",
       "<text text-anchor=\"middle\" x=\"65.5\" y=\"-125.8\" font-family=\"Times,serif\" font-size=\"14.00\">data 2.0000</text>\n",
       "<polyline fill=\"none\" stroke=\"black\" points=\"105.5,-111.5 105.5,-147.5\"/>\n",
       "<text text-anchor=\"middle\" x=\"146.5\" y=\"-125.8\" font-family=\"Times,serif\" font-size=\"14.00\">grad 0.0000</text>\n",
       "</g>\n",
       "<!-- 140444261284816* -->\n",
       "<g id=\"node3\" class=\"node\">\n",
       "<title>140444261284816*</title>\n",
       "<ellipse fill=\"none\" stroke=\"black\" cx=\"253\" cy=\"-101.5\" rx=\"27\" ry=\"18\"/>\n",
       "<text text-anchor=\"middle\" x=\"253\" y=\"-97.8\" font-family=\"Times,serif\" font-size=\"14.00\">*</text>\n",
       "</g>\n",
       "<!-- 140444261283792&#45;&gt;140444261284816* -->\n",
       "<g id=\"edge6\" class=\"edge\">\n",
       "<title>140444261283792&#45;&gt;140444261284816*</title>\n",
       "<path fill=\"none\" stroke=\"black\" d=\"M187.2,-113.13C197.1,-111.35 206.71,-109.63 215.36,-108.08\"/>\n",
       "<polygon fill=\"black\" stroke=\"black\" points=\"215.79,-111.55 225.02,-106.34 214.56,-104.66 215.79,-111.55\"/>\n",
       "</g>\n",
       "<!-- 140444261284816 -->\n",
       "<g id=\"node2\" class=\"node\">\n",
       "<title>140444261284816</title>\n",
       "<polygon fill=\"none\" stroke=\"black\" points=\"317,-83.5 317,-119.5 507,-119.5 507,-83.5 317,-83.5\"/>\n",
       "<text text-anchor=\"middle\" x=\"328.5\" y=\"-97.8\" font-family=\"Times,serif\" font-size=\"14.00\">e</text>\n",
       "<polyline fill=\"none\" stroke=\"black\" points=\"340,-83.5 340,-119.5\"/>\n",
       "<text text-anchor=\"middle\" x=\"382.5\" y=\"-97.8\" font-family=\"Times,serif\" font-size=\"14.00\">data &#45;6.0000</text>\n",
       "<polyline fill=\"none\" stroke=\"black\" points=\"425,-83.5 425,-119.5\"/>\n",
       "<text text-anchor=\"middle\" x=\"466\" y=\"-97.8\" font-family=\"Times,serif\" font-size=\"14.00\">grad 0.0000</text>\n",
       "</g>\n",
       "<!-- 140444262552016+ -->\n",
       "<g id=\"node10\" class=\"node\">\n",
       "<title>140444262552016+</title>\n",
       "<ellipse fill=\"none\" stroke=\"black\" cx=\"571\" cy=\"-73.5\" rx=\"27\" ry=\"18\"/>\n",
       "<text text-anchor=\"middle\" x=\"571\" y=\"-69.8\" font-family=\"Times,serif\" font-size=\"14.00\">+</text>\n",
       "</g>\n",
       "<!-- 140444261284816&#45;&gt;140444262552016+ -->\n",
       "<g id=\"edge5\" class=\"edge\">\n",
       "<title>140444261284816&#45;&gt;140444262552016+</title>\n",
       "<path fill=\"none\" stroke=\"black\" d=\"M506.59,-84.81C516.06,-83.12 525.22,-81.49 533.49,-80.01\"/>\n",
       "<polygon fill=\"black\" stroke=\"black\" points=\"533.82,-83.51 543.05,-78.31 532.59,-76.62 533.82,-83.51\"/>\n",
       "</g>\n",
       "<!-- 140444261284816*&#45;&gt;140444261284816 -->\n",
       "<g id=\"edge1\" class=\"edge\">\n",
       "<title>140444261284816*&#45;&gt;140444261284816</title>\n",
       "<path fill=\"none\" stroke=\"black\" d=\"M280.28,-101.5C287.79,-101.5 296.46,-101.5 305.7,-101.5\"/>\n",
       "<polygon fill=\"black\" stroke=\"black\" points=\"305.7,-105 315.7,-101.5 305.7,-98 305.7,-105\"/>\n",
       "</g>\n",
       "<!-- 140444261283088 -->\n",
       "<g id=\"node4\" class=\"node\">\n",
       "<title>140444261283088</title>\n",
       "<polygon fill=\"none\" stroke=\"black\" points=\"316,-28.5 316,-64.5 508,-64.5 508,-28.5 316,-28.5\"/>\n",
       "<text text-anchor=\"middle\" x=\"327.5\" y=\"-42.8\" font-family=\"Times,serif\" font-size=\"14.00\">c</text>\n",
       "<polyline fill=\"none\" stroke=\"black\" points=\"339,-28.5 339,-64.5\"/>\n",
       "<text text-anchor=\"middle\" x=\"382.5\" y=\"-42.8\" font-family=\"Times,serif\" font-size=\"14.00\">data 10.0000</text>\n",
       "<polyline fill=\"none\" stroke=\"black\" points=\"426,-28.5 426,-64.5\"/>\n",
       "<text text-anchor=\"middle\" x=\"467\" y=\"-42.8\" font-family=\"Times,serif\" font-size=\"14.00\">grad 0.0000</text>\n",
       "</g>\n",
       "<!-- 140444261283088&#45;&gt;140444262552016+ -->\n",
       "<g id=\"edge7\" class=\"edge\">\n",
       "<title>140444261283088&#45;&gt;140444262552016+</title>\n",
       "<path fill=\"none\" stroke=\"black\" d=\"M507.95,-62.83C516.87,-64.36 525.49,-65.85 533.33,-67.19\"/>\n",
       "<polygon fill=\"black\" stroke=\"black\" points=\"532.62,-70.62 543.07,-68.87 533.8,-63.72 532.62,-70.62\"/>\n",
       "</g>\n",
       "<!-- 140444262551824 -->\n",
       "<g id=\"node5\" class=\"node\">\n",
       "<title>140444262551824</title>\n",
       "<polygon fill=\"none\" stroke=\"black\" points=\"948,-27.5 948,-63.5 1140,-63.5 1140,-27.5 948,-27.5\"/>\n",
       "<text text-anchor=\"middle\" x=\"960.5\" y=\"-41.8\" font-family=\"Times,serif\" font-size=\"14.00\">L</text>\n",
       "<polyline fill=\"none\" stroke=\"black\" points=\"973,-27.5 973,-63.5\"/>\n",
       "<text text-anchor=\"middle\" x=\"1015.5\" y=\"-41.8\" font-family=\"Times,serif\" font-size=\"14.00\">data &#45;8.0000</text>\n",
       "<polyline fill=\"none\" stroke=\"black\" points=\"1058,-27.5 1058,-63.5\"/>\n",
       "<text text-anchor=\"middle\" x=\"1099\" y=\"-41.8\" font-family=\"Times,serif\" font-size=\"14.00\">grad 0.0000</text>\n",
       "</g>\n",
       "<!-- 140444262551824* -->\n",
       "<g id=\"node6\" class=\"node\">\n",
       "<title>140444262551824*</title>\n",
       "<ellipse fill=\"none\" stroke=\"black\" cx=\"885\" cy=\"-45.5\" rx=\"27\" ry=\"18\"/>\n",
       "<text text-anchor=\"middle\" x=\"885\" y=\"-41.8\" font-family=\"Times,serif\" font-size=\"14.00\">*</text>\n",
       "</g>\n",
       "<!-- 140444262551824*&#45;&gt;140444262551824 -->\n",
       "<g id=\"edge2\" class=\"edge\">\n",
       "<title>140444262551824*&#45;&gt;140444262551824</title>\n",
       "<path fill=\"none\" stroke=\"black\" d=\"M912.28,-45.5C919.52,-45.5 927.85,-45.5 936.72,-45.5\"/>\n",
       "<polygon fill=\"black\" stroke=\"black\" points=\"936.69,-49 946.69,-45.5 936.69,-42 936.69,-49\"/>\n",
       "</g>\n",
       "<!-- 140444262551888 -->\n",
       "<g id=\"node7\" class=\"node\">\n",
       "<title>140444262551888</title>\n",
       "<polygon fill=\"none\" stroke=\"black\" points=\"634,-0.5 634,-36.5 822,-36.5 822,-0.5 634,-0.5\"/>\n",
       "<text text-anchor=\"middle\" x=\"644.5\" y=\"-14.8\" font-family=\"Times,serif\" font-size=\"14.00\">f</text>\n",
       "<polyline fill=\"none\" stroke=\"black\" points=\"655,-0.5 655,-36.5\"/>\n",
       "<text text-anchor=\"middle\" x=\"697.5\" y=\"-14.8\" font-family=\"Times,serif\" font-size=\"14.00\">data &#45;2.0000</text>\n",
       "<polyline fill=\"none\" stroke=\"black\" points=\"740,-0.5 740,-36.5\"/>\n",
       "<text text-anchor=\"middle\" x=\"781\" y=\"-14.8\" font-family=\"Times,serif\" font-size=\"14.00\">grad 0.0000</text>\n",
       "</g>\n",
       "<!-- 140444262551888&#45;&gt;140444262551824* -->\n",
       "<g id=\"edge9\" class=\"edge\">\n",
       "<title>140444262551888&#45;&gt;140444262551824*</title>\n",
       "<path fill=\"none\" stroke=\"black\" d=\"M821.85,-34.67C830.75,-36.22 839.38,-37.73 847.22,-39.09\"/>\n",
       "<polygon fill=\"black\" stroke=\"black\" points=\"846.53,-42.53 856.98,-40.79 847.73,-35.63 846.53,-42.53\"/>\n",
       "</g>\n",
       "<!-- 140444261284176 -->\n",
       "<g id=\"node8\" class=\"node\">\n",
       "<title>140444261284176</title>\n",
       "<polygon fill=\"none\" stroke=\"black\" points=\"0,-56.5 0,-92.5 190,-92.5 190,-56.5 0,-56.5\"/>\n",
       "<text text-anchor=\"middle\" x=\"11.5\" y=\"-70.8\" font-family=\"Times,serif\" font-size=\"14.00\">b</text>\n",
       "<polyline fill=\"none\" stroke=\"black\" points=\"23,-56.5 23,-92.5\"/>\n",
       "<text text-anchor=\"middle\" x=\"65.5\" y=\"-70.8\" font-family=\"Times,serif\" font-size=\"14.00\">data &#45;3.0000</text>\n",
       "<polyline fill=\"none\" stroke=\"black\" points=\"108,-56.5 108,-92.5\"/>\n",
       "<text text-anchor=\"middle\" x=\"149\" y=\"-70.8\" font-family=\"Times,serif\" font-size=\"14.00\">grad 0.0000</text>\n",
       "</g>\n",
       "<!-- 140444261284176&#45;&gt;140444261284816* -->\n",
       "<g id=\"edge8\" class=\"edge\">\n",
       "<title>140444261284176&#45;&gt;140444261284816*</title>\n",
       "<path fill=\"none\" stroke=\"black\" d=\"M189.9,-90.75C198.81,-92.29 207.43,-93.79 215.28,-95.14\"/>\n",
       "<polygon fill=\"black\" stroke=\"black\" points=\"214.57,-98.57 225.02,-96.83 215.76,-91.68 214.57,-98.57\"/>\n",
       "</g>\n",
       "<!-- 140444262552016 -->\n",
       "<g id=\"node9\" class=\"node\">\n",
       "<title>140444262552016</title>\n",
       "<polygon fill=\"none\" stroke=\"black\" points=\"635.5,-55.5 635.5,-91.5 820.5,-91.5 820.5,-55.5 635.5,-55.5\"/>\n",
       "<text text-anchor=\"middle\" x=\"647\" y=\"-69.8\" font-family=\"Times,serif\" font-size=\"14.00\">d</text>\n",
       "<polyline fill=\"none\" stroke=\"black\" points=\"658.5,-55.5 658.5,-91.5\"/>\n",
       "<text text-anchor=\"middle\" x=\"698.5\" y=\"-69.8\" font-family=\"Times,serif\" font-size=\"14.00\">data 4.0000</text>\n",
       "<polyline fill=\"none\" stroke=\"black\" points=\"738.5,-55.5 738.5,-91.5\"/>\n",
       "<text text-anchor=\"middle\" x=\"779.5\" y=\"-69.8\" font-family=\"Times,serif\" font-size=\"14.00\">grad 0.0000</text>\n",
       "</g>\n",
       "<!-- 140444262552016&#45;&gt;140444262551824* -->\n",
       "<g id=\"edge4\" class=\"edge\">\n",
       "<title>140444262552016&#45;&gt;140444262551824*</title>\n",
       "<path fill=\"none\" stroke=\"black\" d=\"M820.06,-57.05C829.65,-55.32 838.94,-53.64 847.35,-52.12\"/>\n",
       "<polygon fill=\"black\" stroke=\"black\" points=\"847.86,-55.59 857.08,-50.36 846.61,-48.7 847.86,-55.59\"/>\n",
       "</g>\n",
       "<!-- 140444262552016+&#45;&gt;140444262552016 -->\n",
       "<g id=\"edge3\" class=\"edge\">\n",
       "<title>140444262552016+&#45;&gt;140444262552016</title>\n",
       "<path fill=\"none\" stroke=\"black\" d=\"M598.29,-73.5C605.99,-73.5 614.91,-73.5 624.39,-73.5\"/>\n",
       "<polygon fill=\"black\" stroke=\"black\" points=\"624.22,-77 634.22,-73.5 624.22,-70 624.22,-77\"/>\n",
       "</g>\n",
       "</g>\n",
       "</svg>\n"
      ],
      "text/plain": [
       "<graphviz.graphs.Digraph at 0x7fbbba615090>"
      ]
     },
     "execution_count": 40,
     "metadata": {},
     "output_type": "execute_result"
    }
   ],
   "source": [
    "a = Value(2.0, label='a')\n",
    "b = Value(-3.0, label='b')\n",
    "c = Value(10.0, label='c')\n",
    "e = a*b; e.label='e'\n",
    "d = e + c;\n",
    "d.label='d'\n",
    "f = Value(-2.0, label='f')\n",
    "L = d * f\n",
    "L.label='L'\n",
    "draw_dot(L)"
   ]
  },
  {
   "cell_type": "markdown",
   "metadata": {
    "id": "1Ux8J9mL05-_"
   },
   "source": [
    "At this point, we would like to fill in the `grad` attributes using backpropagation. Let's walk through backpropagation step-by-step, and then add the functionality to our `Value` class."
   ]
  },
  {
   "cell_type": "markdown",
   "metadata": {
    "id": "GOV2hENQ1im7"
   },
   "source": [
    "### $\\frac{dL}{dL}$\n",
    "\n",
    "We start with the final `Value` node in our graph: $\\frac{dL}{dL}$. This is the base case and $\\frac{dL}{dL}$ is just 1! So let's fill that in and redraw."
   ]
  },
  {
   "cell_type": "code",
   "execution_count": 41,
   "metadata": {
    "colab": {
     "base_uri": "https://localhost:8080/",
     "height": 213
    },
    "id": "wNidlyHg1u8Q",
    "outputId": "5a76c202-f147-41a7-c357-3477cc96304b"
   },
   "outputs": [
    {
     "data": {
      "image/svg+xml": [
       "<?xml version=\"1.0\" encoding=\"UTF-8\" standalone=\"no\"?>\n",
       "<!DOCTYPE svg PUBLIC \"-//W3C//DTD SVG 1.1//EN\"\n",
       " \"http://www.w3.org/Graphics/SVG/1.1/DTD/svg11.dtd\">\n",
       "<!-- Generated by graphviz version 7.0.4 (20221203.1631)\n",
       " -->\n",
       "<!-- Pages: 1 -->\n",
       "<svg width=\"1148pt\" height=\"156pt\"\n",
       " viewBox=\"0.00 0.00 1148.00 156.00\" xmlns=\"http://www.w3.org/2000/svg\" xmlns:xlink=\"http://www.w3.org/1999/xlink\">\n",
       "<g id=\"graph0\" class=\"graph\" transform=\"scale(1 1) rotate(0) translate(4 152)\">\n",
       "<polygon fill=\"white\" stroke=\"none\" points=\"-4,4 -4,-152 1144,-152 1144,4 -4,4\"/>\n",
       "<!-- 140444261283792 -->\n",
       "<g id=\"node1\" class=\"node\">\n",
       "<title>140444261283792</title>\n",
       "<polygon fill=\"none\" stroke=\"black\" points=\"2.5,-111.5 2.5,-147.5 187.5,-147.5 187.5,-111.5 2.5,-111.5\"/>\n",
       "<text text-anchor=\"middle\" x=\"14\" y=\"-125.8\" font-family=\"Times,serif\" font-size=\"14.00\">a</text>\n",
       "<polyline fill=\"none\" stroke=\"black\" points=\"25.5,-111.5 25.5,-147.5\"/>\n",
       "<text text-anchor=\"middle\" x=\"65.5\" y=\"-125.8\" font-family=\"Times,serif\" font-size=\"14.00\">data 2.0000</text>\n",
       "<polyline fill=\"none\" stroke=\"black\" points=\"105.5,-111.5 105.5,-147.5\"/>\n",
       "<text text-anchor=\"middle\" x=\"146.5\" y=\"-125.8\" font-family=\"Times,serif\" font-size=\"14.00\">grad 0.0000</text>\n",
       "</g>\n",
       "<!-- 140444261284816* -->\n",
       "<g id=\"node3\" class=\"node\">\n",
       "<title>140444261284816*</title>\n",
       "<ellipse fill=\"none\" stroke=\"black\" cx=\"253\" cy=\"-101.5\" rx=\"27\" ry=\"18\"/>\n",
       "<text text-anchor=\"middle\" x=\"253\" y=\"-97.8\" font-family=\"Times,serif\" font-size=\"14.00\">*</text>\n",
       "</g>\n",
       "<!-- 140444261283792&#45;&gt;140444261284816* -->\n",
       "<g id=\"edge6\" class=\"edge\">\n",
       "<title>140444261283792&#45;&gt;140444261284816*</title>\n",
       "<path fill=\"none\" stroke=\"black\" d=\"M187.2,-113.13C197.1,-111.35 206.71,-109.63 215.36,-108.08\"/>\n",
       "<polygon fill=\"black\" stroke=\"black\" points=\"215.79,-111.55 225.02,-106.34 214.56,-104.66 215.79,-111.55\"/>\n",
       "</g>\n",
       "<!-- 140444261284816 -->\n",
       "<g id=\"node2\" class=\"node\">\n",
       "<title>140444261284816</title>\n",
       "<polygon fill=\"none\" stroke=\"black\" points=\"317,-83.5 317,-119.5 507,-119.5 507,-83.5 317,-83.5\"/>\n",
       "<text text-anchor=\"middle\" x=\"328.5\" y=\"-97.8\" font-family=\"Times,serif\" font-size=\"14.00\">e</text>\n",
       "<polyline fill=\"none\" stroke=\"black\" points=\"340,-83.5 340,-119.5\"/>\n",
       "<text text-anchor=\"middle\" x=\"382.5\" y=\"-97.8\" font-family=\"Times,serif\" font-size=\"14.00\">data &#45;6.0000</text>\n",
       "<polyline fill=\"none\" stroke=\"black\" points=\"425,-83.5 425,-119.5\"/>\n",
       "<text text-anchor=\"middle\" x=\"466\" y=\"-97.8\" font-family=\"Times,serif\" font-size=\"14.00\">grad 0.0000</text>\n",
       "</g>\n",
       "<!-- 140444262552016+ -->\n",
       "<g id=\"node10\" class=\"node\">\n",
       "<title>140444262552016+</title>\n",
       "<ellipse fill=\"none\" stroke=\"black\" cx=\"571\" cy=\"-73.5\" rx=\"27\" ry=\"18\"/>\n",
       "<text text-anchor=\"middle\" x=\"571\" y=\"-69.8\" font-family=\"Times,serif\" font-size=\"14.00\">+</text>\n",
       "</g>\n",
       "<!-- 140444261284816&#45;&gt;140444262552016+ -->\n",
       "<g id=\"edge5\" class=\"edge\">\n",
       "<title>140444261284816&#45;&gt;140444262552016+</title>\n",
       "<path fill=\"none\" stroke=\"black\" d=\"M506.59,-84.81C516.06,-83.12 525.22,-81.49 533.49,-80.01\"/>\n",
       "<polygon fill=\"black\" stroke=\"black\" points=\"533.82,-83.51 543.05,-78.31 532.59,-76.62 533.82,-83.51\"/>\n",
       "</g>\n",
       "<!-- 140444261284816*&#45;&gt;140444261284816 -->\n",
       "<g id=\"edge1\" class=\"edge\">\n",
       "<title>140444261284816*&#45;&gt;140444261284816</title>\n",
       "<path fill=\"none\" stroke=\"black\" d=\"M280.28,-101.5C287.79,-101.5 296.46,-101.5 305.7,-101.5\"/>\n",
       "<polygon fill=\"black\" stroke=\"black\" points=\"305.7,-105 315.7,-101.5 305.7,-98 305.7,-105\"/>\n",
       "</g>\n",
       "<!-- 140444261283088 -->\n",
       "<g id=\"node4\" class=\"node\">\n",
       "<title>140444261283088</title>\n",
       "<polygon fill=\"none\" stroke=\"black\" points=\"316,-28.5 316,-64.5 508,-64.5 508,-28.5 316,-28.5\"/>\n",
       "<text text-anchor=\"middle\" x=\"327.5\" y=\"-42.8\" font-family=\"Times,serif\" font-size=\"14.00\">c</text>\n",
       "<polyline fill=\"none\" stroke=\"black\" points=\"339,-28.5 339,-64.5\"/>\n",
       "<text text-anchor=\"middle\" x=\"382.5\" y=\"-42.8\" font-family=\"Times,serif\" font-size=\"14.00\">data 10.0000</text>\n",
       "<polyline fill=\"none\" stroke=\"black\" points=\"426,-28.5 426,-64.5\"/>\n",
       "<text text-anchor=\"middle\" x=\"467\" y=\"-42.8\" font-family=\"Times,serif\" font-size=\"14.00\">grad 0.0000</text>\n",
       "</g>\n",
       "<!-- 140444261283088&#45;&gt;140444262552016+ -->\n",
       "<g id=\"edge7\" class=\"edge\">\n",
       "<title>140444261283088&#45;&gt;140444262552016+</title>\n",
       "<path fill=\"none\" stroke=\"black\" d=\"M507.95,-62.83C516.87,-64.36 525.49,-65.85 533.33,-67.19\"/>\n",
       "<polygon fill=\"black\" stroke=\"black\" points=\"532.62,-70.62 543.07,-68.87 533.8,-63.72 532.62,-70.62\"/>\n",
       "</g>\n",
       "<!-- 140444262551824 -->\n",
       "<g id=\"node5\" class=\"node\">\n",
       "<title>140444262551824</title>\n",
       "<polygon fill=\"none\" stroke=\"black\" points=\"948,-27.5 948,-63.5 1140,-63.5 1140,-27.5 948,-27.5\"/>\n",
       "<text text-anchor=\"middle\" x=\"960.5\" y=\"-41.8\" font-family=\"Times,serif\" font-size=\"14.00\">L</text>\n",
       "<polyline fill=\"none\" stroke=\"black\" points=\"973,-27.5 973,-63.5\"/>\n",
       "<text text-anchor=\"middle\" x=\"1015.5\" y=\"-41.8\" font-family=\"Times,serif\" font-size=\"14.00\">data &#45;8.0000</text>\n",
       "<polyline fill=\"none\" stroke=\"black\" points=\"1058,-27.5 1058,-63.5\"/>\n",
       "<text text-anchor=\"middle\" x=\"1099\" y=\"-41.8\" font-family=\"Times,serif\" font-size=\"14.00\">grad 1.0000</text>\n",
       "</g>\n",
       "<!-- 140444262551824* -->\n",
       "<g id=\"node6\" class=\"node\">\n",
       "<title>140444262551824*</title>\n",
       "<ellipse fill=\"none\" stroke=\"black\" cx=\"885\" cy=\"-45.5\" rx=\"27\" ry=\"18\"/>\n",
       "<text text-anchor=\"middle\" x=\"885\" y=\"-41.8\" font-family=\"Times,serif\" font-size=\"14.00\">*</text>\n",
       "</g>\n",
       "<!-- 140444262551824*&#45;&gt;140444262551824 -->\n",
       "<g id=\"edge2\" class=\"edge\">\n",
       "<title>140444262551824*&#45;&gt;140444262551824</title>\n",
       "<path fill=\"none\" stroke=\"black\" d=\"M912.28,-45.5C919.52,-45.5 927.85,-45.5 936.72,-45.5\"/>\n",
       "<polygon fill=\"black\" stroke=\"black\" points=\"936.69,-49 946.69,-45.5 936.69,-42 936.69,-49\"/>\n",
       "</g>\n",
       "<!-- 140444262551888 -->\n",
       "<g id=\"node7\" class=\"node\">\n",
       "<title>140444262551888</title>\n",
       "<polygon fill=\"none\" stroke=\"black\" points=\"634,-0.5 634,-36.5 822,-36.5 822,-0.5 634,-0.5\"/>\n",
       "<text text-anchor=\"middle\" x=\"644.5\" y=\"-14.8\" font-family=\"Times,serif\" font-size=\"14.00\">f</text>\n",
       "<polyline fill=\"none\" stroke=\"black\" points=\"655,-0.5 655,-36.5\"/>\n",
       "<text text-anchor=\"middle\" x=\"697.5\" y=\"-14.8\" font-family=\"Times,serif\" font-size=\"14.00\">data &#45;2.0000</text>\n",
       "<polyline fill=\"none\" stroke=\"black\" points=\"740,-0.5 740,-36.5\"/>\n",
       "<text text-anchor=\"middle\" x=\"781\" y=\"-14.8\" font-family=\"Times,serif\" font-size=\"14.00\">grad 0.0000</text>\n",
       "</g>\n",
       "<!-- 140444262551888&#45;&gt;140444262551824* -->\n",
       "<g id=\"edge9\" class=\"edge\">\n",
       "<title>140444262551888&#45;&gt;140444262551824*</title>\n",
       "<path fill=\"none\" stroke=\"black\" d=\"M821.85,-34.67C830.75,-36.22 839.38,-37.73 847.22,-39.09\"/>\n",
       "<polygon fill=\"black\" stroke=\"black\" points=\"846.53,-42.53 856.98,-40.79 847.73,-35.63 846.53,-42.53\"/>\n",
       "</g>\n",
       "<!-- 140444261284176 -->\n",
       "<g id=\"node8\" class=\"node\">\n",
       "<title>140444261284176</title>\n",
       "<polygon fill=\"none\" stroke=\"black\" points=\"0,-56.5 0,-92.5 190,-92.5 190,-56.5 0,-56.5\"/>\n",
       "<text text-anchor=\"middle\" x=\"11.5\" y=\"-70.8\" font-family=\"Times,serif\" font-size=\"14.00\">b</text>\n",
       "<polyline fill=\"none\" stroke=\"black\" points=\"23,-56.5 23,-92.5\"/>\n",
       "<text text-anchor=\"middle\" x=\"65.5\" y=\"-70.8\" font-family=\"Times,serif\" font-size=\"14.00\">data &#45;3.0000</text>\n",
       "<polyline fill=\"none\" stroke=\"black\" points=\"108,-56.5 108,-92.5\"/>\n",
       "<text text-anchor=\"middle\" x=\"149\" y=\"-70.8\" font-family=\"Times,serif\" font-size=\"14.00\">grad 0.0000</text>\n",
       "</g>\n",
       "<!-- 140444261284176&#45;&gt;140444261284816* -->\n",
       "<g id=\"edge8\" class=\"edge\">\n",
       "<title>140444261284176&#45;&gt;140444261284816*</title>\n",
       "<path fill=\"none\" stroke=\"black\" d=\"M189.9,-90.75C198.81,-92.29 207.43,-93.79 215.28,-95.14\"/>\n",
       "<polygon fill=\"black\" stroke=\"black\" points=\"214.57,-98.57 225.02,-96.83 215.76,-91.68 214.57,-98.57\"/>\n",
       "</g>\n",
       "<!-- 140444262552016 -->\n",
       "<g id=\"node9\" class=\"node\">\n",
       "<title>140444262552016</title>\n",
       "<polygon fill=\"none\" stroke=\"black\" points=\"635.5,-55.5 635.5,-91.5 820.5,-91.5 820.5,-55.5 635.5,-55.5\"/>\n",
       "<text text-anchor=\"middle\" x=\"647\" y=\"-69.8\" font-family=\"Times,serif\" font-size=\"14.00\">d</text>\n",
       "<polyline fill=\"none\" stroke=\"black\" points=\"658.5,-55.5 658.5,-91.5\"/>\n",
       "<text text-anchor=\"middle\" x=\"698.5\" y=\"-69.8\" font-family=\"Times,serif\" font-size=\"14.00\">data 4.0000</text>\n",
       "<polyline fill=\"none\" stroke=\"black\" points=\"738.5,-55.5 738.5,-91.5\"/>\n",
       "<text text-anchor=\"middle\" x=\"779.5\" y=\"-69.8\" font-family=\"Times,serif\" font-size=\"14.00\">grad 0.0000</text>\n",
       "</g>\n",
       "<!-- 140444262552016&#45;&gt;140444262551824* -->\n",
       "<g id=\"edge4\" class=\"edge\">\n",
       "<title>140444262552016&#45;&gt;140444262551824*</title>\n",
       "<path fill=\"none\" stroke=\"black\" d=\"M820.06,-57.05C829.65,-55.32 838.94,-53.64 847.35,-52.12\"/>\n",
       "<polygon fill=\"black\" stroke=\"black\" points=\"847.86,-55.59 857.08,-50.36 846.61,-48.7 847.86,-55.59\"/>\n",
       "</g>\n",
       "<!-- 140444262552016+&#45;&gt;140444262552016 -->\n",
       "<g id=\"edge3\" class=\"edge\">\n",
       "<title>140444262552016+&#45;&gt;140444262552016</title>\n",
       "<path fill=\"none\" stroke=\"black\" d=\"M598.29,-73.5C605.99,-73.5 614.91,-73.5 624.39,-73.5\"/>\n",
       "<polygon fill=\"black\" stroke=\"black\" points=\"624.22,-77 634.22,-73.5 624.22,-70 624.22,-77\"/>\n",
       "</g>\n",
       "</g>\n",
       "</svg>\n"
      ],
      "text/plain": [
       "<graphviz.graphs.Digraph at 0x7fbbba4df110>"
      ]
     },
     "execution_count": 41,
     "metadata": {},
     "output_type": "execute_result"
    }
   ],
   "source": [
    "L.grad = 1.0\n",
    "draw_dot(L)"
   ]
  },
  {
   "cell_type": "markdown",
   "metadata": {
    "id": "1xGnvqTA10U4"
   },
   "source": [
    "### $\\frac{dL}{df}$ and $\\frac{dL}{dd}$\n",
    "\n",
    "Now, we can move backwards one layer in our graph. We would like to compute $\\frac{dL}{df}$ and $\\frac{dL}{dd}$. We know that $L = d \\cdot f$, so we can use our rules of differentiation to write out the derivative.\n",
    "\n",
    "- $\\frac{dL}{df} = d$\n",
    "- $\\frac{dL}{dd} = f$\n",
    "\n",
    "And so we can fill in the `grad` attribute of `d` and `f` now."
   ]
  },
  {
   "cell_type": "code",
   "execution_count": 42,
   "metadata": {
    "colab": {
     "base_uri": "https://localhost:8080/",
     "height": 213
    },
    "id": "wl7Lr6QaQj4v",
    "outputId": "4ecafb68-39da-459e-d83f-f5b43cbe7b9e"
   },
   "outputs": [
    {
     "data": {
      "image/svg+xml": [
       "<?xml version=\"1.0\" encoding=\"UTF-8\" standalone=\"no\"?>\n",
       "<!DOCTYPE svg PUBLIC \"-//W3C//DTD SVG 1.1//EN\"\n",
       " \"http://www.w3.org/Graphics/SVG/1.1/DTD/svg11.dtd\">\n",
       "<!-- Generated by graphviz version 7.0.4 (20221203.1631)\n",
       " -->\n",
       "<!-- Pages: 1 -->\n",
       "<svg width=\"1149pt\" height=\"156pt\"\n",
       " viewBox=\"0.00 0.00 1149.00 156.00\" xmlns=\"http://www.w3.org/2000/svg\" xmlns:xlink=\"http://www.w3.org/1999/xlink\">\n",
       "<g id=\"graph0\" class=\"graph\" transform=\"scale(1 1) rotate(0) translate(4 152)\">\n",
       "<polygon fill=\"white\" stroke=\"none\" points=\"-4,4 -4,-152 1145,-152 1145,4 -4,4\"/>\n",
       "<!-- 140444261283792 -->\n",
       "<g id=\"node1\" class=\"node\">\n",
       "<title>140444261283792</title>\n",
       "<polygon fill=\"none\" stroke=\"black\" points=\"2.5,-111.5 2.5,-147.5 187.5,-147.5 187.5,-111.5 2.5,-111.5\"/>\n",
       "<text text-anchor=\"middle\" x=\"14\" y=\"-125.8\" font-family=\"Times,serif\" font-size=\"14.00\">a</text>\n",
       "<polyline fill=\"none\" stroke=\"black\" points=\"25.5,-111.5 25.5,-147.5\"/>\n",
       "<text text-anchor=\"middle\" x=\"65.5\" y=\"-125.8\" font-family=\"Times,serif\" font-size=\"14.00\">data 2.0000</text>\n",
       "<polyline fill=\"none\" stroke=\"black\" points=\"105.5,-111.5 105.5,-147.5\"/>\n",
       "<text text-anchor=\"middle\" x=\"146.5\" y=\"-125.8\" font-family=\"Times,serif\" font-size=\"14.00\">grad 0.0000</text>\n",
       "</g>\n",
       "<!-- 140444261284816* -->\n",
       "<g id=\"node3\" class=\"node\">\n",
       "<title>140444261284816*</title>\n",
       "<ellipse fill=\"none\" stroke=\"black\" cx=\"253\" cy=\"-101.5\" rx=\"27\" ry=\"18\"/>\n",
       "<text text-anchor=\"middle\" x=\"253\" y=\"-97.8\" font-family=\"Times,serif\" font-size=\"14.00\">*</text>\n",
       "</g>\n",
       "<!-- 140444261283792&#45;&gt;140444261284816* -->\n",
       "<g id=\"edge6\" class=\"edge\">\n",
       "<title>140444261283792&#45;&gt;140444261284816*</title>\n",
       "<path fill=\"none\" stroke=\"black\" d=\"M187.2,-113.13C197.1,-111.35 206.71,-109.63 215.36,-108.08\"/>\n",
       "<polygon fill=\"black\" stroke=\"black\" points=\"215.79,-111.55 225.02,-106.34 214.56,-104.66 215.79,-111.55\"/>\n",
       "</g>\n",
       "<!-- 140444261284816 -->\n",
       "<g id=\"node2\" class=\"node\">\n",
       "<title>140444261284816</title>\n",
       "<polygon fill=\"none\" stroke=\"black\" points=\"317,-83.5 317,-119.5 507,-119.5 507,-83.5 317,-83.5\"/>\n",
       "<text text-anchor=\"middle\" x=\"328.5\" y=\"-97.8\" font-family=\"Times,serif\" font-size=\"14.00\">e</text>\n",
       "<polyline fill=\"none\" stroke=\"black\" points=\"340,-83.5 340,-119.5\"/>\n",
       "<text text-anchor=\"middle\" x=\"382.5\" y=\"-97.8\" font-family=\"Times,serif\" font-size=\"14.00\">data &#45;6.0000</text>\n",
       "<polyline fill=\"none\" stroke=\"black\" points=\"425,-83.5 425,-119.5\"/>\n",
       "<text text-anchor=\"middle\" x=\"466\" y=\"-97.8\" font-family=\"Times,serif\" font-size=\"14.00\">grad 0.0000</text>\n",
       "</g>\n",
       "<!-- 140444262552016+ -->\n",
       "<g id=\"node10\" class=\"node\">\n",
       "<title>140444262552016+</title>\n",
       "<ellipse fill=\"none\" stroke=\"black\" cx=\"571\" cy=\"-73.5\" rx=\"27\" ry=\"18\"/>\n",
       "<text text-anchor=\"middle\" x=\"571\" y=\"-69.8\" font-family=\"Times,serif\" font-size=\"14.00\">+</text>\n",
       "</g>\n",
       "<!-- 140444261284816&#45;&gt;140444262552016+ -->\n",
       "<g id=\"edge5\" class=\"edge\">\n",
       "<title>140444261284816&#45;&gt;140444262552016+</title>\n",
       "<path fill=\"none\" stroke=\"black\" d=\"M506.59,-84.81C516.06,-83.12 525.22,-81.49 533.49,-80.01\"/>\n",
       "<polygon fill=\"black\" stroke=\"black\" points=\"533.82,-83.51 543.05,-78.31 532.59,-76.62 533.82,-83.51\"/>\n",
       "</g>\n",
       "<!-- 140444261284816*&#45;&gt;140444261284816 -->\n",
       "<g id=\"edge1\" class=\"edge\">\n",
       "<title>140444261284816*&#45;&gt;140444261284816</title>\n",
       "<path fill=\"none\" stroke=\"black\" d=\"M280.28,-101.5C287.79,-101.5 296.46,-101.5 305.7,-101.5\"/>\n",
       "<polygon fill=\"black\" stroke=\"black\" points=\"305.7,-105 315.7,-101.5 305.7,-98 305.7,-105\"/>\n",
       "</g>\n",
       "<!-- 140444261283088 -->\n",
       "<g id=\"node4\" class=\"node\">\n",
       "<title>140444261283088</title>\n",
       "<polygon fill=\"none\" stroke=\"black\" points=\"316,-28.5 316,-64.5 508,-64.5 508,-28.5 316,-28.5\"/>\n",
       "<text text-anchor=\"middle\" x=\"327.5\" y=\"-42.8\" font-family=\"Times,serif\" font-size=\"14.00\">c</text>\n",
       "<polyline fill=\"none\" stroke=\"black\" points=\"339,-28.5 339,-64.5\"/>\n",
       "<text text-anchor=\"middle\" x=\"382.5\" y=\"-42.8\" font-family=\"Times,serif\" font-size=\"14.00\">data 10.0000</text>\n",
       "<polyline fill=\"none\" stroke=\"black\" points=\"426,-28.5 426,-64.5\"/>\n",
       "<text text-anchor=\"middle\" x=\"467\" y=\"-42.8\" font-family=\"Times,serif\" font-size=\"14.00\">grad 0.0000</text>\n",
       "</g>\n",
       "<!-- 140444261283088&#45;&gt;140444262552016+ -->\n",
       "<g id=\"edge7\" class=\"edge\">\n",
       "<title>140444261283088&#45;&gt;140444262552016+</title>\n",
       "<path fill=\"none\" stroke=\"black\" d=\"M507.95,-62.83C516.87,-64.36 525.49,-65.85 533.33,-67.19\"/>\n",
       "<polygon fill=\"black\" stroke=\"black\" points=\"532.62,-70.62 543.07,-68.87 533.8,-63.72 532.62,-70.62\"/>\n",
       "</g>\n",
       "<!-- 140444262551824 -->\n",
       "<g id=\"node5\" class=\"node\">\n",
       "<title>140444262551824</title>\n",
       "<polygon fill=\"none\" stroke=\"black\" points=\"949,-27.5 949,-63.5 1141,-63.5 1141,-27.5 949,-27.5\"/>\n",
       "<text text-anchor=\"middle\" x=\"961.5\" y=\"-41.8\" font-family=\"Times,serif\" font-size=\"14.00\">L</text>\n",
       "<polyline fill=\"none\" stroke=\"black\" points=\"974,-27.5 974,-63.5\"/>\n",
       "<text text-anchor=\"middle\" x=\"1016.5\" y=\"-41.8\" font-family=\"Times,serif\" font-size=\"14.00\">data &#45;8.0000</text>\n",
       "<polyline fill=\"none\" stroke=\"black\" points=\"1059,-27.5 1059,-63.5\"/>\n",
       "<text text-anchor=\"middle\" x=\"1100\" y=\"-41.8\" font-family=\"Times,serif\" font-size=\"14.00\">grad 1.0000</text>\n",
       "</g>\n",
       "<!-- 140444262551824* -->\n",
       "<g id=\"node6\" class=\"node\">\n",
       "<title>140444262551824*</title>\n",
       "<ellipse fill=\"none\" stroke=\"black\" cx=\"886\" cy=\"-45.5\" rx=\"27\" ry=\"18\"/>\n",
       "<text text-anchor=\"middle\" x=\"886\" y=\"-41.8\" font-family=\"Times,serif\" font-size=\"14.00\">*</text>\n",
       "</g>\n",
       "<!-- 140444262551824*&#45;&gt;140444262551824 -->\n",
       "<g id=\"edge2\" class=\"edge\">\n",
       "<title>140444262551824*&#45;&gt;140444262551824</title>\n",
       "<path fill=\"none\" stroke=\"black\" d=\"M913.28,-45.5C920.52,-45.5 928.85,-45.5 937.72,-45.5\"/>\n",
       "<polygon fill=\"black\" stroke=\"black\" points=\"937.69,-49 947.69,-45.5 937.69,-42 937.69,-49\"/>\n",
       "</g>\n",
       "<!-- 140444262551888 -->\n",
       "<g id=\"node7\" class=\"node\">\n",
       "<title>140444262551888</title>\n",
       "<polygon fill=\"none\" stroke=\"black\" points=\"634.5,-0.5 634.5,-36.5 822.5,-36.5 822.5,-0.5 634.5,-0.5\"/>\n",
       "<text text-anchor=\"middle\" x=\"645\" y=\"-14.8\" font-family=\"Times,serif\" font-size=\"14.00\">f</text>\n",
       "<polyline fill=\"none\" stroke=\"black\" points=\"655.5,-0.5 655.5,-36.5\"/>\n",
       "<text text-anchor=\"middle\" x=\"698\" y=\"-14.8\" font-family=\"Times,serif\" font-size=\"14.00\">data &#45;2.0000</text>\n",
       "<polyline fill=\"none\" stroke=\"black\" points=\"740.5,-0.5 740.5,-36.5\"/>\n",
       "<text text-anchor=\"middle\" x=\"781.5\" y=\"-14.8\" font-family=\"Times,serif\" font-size=\"14.00\">grad 4.0000</text>\n",
       "</g>\n",
       "<!-- 140444262551888&#45;&gt;140444262551824* -->\n",
       "<g id=\"edge9\" class=\"edge\">\n",
       "<title>140444262551888&#45;&gt;140444262551824*</title>\n",
       "<path fill=\"none\" stroke=\"black\" d=\"M822.2,-34.6C831.38,-36.19 840.27,-37.73 848.33,-39.13\"/>\n",
       "<polygon fill=\"black\" stroke=\"black\" points=\"847.54,-42.55 857.99,-40.81 848.74,-35.65 847.54,-42.55\"/>\n",
       "</g>\n",
       "<!-- 140444261284176 -->\n",
       "<g id=\"node8\" class=\"node\">\n",
       "<title>140444261284176</title>\n",
       "<polygon fill=\"none\" stroke=\"black\" points=\"0,-56.5 0,-92.5 190,-92.5 190,-56.5 0,-56.5\"/>\n",
       "<text text-anchor=\"middle\" x=\"11.5\" y=\"-70.8\" font-family=\"Times,serif\" font-size=\"14.00\">b</text>\n",
       "<polyline fill=\"none\" stroke=\"black\" points=\"23,-56.5 23,-92.5\"/>\n",
       "<text text-anchor=\"middle\" x=\"65.5\" y=\"-70.8\" font-family=\"Times,serif\" font-size=\"14.00\">data &#45;3.0000</text>\n",
       "<polyline fill=\"none\" stroke=\"black\" points=\"108,-56.5 108,-92.5\"/>\n",
       "<text text-anchor=\"middle\" x=\"149\" y=\"-70.8\" font-family=\"Times,serif\" font-size=\"14.00\">grad 0.0000</text>\n",
       "</g>\n",
       "<!-- 140444261284176&#45;&gt;140444261284816* -->\n",
       "<g id=\"edge8\" class=\"edge\">\n",
       "<title>140444261284176&#45;&gt;140444261284816*</title>\n",
       "<path fill=\"none\" stroke=\"black\" d=\"M189.9,-90.75C198.81,-92.29 207.43,-93.79 215.28,-95.14\"/>\n",
       "<polygon fill=\"black\" stroke=\"black\" points=\"214.57,-98.57 225.02,-96.83 215.76,-91.68 214.57,-98.57\"/>\n",
       "</g>\n",
       "<!-- 140444262552016 -->\n",
       "<g id=\"node9\" class=\"node\">\n",
       "<title>140444262552016</title>\n",
       "<polygon fill=\"none\" stroke=\"black\" points=\"634,-55.5 634,-91.5 823,-91.5 823,-55.5 634,-55.5\"/>\n",
       "<text text-anchor=\"middle\" x=\"645.5\" y=\"-69.8\" font-family=\"Times,serif\" font-size=\"14.00\">d</text>\n",
       "<polyline fill=\"none\" stroke=\"black\" points=\"657,-55.5 657,-91.5\"/>\n",
       "<text text-anchor=\"middle\" x=\"697\" y=\"-69.8\" font-family=\"Times,serif\" font-size=\"14.00\">data 4.0000</text>\n",
       "<polyline fill=\"none\" stroke=\"black\" points=\"737,-55.5 737,-91.5\"/>\n",
       "<text text-anchor=\"middle\" x=\"780\" y=\"-69.8\" font-family=\"Times,serif\" font-size=\"14.00\">grad &#45;2.0000</text>\n",
       "</g>\n",
       "<!-- 140444262552016&#45;&gt;140444262551824* -->\n",
       "<g id=\"edge4\" class=\"edge\">\n",
       "<title>140444262552016&#45;&gt;140444262551824*</title>\n",
       "<path fill=\"none\" stroke=\"black\" d=\"M822.65,-56.73C831.58,-55.12 840.23,-53.56 848.11,-52.14\"/>\n",
       "<polygon fill=\"black\" stroke=\"black\" points=\"848.68,-55.6 857.9,-50.38 847.44,-48.71 848.68,-55.6\"/>\n",
       "</g>\n",
       "<!-- 140444262552016+&#45;&gt;140444262552016 -->\n",
       "<g id=\"edge3\" class=\"edge\">\n",
       "<title>140444262552016+&#45;&gt;140444262552016</title>\n",
       "<path fill=\"none\" stroke=\"black\" d=\"M598.38,-73.5C605.63,-73.5 613.96,-73.5 622.82,-73.5\"/>\n",
       "<polygon fill=\"black\" stroke=\"black\" points=\"622.77,-77 632.77,-73.5 622.77,-70 622.77,-77\"/>\n",
       "</g>\n",
       "</g>\n",
       "</svg>\n"
      ],
      "text/plain": [
       "<graphviz.graphs.Digraph at 0x7fbbba6036d0>"
      ]
     },
     "execution_count": 42,
     "metadata": {},
     "output_type": "execute_result"
    }
   ],
   "source": [
    "f.grad = d.data\n",
    "d.grad = f.data\n",
    "draw_dot(L)"
   ]
  },
  {
   "cell_type": "markdown",
   "metadata": {
    "id": "COYj1z4eQw_s"
   },
   "source": [
    "### $\\frac{dL}{de}$ and $\\frac{dL}{dc}$\n",
    "\n",
    "Again, let's move back one layer. We can now make use of the just-computed $\\frac{dL}{dd}$ to find $\\frac{dL}{de}$ and $\\frac{dL}{dc}$ (we don't need to worry about $\\frac{dL}{df}$ since $f$ is a leaf node). This is where we will see the chain rule coming into play:\n",
    "\n",
    "- $\\frac{dL}{de} = \\frac{dd}{de} \\cdot \\frac{dL}{dd}$\n",
    "- $\\frac{dL}{dc} = \\frac{dd}{dc} \\cdot \\frac{dL}{dd}$\n",
    "\n",
    "In both cases, the first term in the chain rule expression is the local influence of our variable ($e$ or $c$) on the following node ($d$), and the second term is the global influence of the following node ($d$) on our loss value ($L$). \n",
    "\n",
    "Since we know that $d$ is defined as $d = e + c$, we can calculate both $\\frac{dd}{de}$ and $\\frac{dd}{dc}$ and substitute in our value of $\\frac{dL}{dd}$.\n",
    "\n",
    "- $\\frac{dL}{de} = 1 \\cdot (-2)$\n",
    "- $\\frac{dL}{dc} = 1 \\cdot (-2)$\n",
    "\n",
    "And now, we can populate the `grad` attribute for both `e` and `c`."
   ]
  },
  {
   "cell_type": "code",
   "execution_count": 43,
   "metadata": {
    "colab": {
     "base_uri": "https://localhost:8080/",
     "height": 213
    },
    "id": "aa_cJzECSlmM",
    "outputId": "79399a70-9ab8-41dd-c32d-0b1f209bfc85"
   },
   "outputs": [
    {
     "data": {
      "image/svg+xml": [
       "<?xml version=\"1.0\" encoding=\"UTF-8\" standalone=\"no\"?>\n",
       "<!DOCTYPE svg PUBLIC \"-//W3C//DTD SVG 1.1//EN\"\n",
       " \"http://www.w3.org/Graphics/SVG/1.1/DTD/svg11.dtd\">\n",
       "<!-- Generated by graphviz version 7.0.4 (20221203.1631)\n",
       " -->\n",
       "<!-- Pages: 1 -->\n",
       "<svg width=\"1153pt\" height=\"156pt\"\n",
       " viewBox=\"0.00 0.00 1153.00 156.00\" xmlns=\"http://www.w3.org/2000/svg\" xmlns:xlink=\"http://www.w3.org/1999/xlink\">\n",
       "<g id=\"graph0\" class=\"graph\" transform=\"scale(1 1) rotate(0) translate(4 152)\">\n",
       "<polygon fill=\"white\" stroke=\"none\" points=\"-4,4 -4,-152 1149,-152 1149,4 -4,4\"/>\n",
       "<!-- 140444261283792 -->\n",
       "<g id=\"node1\" class=\"node\">\n",
       "<title>140444261283792</title>\n",
       "<polygon fill=\"none\" stroke=\"black\" points=\"2.5,-111.5 2.5,-147.5 187.5,-147.5 187.5,-111.5 2.5,-111.5\"/>\n",
       "<text text-anchor=\"middle\" x=\"14\" y=\"-125.8\" font-family=\"Times,serif\" font-size=\"14.00\">a</text>\n",
       "<polyline fill=\"none\" stroke=\"black\" points=\"25.5,-111.5 25.5,-147.5\"/>\n",
       "<text text-anchor=\"middle\" x=\"65.5\" y=\"-125.8\" font-family=\"Times,serif\" font-size=\"14.00\">data 2.0000</text>\n",
       "<polyline fill=\"none\" stroke=\"black\" points=\"105.5,-111.5 105.5,-147.5\"/>\n",
       "<text text-anchor=\"middle\" x=\"146.5\" y=\"-125.8\" font-family=\"Times,serif\" font-size=\"14.00\">grad 0.0000</text>\n",
       "</g>\n",
       "<!-- 140444261284816* -->\n",
       "<g id=\"node3\" class=\"node\">\n",
       "<title>140444261284816*</title>\n",
       "<ellipse fill=\"none\" stroke=\"black\" cx=\"253\" cy=\"-101.5\" rx=\"27\" ry=\"18\"/>\n",
       "<text text-anchor=\"middle\" x=\"253\" y=\"-97.8\" font-family=\"Times,serif\" font-size=\"14.00\">*</text>\n",
       "</g>\n",
       "<!-- 140444261283792&#45;&gt;140444261284816* -->\n",
       "<g id=\"edge6\" class=\"edge\">\n",
       "<title>140444261283792&#45;&gt;140444261284816*</title>\n",
       "<path fill=\"none\" stroke=\"black\" d=\"M187.2,-113.13C197.1,-111.35 206.71,-109.63 215.36,-108.08\"/>\n",
       "<polygon fill=\"black\" stroke=\"black\" points=\"215.79,-111.55 225.02,-106.34 214.56,-104.66 215.79,-111.55\"/>\n",
       "</g>\n",
       "<!-- 140444261284816 -->\n",
       "<g id=\"node2\" class=\"node\">\n",
       "<title>140444261284816</title>\n",
       "<polygon fill=\"none\" stroke=\"black\" points=\"317,-83.5 317,-119.5 511,-119.5 511,-83.5 317,-83.5\"/>\n",
       "<text text-anchor=\"middle\" x=\"328.5\" y=\"-97.8\" font-family=\"Times,serif\" font-size=\"14.00\">e</text>\n",
       "<polyline fill=\"none\" stroke=\"black\" points=\"340,-83.5 340,-119.5\"/>\n",
       "<text text-anchor=\"middle\" x=\"382.5\" y=\"-97.8\" font-family=\"Times,serif\" font-size=\"14.00\">data &#45;6.0000</text>\n",
       "<polyline fill=\"none\" stroke=\"black\" points=\"425,-83.5 425,-119.5\"/>\n",
       "<text text-anchor=\"middle\" x=\"468\" y=\"-97.8\" font-family=\"Times,serif\" font-size=\"14.00\">grad &#45;2.0000</text>\n",
       "</g>\n",
       "<!-- 140444262552016+ -->\n",
       "<g id=\"node10\" class=\"node\">\n",
       "<title>140444262552016+</title>\n",
       "<ellipse fill=\"none\" stroke=\"black\" cx=\"575\" cy=\"-73.5\" rx=\"27\" ry=\"18\"/>\n",
       "<text text-anchor=\"middle\" x=\"575\" y=\"-69.8\" font-family=\"Times,serif\" font-size=\"14.00\">+</text>\n",
       "</g>\n",
       "<!-- 140444261284816&#45;&gt;140444262552016+ -->\n",
       "<g id=\"edge5\" class=\"edge\">\n",
       "<title>140444261284816&#45;&gt;140444262552016+</title>\n",
       "<path fill=\"none\" stroke=\"black\" d=\"M510.7,-84.65C520.07,-83 529.12,-81.4 537.32,-79.96\"/>\n",
       "<polygon fill=\"black\" stroke=\"black\" points=\"537.9,-83.41 547.14,-78.23 536.69,-76.52 537.9,-83.41\"/>\n",
       "</g>\n",
       "<!-- 140444261284816*&#45;&gt;140444261284816 -->\n",
       "<g id=\"edge1\" class=\"edge\">\n",
       "<title>140444261284816*&#45;&gt;140444261284816</title>\n",
       "<path fill=\"none\" stroke=\"black\" d=\"M280.26,-101.5C287.86,-101.5 296.67,-101.5 306.07,-101.5\"/>\n",
       "<polygon fill=\"black\" stroke=\"black\" points=\"305.81,-105 315.81,-101.5 305.81,-98 305.81,-105\"/>\n",
       "</g>\n",
       "<!-- 140444261283088 -->\n",
       "<g id=\"node4\" class=\"node\">\n",
       "<title>140444261283088</title>\n",
       "<polygon fill=\"none\" stroke=\"black\" points=\"316,-28.5 316,-64.5 512,-64.5 512,-28.5 316,-28.5\"/>\n",
       "<text text-anchor=\"middle\" x=\"327.5\" y=\"-42.8\" font-family=\"Times,serif\" font-size=\"14.00\">c</text>\n",
       "<polyline fill=\"none\" stroke=\"black\" points=\"339,-28.5 339,-64.5\"/>\n",
       "<text text-anchor=\"middle\" x=\"382.5\" y=\"-42.8\" font-family=\"Times,serif\" font-size=\"14.00\">data 10.0000</text>\n",
       "<polyline fill=\"none\" stroke=\"black\" points=\"426,-28.5 426,-64.5\"/>\n",
       "<text text-anchor=\"middle\" x=\"469\" y=\"-42.8\" font-family=\"Times,serif\" font-size=\"14.00\">grad &#45;2.0000</text>\n",
       "</g>\n",
       "<!-- 140444261283088&#45;&gt;140444262552016+ -->\n",
       "<g id=\"edge7\" class=\"edge\">\n",
       "<title>140444261283088&#45;&gt;140444262552016+</title>\n",
       "<path fill=\"none\" stroke=\"black\" d=\"M511.62,-62.91C520.6,-64.43 529.27,-65.9 537.15,-67.24\"/>\n",
       "<polygon fill=\"black\" stroke=\"black\" points=\"536.51,-70.68 546.95,-68.91 537.68,-63.78 536.51,-70.68\"/>\n",
       "</g>\n",
       "<!-- 140444262551824 -->\n",
       "<g id=\"node5\" class=\"node\">\n",
       "<title>140444262551824</title>\n",
       "<polygon fill=\"none\" stroke=\"black\" points=\"953,-27.5 953,-63.5 1145,-63.5 1145,-27.5 953,-27.5\"/>\n",
       "<text text-anchor=\"middle\" x=\"965.5\" y=\"-41.8\" font-family=\"Times,serif\" font-size=\"14.00\">L</text>\n",
       "<polyline fill=\"none\" stroke=\"black\" points=\"978,-27.5 978,-63.5\"/>\n",
       "<text text-anchor=\"middle\" x=\"1020.5\" y=\"-41.8\" font-family=\"Times,serif\" font-size=\"14.00\">data &#45;8.0000</text>\n",
       "<polyline fill=\"none\" stroke=\"black\" points=\"1063,-27.5 1063,-63.5\"/>\n",
       "<text text-anchor=\"middle\" x=\"1104\" y=\"-41.8\" font-family=\"Times,serif\" font-size=\"14.00\">grad 1.0000</text>\n",
       "</g>\n",
       "<!-- 140444262551824* -->\n",
       "<g id=\"node6\" class=\"node\">\n",
       "<title>140444262551824*</title>\n",
       "<ellipse fill=\"none\" stroke=\"black\" cx=\"890\" cy=\"-45.5\" rx=\"27\" ry=\"18\"/>\n",
       "<text text-anchor=\"middle\" x=\"890\" y=\"-41.8\" font-family=\"Times,serif\" font-size=\"14.00\">*</text>\n",
       "</g>\n",
       "<!-- 140444262551824*&#45;&gt;140444262551824 -->\n",
       "<g id=\"edge2\" class=\"edge\">\n",
       "<title>140444262551824*&#45;&gt;140444262551824</title>\n",
       "<path fill=\"none\" stroke=\"black\" d=\"M917.28,-45.5C924.52,-45.5 932.85,-45.5 941.72,-45.5\"/>\n",
       "<polygon fill=\"black\" stroke=\"black\" points=\"941.69,-49 951.69,-45.5 941.69,-42 941.69,-49\"/>\n",
       "</g>\n",
       "<!-- 140444262551888 -->\n",
       "<g id=\"node7\" class=\"node\">\n",
       "<title>140444262551888</title>\n",
       "<polygon fill=\"none\" stroke=\"black\" points=\"638.5,-0.5 638.5,-36.5 826.5,-36.5 826.5,-0.5 638.5,-0.5\"/>\n",
       "<text text-anchor=\"middle\" x=\"649\" y=\"-14.8\" font-family=\"Times,serif\" font-size=\"14.00\">f</text>\n",
       "<polyline fill=\"none\" stroke=\"black\" points=\"659.5,-0.5 659.5,-36.5\"/>\n",
       "<text text-anchor=\"middle\" x=\"702\" y=\"-14.8\" font-family=\"Times,serif\" font-size=\"14.00\">data &#45;2.0000</text>\n",
       "<polyline fill=\"none\" stroke=\"black\" points=\"744.5,-0.5 744.5,-36.5\"/>\n",
       "<text text-anchor=\"middle\" x=\"785.5\" y=\"-14.8\" font-family=\"Times,serif\" font-size=\"14.00\">grad 4.0000</text>\n",
       "</g>\n",
       "<!-- 140444262551888&#45;&gt;140444262551824* -->\n",
       "<g id=\"edge9\" class=\"edge\">\n",
       "<title>140444262551888&#45;&gt;140444262551824*</title>\n",
       "<path fill=\"none\" stroke=\"black\" d=\"M826.2,-34.6C835.38,-36.19 844.27,-37.73 852.33,-39.13\"/>\n",
       "<polygon fill=\"black\" stroke=\"black\" points=\"851.54,-42.55 861.99,-40.81 852.74,-35.65 851.54,-42.55\"/>\n",
       "</g>\n",
       "<!-- 140444261284176 -->\n",
       "<g id=\"node8\" class=\"node\">\n",
       "<title>140444261284176</title>\n",
       "<polygon fill=\"none\" stroke=\"black\" points=\"0,-56.5 0,-92.5 190,-92.5 190,-56.5 0,-56.5\"/>\n",
       "<text text-anchor=\"middle\" x=\"11.5\" y=\"-70.8\" font-family=\"Times,serif\" font-size=\"14.00\">b</text>\n",
       "<polyline fill=\"none\" stroke=\"black\" points=\"23,-56.5 23,-92.5\"/>\n",
       "<text text-anchor=\"middle\" x=\"65.5\" y=\"-70.8\" font-family=\"Times,serif\" font-size=\"14.00\">data &#45;3.0000</text>\n",
       "<polyline fill=\"none\" stroke=\"black\" points=\"108,-56.5 108,-92.5\"/>\n",
       "<text text-anchor=\"middle\" x=\"149\" y=\"-70.8\" font-family=\"Times,serif\" font-size=\"14.00\">grad 0.0000</text>\n",
       "</g>\n",
       "<!-- 140444261284176&#45;&gt;140444261284816* -->\n",
       "<g id=\"edge8\" class=\"edge\">\n",
       "<title>140444261284176&#45;&gt;140444261284816*</title>\n",
       "<path fill=\"none\" stroke=\"black\" d=\"M189.9,-90.75C198.81,-92.29 207.43,-93.79 215.28,-95.14\"/>\n",
       "<polygon fill=\"black\" stroke=\"black\" points=\"214.57,-98.57 225.02,-96.83 215.76,-91.68 214.57,-98.57\"/>\n",
       "</g>\n",
       "<!-- 140444262552016 -->\n",
       "<g id=\"node9\" class=\"node\">\n",
       "<title>140444262552016</title>\n",
       "<polygon fill=\"none\" stroke=\"black\" points=\"638,-55.5 638,-91.5 827,-91.5 827,-55.5 638,-55.5\"/>\n",
       "<text text-anchor=\"middle\" x=\"649.5\" y=\"-69.8\" font-family=\"Times,serif\" font-size=\"14.00\">d</text>\n",
       "<polyline fill=\"none\" stroke=\"black\" points=\"661,-55.5 661,-91.5\"/>\n",
       "<text text-anchor=\"middle\" x=\"701\" y=\"-69.8\" font-family=\"Times,serif\" font-size=\"14.00\">data 4.0000</text>\n",
       "<polyline fill=\"none\" stroke=\"black\" points=\"741,-55.5 741,-91.5\"/>\n",
       "<text text-anchor=\"middle\" x=\"784\" y=\"-69.8\" font-family=\"Times,serif\" font-size=\"14.00\">grad &#45;2.0000</text>\n",
       "</g>\n",
       "<!-- 140444262552016&#45;&gt;140444262551824* -->\n",
       "<g id=\"edge4\" class=\"edge\">\n",
       "<title>140444262552016&#45;&gt;140444262551824*</title>\n",
       "<path fill=\"none\" stroke=\"black\" d=\"M826.65,-56.73C835.58,-55.12 844.23,-53.56 852.11,-52.14\"/>\n",
       "<polygon fill=\"black\" stroke=\"black\" points=\"852.68,-55.6 861.9,-50.38 851.44,-48.71 852.68,-55.6\"/>\n",
       "</g>\n",
       "<!-- 140444262552016+&#45;&gt;140444262552016 -->\n",
       "<g id=\"edge3\" class=\"edge\">\n",
       "<title>140444262552016+&#45;&gt;140444262552016</title>\n",
       "<path fill=\"none\" stroke=\"black\" d=\"M602.38,-73.5C609.63,-73.5 617.96,-73.5 626.82,-73.5\"/>\n",
       "<polygon fill=\"black\" stroke=\"black\" points=\"626.77,-77 636.77,-73.5 626.77,-70 626.77,-77\"/>\n",
       "</g>\n",
       "</g>\n",
       "</svg>\n"
      ],
      "text/plain": [
       "<graphviz.graphs.Digraph at 0x7fbbba615b50>"
      ]
     },
     "execution_count": 43,
     "metadata": {},
     "output_type": "execute_result"
    }
   ],
   "source": [
    "e.grad = 1 * d.grad\n",
    "c.grad = 1 * d.grad\n",
    "draw_dot(L)"
   ]
  },
  {
   "cell_type": "markdown",
   "metadata": {
    "id": "SosyIz4ySuTo"
   },
   "source": [
    "### $\\frac{dL}{da}$ and $\\frac{dL}{db}$\n",
    "\n",
    "Again, we move backwards through our graph and arrive at our first layer. We can now make use of the just-computed $\\frac{dL}{de}$ to find $\\frac{dL}{da}$ and $\\frac{dL}{db}$. \n",
    "\n",
    "- $\\frac{dL}{da} = \\frac{de}{da} \\cdot \\frac{dL}{de}$\n",
    "- $\\frac{dL}{db} = \\frac{de}{db} \\cdot \\frac{dL}{de}$\n",
    "\n",
    "We know that $e$ is defined as $e = a \\cdot b$, so we can calculate both $\\frac{dd}{da}$ and $\\frac{dd}{db}$ and substitute in our value of $\\frac{dL}{de}$.\n",
    "\n",
    "- $\\frac{dL}{da} = b \\cdot (-2)$\n",
    "- $\\frac{dL}{db} = a \\cdot (-2)$\n",
    "\n",
    "Finally, we can fill in the `grad` attribute for `a` and `b`. "
   ]
  },
  {
   "cell_type": "code",
   "execution_count": 44,
   "metadata": {
    "colab": {
     "base_uri": "https://localhost:8080/",
     "height": 213
    },
    "id": "AI73a-HETYXb",
    "outputId": "bf8bb811-a609-4dfb-fa12-28ca0ba49f5f"
   },
   "outputs": [
    {
     "data": {
      "image/svg+xml": [
       "<?xml version=\"1.0\" encoding=\"UTF-8\" standalone=\"no\"?>\n",
       "<!DOCTYPE svg PUBLIC \"-//W3C//DTD SVG 1.1//EN\"\n",
       " \"http://www.w3.org/Graphics/SVG/1.1/DTD/svg11.dtd\">\n",
       "<!-- Generated by graphviz version 7.0.4 (20221203.1631)\n",
       " -->\n",
       "<!-- Pages: 1 -->\n",
       "<svg width=\"1157pt\" height=\"156pt\"\n",
       " viewBox=\"0.00 0.00 1157.00 156.00\" xmlns=\"http://www.w3.org/2000/svg\" xmlns:xlink=\"http://www.w3.org/1999/xlink\">\n",
       "<g id=\"graph0\" class=\"graph\" transform=\"scale(1 1) rotate(0) translate(4 152)\">\n",
       "<polygon fill=\"white\" stroke=\"none\" points=\"-4,4 -4,-152 1153,-152 1153,4 -4,4\"/>\n",
       "<!-- 140444261283792 -->\n",
       "<g id=\"node1\" class=\"node\">\n",
       "<title>140444261283792</title>\n",
       "<polygon fill=\"none\" stroke=\"black\" points=\"4.5,-111.5 4.5,-147.5 189.5,-147.5 189.5,-111.5 4.5,-111.5\"/>\n",
       "<text text-anchor=\"middle\" x=\"16\" y=\"-125.8\" font-family=\"Times,serif\" font-size=\"14.00\">a</text>\n",
       "<polyline fill=\"none\" stroke=\"black\" points=\"27.5,-111.5 27.5,-147.5\"/>\n",
       "<text text-anchor=\"middle\" x=\"67.5\" y=\"-125.8\" font-family=\"Times,serif\" font-size=\"14.00\">data 2.0000</text>\n",
       "<polyline fill=\"none\" stroke=\"black\" points=\"107.5,-111.5 107.5,-147.5\"/>\n",
       "<text text-anchor=\"middle\" x=\"148.5\" y=\"-125.8\" font-family=\"Times,serif\" font-size=\"14.00\">grad 6.0000</text>\n",
       "</g>\n",
       "<!-- 140444261284816* -->\n",
       "<g id=\"node3\" class=\"node\">\n",
       "<title>140444261284816*</title>\n",
       "<ellipse fill=\"none\" stroke=\"black\" cx=\"257\" cy=\"-101.5\" rx=\"27\" ry=\"18\"/>\n",
       "<text text-anchor=\"middle\" x=\"257\" y=\"-97.8\" font-family=\"Times,serif\" font-size=\"14.00\">*</text>\n",
       "</g>\n",
       "<!-- 140444261283792&#45;&gt;140444261284816* -->\n",
       "<g id=\"edge6\" class=\"edge\">\n",
       "<title>140444261283792&#45;&gt;140444261284816*</title>\n",
       "<path fill=\"none\" stroke=\"black\" d=\"M189.45,-113.29C199.89,-111.44 210.03,-109.65 219.12,-108.04\"/>\n",
       "<polygon fill=\"black\" stroke=\"black\" points=\"219.68,-111.49 228.91,-106.3 218.46,-104.6 219.68,-111.49\"/>\n",
       "</g>\n",
       "<!-- 140444261284816 -->\n",
       "<g id=\"node2\" class=\"node\">\n",
       "<title>140444261284816</title>\n",
       "<polygon fill=\"none\" stroke=\"black\" points=\"321,-83.5 321,-119.5 515,-119.5 515,-83.5 321,-83.5\"/>\n",
       "<text text-anchor=\"middle\" x=\"332.5\" y=\"-97.8\" font-family=\"Times,serif\" font-size=\"14.00\">e</text>\n",
       "<polyline fill=\"none\" stroke=\"black\" points=\"344,-83.5 344,-119.5\"/>\n",
       "<text text-anchor=\"middle\" x=\"386.5\" y=\"-97.8\" font-family=\"Times,serif\" font-size=\"14.00\">data &#45;6.0000</text>\n",
       "<polyline fill=\"none\" stroke=\"black\" points=\"429,-83.5 429,-119.5\"/>\n",
       "<text text-anchor=\"middle\" x=\"472\" y=\"-97.8\" font-family=\"Times,serif\" font-size=\"14.00\">grad &#45;2.0000</text>\n",
       "</g>\n",
       "<!-- 140444262552016+ -->\n",
       "<g id=\"node10\" class=\"node\">\n",
       "<title>140444262552016+</title>\n",
       "<ellipse fill=\"none\" stroke=\"black\" cx=\"579\" cy=\"-73.5\" rx=\"27\" ry=\"18\"/>\n",
       "<text text-anchor=\"middle\" x=\"579\" y=\"-69.8\" font-family=\"Times,serif\" font-size=\"14.00\">+</text>\n",
       "</g>\n",
       "<!-- 140444261284816&#45;&gt;140444262552016+ -->\n",
       "<g id=\"edge5\" class=\"edge\">\n",
       "<title>140444261284816&#45;&gt;140444262552016+</title>\n",
       "<path fill=\"none\" stroke=\"black\" d=\"M514.7,-84.65C524.07,-83 533.12,-81.4 541.32,-79.96\"/>\n",
       "<polygon fill=\"black\" stroke=\"black\" points=\"541.9,-83.41 551.14,-78.23 540.69,-76.52 541.9,-83.41\"/>\n",
       "</g>\n",
       "<!-- 140444261284816*&#45;&gt;140444261284816 -->\n",
       "<g id=\"edge1\" class=\"edge\">\n",
       "<title>140444261284816*&#45;&gt;140444261284816</title>\n",
       "<path fill=\"none\" stroke=\"black\" d=\"M284.26,-101.5C291.86,-101.5 300.67,-101.5 310.07,-101.5\"/>\n",
       "<polygon fill=\"black\" stroke=\"black\" points=\"309.81,-105 319.81,-101.5 309.81,-98 309.81,-105\"/>\n",
       "</g>\n",
       "<!-- 140444261283088 -->\n",
       "<g id=\"node4\" class=\"node\">\n",
       "<title>140444261283088</title>\n",
       "<polygon fill=\"none\" stroke=\"black\" points=\"320,-28.5 320,-64.5 516,-64.5 516,-28.5 320,-28.5\"/>\n",
       "<text text-anchor=\"middle\" x=\"331.5\" y=\"-42.8\" font-family=\"Times,serif\" font-size=\"14.00\">c</text>\n",
       "<polyline fill=\"none\" stroke=\"black\" points=\"343,-28.5 343,-64.5\"/>\n",
       "<text text-anchor=\"middle\" x=\"386.5\" y=\"-42.8\" font-family=\"Times,serif\" font-size=\"14.00\">data 10.0000</text>\n",
       "<polyline fill=\"none\" stroke=\"black\" points=\"430,-28.5 430,-64.5\"/>\n",
       "<text text-anchor=\"middle\" x=\"473\" y=\"-42.8\" font-family=\"Times,serif\" font-size=\"14.00\">grad &#45;2.0000</text>\n",
       "</g>\n",
       "<!-- 140444261283088&#45;&gt;140444262552016+ -->\n",
       "<g id=\"edge7\" class=\"edge\">\n",
       "<title>140444261283088&#45;&gt;140444262552016+</title>\n",
       "<path fill=\"none\" stroke=\"black\" d=\"M515.62,-62.91C524.6,-64.43 533.27,-65.9 541.15,-67.24\"/>\n",
       "<polygon fill=\"black\" stroke=\"black\" points=\"540.51,-70.68 550.95,-68.91 541.68,-63.78 540.51,-70.68\"/>\n",
       "</g>\n",
       "<!-- 140444262551824 -->\n",
       "<g id=\"node5\" class=\"node\">\n",
       "<title>140444262551824</title>\n",
       "<polygon fill=\"none\" stroke=\"black\" points=\"957,-27.5 957,-63.5 1149,-63.5 1149,-27.5 957,-27.5\"/>\n",
       "<text text-anchor=\"middle\" x=\"969.5\" y=\"-41.8\" font-family=\"Times,serif\" font-size=\"14.00\">L</text>\n",
       "<polyline fill=\"none\" stroke=\"black\" points=\"982,-27.5 982,-63.5\"/>\n",
       "<text text-anchor=\"middle\" x=\"1024.5\" y=\"-41.8\" font-family=\"Times,serif\" font-size=\"14.00\">data &#45;8.0000</text>\n",
       "<polyline fill=\"none\" stroke=\"black\" points=\"1067,-27.5 1067,-63.5\"/>\n",
       "<text text-anchor=\"middle\" x=\"1108\" y=\"-41.8\" font-family=\"Times,serif\" font-size=\"14.00\">grad 1.0000</text>\n",
       "</g>\n",
       "<!-- 140444262551824* -->\n",
       "<g id=\"node6\" class=\"node\">\n",
       "<title>140444262551824*</title>\n",
       "<ellipse fill=\"none\" stroke=\"black\" cx=\"894\" cy=\"-45.5\" rx=\"27\" ry=\"18\"/>\n",
       "<text text-anchor=\"middle\" x=\"894\" y=\"-41.8\" font-family=\"Times,serif\" font-size=\"14.00\">*</text>\n",
       "</g>\n",
       "<!-- 140444262551824*&#45;&gt;140444262551824 -->\n",
       "<g id=\"edge2\" class=\"edge\">\n",
       "<title>140444262551824*&#45;&gt;140444262551824</title>\n",
       "<path fill=\"none\" stroke=\"black\" d=\"M921.28,-45.5C928.52,-45.5 936.85,-45.5 945.72,-45.5\"/>\n",
       "<polygon fill=\"black\" stroke=\"black\" points=\"945.69,-49 955.69,-45.5 945.69,-42 945.69,-49\"/>\n",
       "</g>\n",
       "<!-- 140444262551888 -->\n",
       "<g id=\"node7\" class=\"node\">\n",
       "<title>140444262551888</title>\n",
       "<polygon fill=\"none\" stroke=\"black\" points=\"642.5,-0.5 642.5,-36.5 830.5,-36.5 830.5,-0.5 642.5,-0.5\"/>\n",
       "<text text-anchor=\"middle\" x=\"653\" y=\"-14.8\" font-family=\"Times,serif\" font-size=\"14.00\">f</text>\n",
       "<polyline fill=\"none\" stroke=\"black\" points=\"663.5,-0.5 663.5,-36.5\"/>\n",
       "<text text-anchor=\"middle\" x=\"706\" y=\"-14.8\" font-family=\"Times,serif\" font-size=\"14.00\">data &#45;2.0000</text>\n",
       "<polyline fill=\"none\" stroke=\"black\" points=\"748.5,-0.5 748.5,-36.5\"/>\n",
       "<text text-anchor=\"middle\" x=\"789.5\" y=\"-14.8\" font-family=\"Times,serif\" font-size=\"14.00\">grad 4.0000</text>\n",
       "</g>\n",
       "<!-- 140444262551888&#45;&gt;140444262551824* -->\n",
       "<g id=\"edge9\" class=\"edge\">\n",
       "<title>140444262551888&#45;&gt;140444262551824*</title>\n",
       "<path fill=\"none\" stroke=\"black\" d=\"M830.2,-34.6C839.38,-36.19 848.27,-37.73 856.33,-39.13\"/>\n",
       "<polygon fill=\"black\" stroke=\"black\" points=\"855.54,-42.55 865.99,-40.81 856.74,-35.65 855.54,-42.55\"/>\n",
       "</g>\n",
       "<!-- 140444261284176 -->\n",
       "<g id=\"node8\" class=\"node\">\n",
       "<title>140444261284176</title>\n",
       "<polygon fill=\"none\" stroke=\"black\" points=\"0,-56.5 0,-92.5 194,-92.5 194,-56.5 0,-56.5\"/>\n",
       "<text text-anchor=\"middle\" x=\"11.5\" y=\"-70.8\" font-family=\"Times,serif\" font-size=\"14.00\">b</text>\n",
       "<polyline fill=\"none\" stroke=\"black\" points=\"23,-56.5 23,-92.5\"/>\n",
       "<text text-anchor=\"middle\" x=\"65.5\" y=\"-70.8\" font-family=\"Times,serif\" font-size=\"14.00\">data &#45;3.0000</text>\n",
       "<polyline fill=\"none\" stroke=\"black\" points=\"108,-56.5 108,-92.5\"/>\n",
       "<text text-anchor=\"middle\" x=\"151\" y=\"-70.8\" font-family=\"Times,serif\" font-size=\"14.00\">grad &#45;4.0000</text>\n",
       "</g>\n",
       "<!-- 140444261284176&#45;&gt;140444261284816* -->\n",
       "<g id=\"edge8\" class=\"edge\">\n",
       "<title>140444261284176&#45;&gt;140444261284816*</title>\n",
       "<path fill=\"none\" stroke=\"black\" d=\"M193.55,-90.83C202.53,-92.36 211.21,-93.85 219.1,-95.19\"/>\n",
       "<polygon fill=\"black\" stroke=\"black\" points=\"218.46,-98.63 228.9,-96.87 219.64,-91.73 218.46,-98.63\"/>\n",
       "</g>\n",
       "<!-- 140444262552016 -->\n",
       "<g id=\"node9\" class=\"node\">\n",
       "<title>140444262552016</title>\n",
       "<polygon fill=\"none\" stroke=\"black\" points=\"642,-55.5 642,-91.5 831,-91.5 831,-55.5 642,-55.5\"/>\n",
       "<text text-anchor=\"middle\" x=\"653.5\" y=\"-69.8\" font-family=\"Times,serif\" font-size=\"14.00\">d</text>\n",
       "<polyline fill=\"none\" stroke=\"black\" points=\"665,-55.5 665,-91.5\"/>\n",
       "<text text-anchor=\"middle\" x=\"705\" y=\"-69.8\" font-family=\"Times,serif\" font-size=\"14.00\">data 4.0000</text>\n",
       "<polyline fill=\"none\" stroke=\"black\" points=\"745,-55.5 745,-91.5\"/>\n",
       "<text text-anchor=\"middle\" x=\"788\" y=\"-69.8\" font-family=\"Times,serif\" font-size=\"14.00\">grad &#45;2.0000</text>\n",
       "</g>\n",
       "<!-- 140444262552016&#45;&gt;140444262551824* -->\n",
       "<g id=\"edge4\" class=\"edge\">\n",
       "<title>140444262552016&#45;&gt;140444262551824*</title>\n",
       "<path fill=\"none\" stroke=\"black\" d=\"M830.65,-56.73C839.58,-55.12 848.23,-53.56 856.11,-52.14\"/>\n",
       "<polygon fill=\"black\" stroke=\"black\" points=\"856.68,-55.6 865.9,-50.38 855.44,-48.71 856.68,-55.6\"/>\n",
       "</g>\n",
       "<!-- 140444262552016+&#45;&gt;140444262552016 -->\n",
       "<g id=\"edge3\" class=\"edge\">\n",
       "<title>140444262552016+&#45;&gt;140444262552016</title>\n",
       "<path fill=\"none\" stroke=\"black\" d=\"M606.38,-73.5C613.63,-73.5 621.96,-73.5 630.82,-73.5\"/>\n",
       "<polygon fill=\"black\" stroke=\"black\" points=\"630.77,-77 640.77,-73.5 630.77,-70 630.77,-77\"/>\n",
       "</g>\n",
       "</g>\n",
       "</svg>\n"
      ],
      "text/plain": [
       "<graphviz.graphs.Digraph at 0x7fbbba615f50>"
      ]
     },
     "execution_count": 44,
     "metadata": {},
     "output_type": "execute_result"
    }
   ],
   "source": [
    "a.grad = b.data * e.grad\n",
    "b.grad = a.data * e.grad\n",
    "draw_dot(L)"
   ]
  },
  {
   "cell_type": "markdown",
   "metadata": {
    "id": "FAL6Kk9PUOuj"
   },
   "source": [
    "As a sanity check, let's build the same computational graph in PyTorch and make sure our leaf nodes have the same gradient values as our manual calculation:"
   ]
  },
  {
   "cell_type": "code",
   "execution_count": 45,
   "metadata": {
    "colab": {
     "base_uri": "https://localhost:8080/"
    },
    "id": "pH1GVfqZTrew",
    "outputId": "13e12871-d95d-43be-fbd3-1e1568027349"
   },
   "outputs": [
    {
     "name": "stdout",
     "output_type": "stream",
     "text": [
      "tensor([-8.], grad_fn=<MulBackward0>)\n",
      "a.grad: tensor([6.])\n",
      "b.grad: tensor([-4.])\n",
      "c.grad: tensor([-2.])\n",
      "f.grad: tensor([4.])\n"
     ]
    }
   ],
   "source": [
    "a_tch = torch.tensor([2.0], requires_grad=True)\n",
    "b_tch = torch.tensor([-3.0], requires_grad=True)\n",
    "c_tch = torch.tensor([10.0], requires_grad=True)\n",
    "f_tch = torch.tensor([-2.0], requires_grad=True)\n",
    "L = ((a_tch * b_tch) + c_tch) * f_tch\n",
    "print(L)\n",
    "L.backward()\n",
    "print(\"a.grad:\", a_tch.grad)\n",
    "print(\"b.grad:\", b_tch.grad)\n",
    "print(\"c.grad:\", c_tch.grad)\n",
    "print(\"f.grad:\", f_tch.grad)"
   ]
  },
  {
   "cell_type": "markdown",
   "metadata": {},
   "source": [
    "Indeed the `grad` attribute from Torch for the leaf nodes match our calculations. As an exercise, you could also verify our gradient calcuations by using the numerical method we used at the beginning of this notebook."
   ]
  },
  {
   "cell_type": "markdown",
   "metadata": {
    "id": "1km-UxlPUeKg"
   },
   "source": [
    "## Building `Value`: Step 3\n",
    "\n",
    "Let's now add in our implementations of backpropagation for the two types of operations we have defined: addition and multiplication. So suppose we are currently at some `Value` node $f$ that takes as input nodes $x$ and $y$. Let's also suppose we have $\\frac{dL}{df}$ and want to compute $\\frac{dL}{dx}$ and $\\frac{dL}{dy}$.\n",
    "\n",
    "We observe the following for an addition node $f = x + y$:\n",
    "\n",
    "- $\\frac{df}{dx} = 1$\n",
    "- $\\frac{df}{dy} = 1$\n",
    "\n",
    "For a multiplication node $f = x \\cdot y$, we observe that:\n",
    "- $\\frac{df}{dx} = y$\n",
    "- $\\frac{df}{dy} = x$\n",
    "\n",
    "We just need to multiply these local derivatives with our node's global derivative $\\frac{dL}{df}$ to get $\\frac{dL}{dx}$ and $\\frac{dL}{dy}$. \n",
    "\n",
    "**One caveat**: $x$ and $y$ may be used to generate more than one `Value` node later in our graph, so we need to accumulate the gradients for all of its successor nodes.\n",
    "\n",
    "We will add in an internal `_backward` pass for both addition and multiplication and define a method `backward` that can be called on the final `Value` node of any computational graph."
   ]
  },
  {
   "cell_type": "code",
   "execution_count": 48,
   "metadata": {
    "id": "m6eKAS8jX0qr"
   },
   "outputs": [],
   "source": [
    "class Value:\n",
    "    \n",
    "    def __init__(self, data, _children = (), _op = '', label=''):\n",
    "        self.data = data\n",
    "        self.grad = 0\n",
    "        self.label = label\n",
    "        self._backward = lambda: None\n",
    "        self._prev = set(_children)\n",
    "        self._op = _op\n",
    "        \n",
    "    def __repr__(self):\n",
    "        return f\"Value(data={self.data})\"\n",
    "    \n",
    "    def __add__(self, other):\n",
    "        out = Value(self.data + other.data, _children=(self, other), _op='+')\n",
    "    \n",
    "        def _backward():\n",
    "            self.grad += 1 * out.grad # += since we are accumulating gradients over all children of self.grad\n",
    "            other.grad += 1 * out.grad\n",
    "\n",
    "        out._backward = _backward\n",
    "        return out\n",
    "    \n",
    "    def __mul__(self, other):\n",
    "        out = Value(self.data * other.data, _children=(self, other), _op='*')\n",
    "\n",
    "        def _backward():\n",
    "            self.grad += other.data * out.grad\n",
    "            other.grad += self.data * out.grad\n",
    "        \n",
    "        out._backward = _backward\n",
    "        return out\n",
    "\n",
    "    def backward(self):\n",
    "        # topological order all of the children in the graph\n",
    "        \n",
    "      \n",
    "        topo = []\n",
    "        visited = set()\n",
    "        def build_topo(v):\n",
    "            if v not in visited:\n",
    "                visited.add(v)\n",
    "                for child in v._prev:\n",
    "                    build_topo(child)\n",
    "                topo.append(v)\n",
    "        build_topo(self)\n",
    "        \n",
    "        self.grad = 1\n",
    "        # go one variable at a time and apply the chain rule to get its gradient\n",
    "        for v in reversed(topo):\n",
    "            v._backward()\n",
    "\n",
    "      "
   ]
  },
  {
   "cell_type": "markdown",
   "metadata": {
    "id": "dxmt4rw9Ygbw"
   },
   "source": [
    "Now, let's reinstiate our computational graph and call `backward` on our final `Value` node `L`. Note that `backward` will then set `L.grad=1`."
   ]
  },
  {
   "cell_type": "code",
   "execution_count": 49,
   "metadata": {
    "colab": {
     "base_uri": "https://localhost:8080/",
     "height": 268
    },
    "id": "qhdrZeooeE2w",
    "outputId": "d1f79fc1-5012-4b39-df61-644905d5ff29"
   },
   "outputs": [
    {
     "name": "stdout",
     "output_type": "stream",
     "text": [
      "Value(data=-8.0)\n"
     ]
    },
    {
     "data": {
      "image/svg+xml": [
       "<?xml version=\"1.0\" encoding=\"UTF-8\" standalone=\"no\"?>\n",
       "<!DOCTYPE svg PUBLIC \"-//W3C//DTD SVG 1.1//EN\"\n",
       " \"http://www.w3.org/Graphics/SVG/1.1/DTD/svg11.dtd\">\n",
       "<!-- Generated by graphviz version 7.0.4 (20221203.1631)\n",
       " -->\n",
       "<!-- Pages: 1 -->\n",
       "<svg width=\"1157pt\" height=\"154pt\"\n",
       " viewBox=\"0.00 0.00 1157.00 154.00\" xmlns=\"http://www.w3.org/2000/svg\" xmlns:xlink=\"http://www.w3.org/1999/xlink\">\n",
       "<g id=\"graph0\" class=\"graph\" transform=\"scale(1 1) rotate(0) translate(4 150)\">\n",
       "<polygon fill=\"white\" stroke=\"none\" points=\"-4,4 -4,-150 1153,-150 1153,4 -4,4\"/>\n",
       "<!-- 140444261387280 -->\n",
       "<g id=\"node1\" class=\"node\">\n",
       "<title>140444261387280</title>\n",
       "<polygon fill=\"none\" stroke=\"black\" points=\"642.5,-109.5 642.5,-145.5 830.5,-145.5 830.5,-109.5 642.5,-109.5\"/>\n",
       "<text text-anchor=\"middle\" x=\"653\" y=\"-123.8\" font-family=\"Times,serif\" font-size=\"14.00\">f</text>\n",
       "<polyline fill=\"none\" stroke=\"black\" points=\"663.5,-109.5 663.5,-145.5\"/>\n",
       "<text text-anchor=\"middle\" x=\"706\" y=\"-123.8\" font-family=\"Times,serif\" font-size=\"14.00\">data &#45;2.0000</text>\n",
       "<polyline fill=\"none\" stroke=\"black\" points=\"748.5,-109.5 748.5,-145.5\"/>\n",
       "<text text-anchor=\"middle\" x=\"789.5\" y=\"-123.8\" font-family=\"Times,serif\" font-size=\"14.00\">grad 4.0000</text>\n",
       "</g>\n",
       "<!-- 140444261386512* -->\n",
       "<g id=\"node8\" class=\"node\">\n",
       "<title>140444261386512*</title>\n",
       "<ellipse fill=\"none\" stroke=\"black\" cx=\"894\" cy=\"-99.5\" rx=\"27\" ry=\"18\"/>\n",
       "<text text-anchor=\"middle\" x=\"894\" y=\"-95.8\" font-family=\"Times,serif\" font-size=\"14.00\">*</text>\n",
       "</g>\n",
       "<!-- 140444261387280&#45;&gt;140444261386512* -->\n",
       "<g id=\"edge6\" class=\"edge\">\n",
       "<title>140444261387280&#45;&gt;140444261386512*</title>\n",
       "<path fill=\"none\" stroke=\"black\" d=\"M830.2,-110.81C839.38,-109.16 848.27,-107.56 856.33,-106.1\"/>\n",
       "<polygon fill=\"black\" stroke=\"black\" points=\"856.77,-109.58 865.99,-104.36 855.53,-102.69 856.77,-109.58\"/>\n",
       "</g>\n",
       "<!-- 140444243453520 -->\n",
       "<g id=\"node2\" class=\"node\">\n",
       "<title>140444243453520</title>\n",
       "<polygon fill=\"none\" stroke=\"black\" points=\"320,-82.5 320,-118.5 516,-118.5 516,-82.5 320,-82.5\"/>\n",
       "<text text-anchor=\"middle\" x=\"331.5\" y=\"-96.8\" font-family=\"Times,serif\" font-size=\"14.00\">c</text>\n",
       "<polyline fill=\"none\" stroke=\"black\" points=\"343,-82.5 343,-118.5\"/>\n",
       "<text text-anchor=\"middle\" x=\"386.5\" y=\"-96.8\" font-family=\"Times,serif\" font-size=\"14.00\">data 10.0000</text>\n",
       "<polyline fill=\"none\" stroke=\"black\" points=\"430,-82.5 430,-118.5\"/>\n",
       "<text text-anchor=\"middle\" x=\"473\" y=\"-96.8\" font-family=\"Times,serif\" font-size=\"14.00\">grad &#45;2.0000</text>\n",
       "</g>\n",
       "<!-- 140444261387472+ -->\n",
       "<g id=\"node4\" class=\"node\">\n",
       "<title>140444261387472+</title>\n",
       "<ellipse fill=\"none\" stroke=\"black\" cx=\"579\" cy=\"-72.5\" rx=\"27\" ry=\"18\"/>\n",
       "<text text-anchor=\"middle\" x=\"579\" y=\"-68.8\" font-family=\"Times,serif\" font-size=\"14.00\">+</text>\n",
       "</g>\n",
       "<!-- 140444243453520&#45;&gt;140444261387472+ -->\n",
       "<g id=\"edge5\" class=\"edge\">\n",
       "<title>140444243453520&#45;&gt;140444261387472+</title>\n",
       "<path fill=\"none\" stroke=\"black\" d=\"M515.62,-83.49C524.6,-81.9 533.27,-80.38 541.15,-78.99\"/>\n",
       "<polygon fill=\"black\" stroke=\"black\" points=\"541.71,-82.44 550.95,-77.26 540.5,-75.55 541.71,-82.44\"/>\n",
       "</g>\n",
       "<!-- 140444261387472 -->\n",
       "<g id=\"node3\" class=\"node\">\n",
       "<title>140444261387472</title>\n",
       "<polygon fill=\"none\" stroke=\"black\" points=\"642,-54.5 642,-90.5 831,-90.5 831,-54.5 642,-54.5\"/>\n",
       "<text text-anchor=\"middle\" x=\"653.5\" y=\"-68.8\" font-family=\"Times,serif\" font-size=\"14.00\">d</text>\n",
       "<polyline fill=\"none\" stroke=\"black\" points=\"665,-54.5 665,-90.5\"/>\n",
       "<text text-anchor=\"middle\" x=\"705\" y=\"-68.8\" font-family=\"Times,serif\" font-size=\"14.00\">data 4.0000</text>\n",
       "<polyline fill=\"none\" stroke=\"black\" points=\"745,-54.5 745,-90.5\"/>\n",
       "<text text-anchor=\"middle\" x=\"788\" y=\"-68.8\" font-family=\"Times,serif\" font-size=\"14.00\">grad &#45;2.0000</text>\n",
       "</g>\n",
       "<!-- 140444261387472&#45;&gt;140444261386512* -->\n",
       "<g id=\"edge7\" class=\"edge\">\n",
       "<title>140444261387472&#45;&gt;140444261386512*</title>\n",
       "<path fill=\"none\" stroke=\"black\" d=\"M830.65,-88.67C839.58,-90.22 848.23,-91.73 856.11,-93.09\"/>\n",
       "<polygon fill=\"black\" stroke=\"black\" points=\"855.45,-96.53 865.9,-94.79 856.64,-89.63 855.45,-96.53\"/>\n",
       "</g>\n",
       "<!-- 140444261387472+&#45;&gt;140444261387472 -->\n",
       "<g id=\"edge1\" class=\"edge\">\n",
       "<title>140444261387472+&#45;&gt;140444261387472</title>\n",
       "<path fill=\"none\" stroke=\"black\" d=\"M606.38,-72.5C613.63,-72.5 621.96,-72.5 630.82,-72.5\"/>\n",
       "<polygon fill=\"black\" stroke=\"black\" points=\"630.77,-76 640.77,-72.5 630.77,-69 630.77,-76\"/>\n",
       "</g>\n",
       "<!-- 140444261386448 -->\n",
       "<g id=\"node5\" class=\"node\">\n",
       "<title>140444261386448</title>\n",
       "<polygon fill=\"none\" stroke=\"black\" points=\"321,-27.5 321,-63.5 515,-63.5 515,-27.5 321,-27.5\"/>\n",
       "<text text-anchor=\"middle\" x=\"332.5\" y=\"-41.8\" font-family=\"Times,serif\" font-size=\"14.00\">e</text>\n",
       "<polyline fill=\"none\" stroke=\"black\" points=\"344,-27.5 344,-63.5\"/>\n",
       "<text text-anchor=\"middle\" x=\"386.5\" y=\"-41.8\" font-family=\"Times,serif\" font-size=\"14.00\">data &#45;6.0000</text>\n",
       "<polyline fill=\"none\" stroke=\"black\" points=\"429,-27.5 429,-63.5\"/>\n",
       "<text text-anchor=\"middle\" x=\"472\" y=\"-41.8\" font-family=\"Times,serif\" font-size=\"14.00\">grad &#45;2.0000</text>\n",
       "</g>\n",
       "<!-- 140444261386448&#45;&gt;140444261387472+ -->\n",
       "<g id=\"edge4\" class=\"edge\">\n",
       "<title>140444261386448&#45;&gt;140444261387472+</title>\n",
       "<path fill=\"none\" stroke=\"black\" d=\"M514.7,-61.75C523.98,-63.33 532.95,-64.85 541.08,-66.23\"/>\n",
       "<polygon fill=\"black\" stroke=\"black\" points=\"540.39,-69.66 550.84,-67.89 541.56,-62.76 540.39,-69.66\"/>\n",
       "</g>\n",
       "<!-- 140444261386448* -->\n",
       "<g id=\"node6\" class=\"node\">\n",
       "<title>140444261386448*</title>\n",
       "<ellipse fill=\"none\" stroke=\"black\" cx=\"257\" cy=\"-45.5\" rx=\"27\" ry=\"18\"/>\n",
       "<text text-anchor=\"middle\" x=\"257\" y=\"-41.8\" font-family=\"Times,serif\" font-size=\"14.00\">*</text>\n",
       "</g>\n",
       "<!-- 140444261386448*&#45;&gt;140444261386448 -->\n",
       "<g id=\"edge2\" class=\"edge\">\n",
       "<title>140444261386448*&#45;&gt;140444261386448</title>\n",
       "<path fill=\"none\" stroke=\"black\" d=\"M284.26,-45.5C291.86,-45.5 300.67,-45.5 310.07,-45.5\"/>\n",
       "<polygon fill=\"black\" stroke=\"black\" points=\"309.81,-49 319.81,-45.5 309.81,-42 309.81,-49\"/>\n",
       "</g>\n",
       "<!-- 140444261386512 -->\n",
       "<g id=\"node7\" class=\"node\">\n",
       "<title>140444261386512</title>\n",
       "<polygon fill=\"none\" stroke=\"black\" points=\"957,-81.5 957,-117.5 1149,-117.5 1149,-81.5 957,-81.5\"/>\n",
       "<text text-anchor=\"middle\" x=\"969.5\" y=\"-95.8\" font-family=\"Times,serif\" font-size=\"14.00\">L</text>\n",
       "<polyline fill=\"none\" stroke=\"black\" points=\"982,-81.5 982,-117.5\"/>\n",
       "<text text-anchor=\"middle\" x=\"1024.5\" y=\"-95.8\" font-family=\"Times,serif\" font-size=\"14.00\">data &#45;8.0000</text>\n",
       "<polyline fill=\"none\" stroke=\"black\" points=\"1067,-81.5 1067,-117.5\"/>\n",
       "<text text-anchor=\"middle\" x=\"1108\" y=\"-95.8\" font-family=\"Times,serif\" font-size=\"14.00\">grad 1.0000</text>\n",
       "</g>\n",
       "<!-- 140444261386512*&#45;&gt;140444261386512 -->\n",
       "<g id=\"edge3\" class=\"edge\">\n",
       "<title>140444261386512*&#45;&gt;140444261386512</title>\n",
       "<path fill=\"none\" stroke=\"black\" d=\"M921.28,-99.5C928.52,-99.5 936.85,-99.5 945.72,-99.5\"/>\n",
       "<polygon fill=\"black\" stroke=\"black\" points=\"945.69,-103 955.69,-99.5 945.69,-96 945.69,-103\"/>\n",
       "</g>\n",
       "<!-- 140444261385168 -->\n",
       "<g id=\"node9\" class=\"node\">\n",
       "<title>140444261385168</title>\n",
       "<polygon fill=\"none\" stroke=\"black\" points=\"4.5,-55.5 4.5,-91.5 189.5,-91.5 189.5,-55.5 4.5,-55.5\"/>\n",
       "<text text-anchor=\"middle\" x=\"16\" y=\"-69.8\" font-family=\"Times,serif\" font-size=\"14.00\">a</text>\n",
       "<polyline fill=\"none\" stroke=\"black\" points=\"27.5,-55.5 27.5,-91.5\"/>\n",
       "<text text-anchor=\"middle\" x=\"67.5\" y=\"-69.8\" font-family=\"Times,serif\" font-size=\"14.00\">data 2.0000</text>\n",
       "<polyline fill=\"none\" stroke=\"black\" points=\"107.5,-55.5 107.5,-91.5\"/>\n",
       "<text text-anchor=\"middle\" x=\"148.5\" y=\"-69.8\" font-family=\"Times,serif\" font-size=\"14.00\">grad 6.0000</text>\n",
       "</g>\n",
       "<!-- 140444261385168&#45;&gt;140444261386448* -->\n",
       "<g id=\"edge9\" class=\"edge\">\n",
       "<title>140444261385168&#45;&gt;140444261386448*</title>\n",
       "<path fill=\"none\" stroke=\"black\" d=\"M189.45,-57.29C199.89,-55.44 210.03,-53.65 219.12,-52.04\"/>\n",
       "<polygon fill=\"black\" stroke=\"black\" points=\"219.68,-55.49 228.91,-50.3 218.46,-48.6 219.68,-55.49\"/>\n",
       "</g>\n",
       "<!-- 140444261386192 -->\n",
       "<g id=\"node10\" class=\"node\">\n",
       "<title>140444261386192</title>\n",
       "<polygon fill=\"none\" stroke=\"black\" points=\"0,-0.5 0,-36.5 194,-36.5 194,-0.5 0,-0.5\"/>\n",
       "<text text-anchor=\"middle\" x=\"11.5\" y=\"-14.8\" font-family=\"Times,serif\" font-size=\"14.00\">b</text>\n",
       "<polyline fill=\"none\" stroke=\"black\" points=\"23,-0.5 23,-36.5\"/>\n",
       "<text text-anchor=\"middle\" x=\"65.5\" y=\"-14.8\" font-family=\"Times,serif\" font-size=\"14.00\">data &#45;3.0000</text>\n",
       "<polyline fill=\"none\" stroke=\"black\" points=\"108,-0.5 108,-36.5\"/>\n",
       "<text text-anchor=\"middle\" x=\"151\" y=\"-14.8\" font-family=\"Times,serif\" font-size=\"14.00\">grad &#45;4.0000</text>\n",
       "</g>\n",
       "<!-- 140444261386192&#45;&gt;140444261386448* -->\n",
       "<g id=\"edge8\" class=\"edge\">\n",
       "<title>140444261386192&#45;&gt;140444261386448*</title>\n",
       "<path fill=\"none\" stroke=\"black\" d=\"M193.55,-34.83C202.53,-36.36 211.21,-37.85 219.1,-39.19\"/>\n",
       "<polygon fill=\"black\" stroke=\"black\" points=\"218.46,-42.63 228.9,-40.87 219.64,-35.73 218.46,-42.63\"/>\n",
       "</g>\n",
       "</g>\n",
       "</svg>\n"
      ],
      "text/plain": [
       "<graphviz.graphs.Digraph at 0x7fbbba4f8490>"
      ]
     },
     "execution_count": 49,
     "metadata": {},
     "output_type": "execute_result"
    }
   ],
   "source": [
    "a = Value(2.0, label='a')\n",
    "b = Value(-3.0, label='b')\n",
    "c = Value(10.0, label='c')\n",
    "e = a*b; e.label='e'\n",
    "d = e + c;\n",
    "d.label='d'\n",
    "f = Value(-2.0, label='f')\n",
    "L = d * f\n",
    "L.label='L'\n",
    "print(L)\n",
    "L.backward()\n",
    "draw_dot(L)"
   ]
  },
  {
   "cell_type": "markdown",
   "metadata": {
    "id": "KLj_1PEHZy-7"
   },
   "source": [
    "Our `grad` attributes calculated by `backward` match our `grad` attributes we calculated by hand! And so we've implemented backprop from scratch but just for two operations (multiplication and addition). Feel free to add your own operations such as $x^2$ or $\\max(x,y)$. As we've seen in this notebook, you just need to\n",
    "- define the forward pass of your function (like $x^2$ or $\\max(x,y)$)\n",
    "- define the local gradient of your function with respect to its inputs\n",
    "\n",
    "Now that we've gone through the process for addition and multiplication, take a look at [Figure 1 of this blog post from PyTorch](https://pytorch.org/blog/computational-graphs-constructed-in-pytorch/). You can see that for each function in the computational graph, PyTorch keeps a track of how to evaluate the local gradient with respect to its inputs (for example, `SinBackward`). \n"
   ]
  }
 ],
 "metadata": {
  "colab": {
   "provenance": []
  },
  "kernelspec": {
   "display_name": "Python 3",
   "language": "python",
   "name": "python3"
  },
  "language_info": {
   "codemirror_mode": {
    "name": "ipython",
    "version": 3
   },
   "file_extension": ".py",
   "mimetype": "text/x-python",
   "name": "python",
   "nbconvert_exporter": "python",
   "pygments_lexer": "ipython3",
   "version": "3.7.6"
  }
 },
 "nbformat": 4,
 "nbformat_minor": 1
}
