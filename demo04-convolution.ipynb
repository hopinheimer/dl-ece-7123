{
 "cells": [
  {
   "cell_type": "markdown",
   "metadata": {},
   "source": [
    "# Goal: Visualize 2D Convolutions\n",
    "\n",
    "\n",
    "The concept of a convolution is fundamental to understanding modern deep network architectures (indeed, the success of deep convnets in object recognition was arguably the major driver in kickstarting the current wave of AI starting from the early 2010s).\n",
    "\n",
    "But convolution can be quite tricky to internalize, particularly when taught from a mathematical viewpoint. This short tutorial is non-mathematical in its treatment, and instead presents a visualization of 2D convolution of an input image with various filters. We will explore both filtering and pooling, both of which are commonly used operations in convnets."
   ]
  },
  {
   "cell_type": "markdown",
   "metadata": {},
   "source": [
    "The image below shows the overall idea of a convolution:\n",
    "- An input image $\\mathbf{I}$\n",
    "- A filter (or kernel) $\\mathbf{K}$\n",
    "- The output $\\mathbf{I} \\ast \\mathbf{K}$"
   ]
  },
  {
   "cell_type": "markdown",
   "metadata": {
    "id": "YyrZDdRPWCsg"
   },
   "source": [
    "![conv](https://tikz.net/janosh/conv2d.png)"
   ]
  },
  {
   "cell_type": "markdown",
   "metadata": {},
   "source": [
    "Each output pixel in $\\mathbf{I} \\ast \\mathbf{K}$ is calculated by performing an element-wise multiplication of the $3 \\times 3$ kernel weights with the image pixel values for a particular $3 \\times 3$ patch of the image and summing the output. There are two key points to note here:\n",
    "- *Locality*: Each output pixel only depends on a small local neighborhood of input pixels.\n",
    "- *Shift Invariance*: The weights of the filter remain the same no matter whether one is computing the first output pixel, or the second, or anywhere in the output.\n",
    "\n",
    "As a final note, compare the size of the input image ($7\\times 7$) to size of the output image ($5\\times 5$). Reason why this is the case by counting the number of possible windows to place our kernel on the input image.\n"
   ]
  },
  {
   "cell_type": "markdown",
   "metadata": {},
   "source": [
    "To get started with visualizing, let's import our favorite libraries."
   ]
  },
  {
   "cell_type": "code",
   "execution_count": 4,
   "metadata": {
    "id": "Jgedtv-AaPNV"
   },
   "outputs": [],
   "source": [
    "import torch\n",
    "import torch.nn as nn\n",
    "import torch.nn.functional as F\n",
    "import torch.utils.data as data\n",
    "\n",
    "import torchvision\n",
    "import torchvision.transforms as transforms\n",
    "\n",
    "import numpy as np\n",
    "import matplotlib.pyplot as plt\n",
    "%matplotlib inline\n",
    "\n",
    "import plotly.graph_objs as go   # we will be using plotly to create interactive, 3-D plots\n",
    "from plotly.offline import iplot"
   ]
  },
  {
   "cell_type": "markdown",
   "metadata": {},
   "source": [
    "As visualization examples we will use the MNIST dataset. We will first convert our images to Torch tensors and normalize the images."
   ]
  },
  {
   "cell_type": "code",
   "execution_count": 5,
   "metadata": {
    "colab": {
     "base_uri": "https://localhost:8080/",
     "height": 439,
     "referenced_widgets": [
      "a16cbfa072d74bfb84eabecc21efea45",
      "41bc87a2ea754d5e8bfd2ca315f55217",
      "95c5cd8967c144eeb61f148531f54e8e",
      "2bca0f0d660a4a258a140c5b24c1e15f",
      "c3fe727446304f59a316d3e0853569be",
      "98a08ad6b00f400dac79af070244d4c5",
      "2c4e1df345284859a11b87f0a54e7223",
      "3907e9340d1a4391b98c0c50020ee574",
      "ea5dfcf7454e4c268a6f9f3a0a4ad9ef",
      "74567cf53c8c4d7797c62b817a5e8dbc",
      "fa0b841a84a6484289a830843f2e11cd",
      "bd9e9f40aa3c49dd83f5963791d61a10",
      "e3346f79681a4092a1c82cc03dfa659a",
      "e3595ecec2214f8e8c9631ba9b1b00fd",
      "2c6021d5b196400a99aaab687628b6aa",
      "96018e730365413ca947a39547df709e",
      "b0ef58d7e6c944eb878dc1dc01b52a18",
      "29153d470bba4d91a99d178674472238",
      "44308811de424866b311b591f751ef59",
      "bfbb8947089e458f9b0b12b6af48389b",
      "324a428f4ffb4ec0a049c8b10fd81698",
      "c18d7eaba1434ff2b460e5765fc310e9",
      "0a83b5ed52b74d8398fd3f1a548aa6ea",
      "c9caa1da565b479db5b9565eb55dc141",
      "f67d76f05e5746dbbe5f24aa905819de",
      "e951768f750f45cdb59a7f04f534e1e2",
      "2bf6766a622b435b9800145e2d7a1785",
      "c5c7c7c919a84656ad654eacb713fe08",
      "f1586092ca2641c288fe8873e9765345",
      "1c037019f0fe46a0bc2a28e4ddf6a69a",
      "6cea4b92aa7d438594a65180697ad114",
      "b991b4844ab94fd29b02c7c2e34cd3d4",
      "8c8f9953d1d347d0981fda0680b45c18",
      "21724fdf69c8490aa8af357c1727c322",
      "5792cb2615e14b5aac1dbf454e4421ed",
      "b28e57f84e424ef985e7dbda4d3b47df",
      "f94c7f1517074bed8529232193b27294",
      "91f90abb98b7442db9336c4f16e4ebc8",
      "283624e7ae6a4c3e9170a3dca022f907",
      "c608bfce9f9a4532888d8c9fe7637426",
      "19d6034fc2cd4d1db8408b0603f8e3a8",
      "ba3e3bcb5cc44905ad88897d185bb4c7",
      "1257864d663f44b99896c7b7574681ff",
      "ae1dced92dfc4f23bef6992282aca15e"
     ]
    },
    "id": "PZ-yj8pkaUCm",
    "outputId": "e75521fe-9b97-40f8-afa9-8d9af377a4ba"
   },
   "outputs": [],
   "source": [
    "mean = 0.13066\n",
    "std = 0.30810\n",
    "transform = transforms.Compose([transforms.ToTensor(), transforms.Normalize(mean = [mean], std = [std])])\n",
    "test_data = torchvision.datasets.MNIST('./MNIST/',train=False,download=True,transform=torchvision.transforms.ToTensor())"
   ]
  },
  {
   "cell_type": "markdown",
   "metadata": {},
   "source": [
    "Let's work with 5 images from the test dataset. "
   ]
  },
  {
   "cell_type": "code",
   "execution_count": 6,
   "metadata": {
    "colab": {
     "base_uri": "https://localhost:8080/"
    },
    "id": "BWIp7iqmakEt",
    "outputId": "ccc3abc9-89d2-46d8-de1f-8b919f36cf1c"
   },
   "outputs": [
    {
     "name": "stdout",
     "output_type": "stream",
     "text": [
      "torch.Size([5, 1, 28, 28])\n"
     ]
    }
   ],
   "source": [
    "num_images = 5\n",
    "images = []\n",
    "\n",
    "for i in range(num_images):\n",
    "    image, label = test_data[i]\n",
    "    images.append(image)\n",
    "\n",
    "images = torch.cat([img.unsqueeze(0) for img in images], dim=0) # convert list of tensors to tensor\n",
    "print(images.shape)"
   ]
  },
  {
   "cell_type": "markdown",
   "metadata": {},
   "source": [
    "We can see that the output `shape` of our Torch Tensor containing the images is $ B \\times C \\times H \\times W$ where:\n",
    "- $B$ is the batch size\n",
    "- $C$ is the number of channel (this value is 1 in our case since we are working with gray images)\n",
    "- $H$ is the height of the image\n",
    "- $W$ is the width of the image"
   ]
  },
  {
   "cell_type": "markdown",
   "metadata": {},
   "source": [
    "Let's create a function to plot the original images and the images after applying the convolution for a particular fitler."
   ]
  },
  {
   "cell_type": "code",
   "execution_count": 7,
   "metadata": {
    "id": "R3gbU49Ta3aZ"
   },
   "outputs": [],
   "source": [
    "def plot_filter(images, filtered_images):\n",
    "    \n",
    "    n_images = images.shape[0]\n",
    "\n",
    "    fig = plt.figure(figsize = (20, 5))\n",
    "    \n",
    "    for i in range(n_images):\n",
    "\n",
    "        ax = fig.add_subplot(2, n_images, i+1)\n",
    "        ax.imshow(images[i].squeeze(0), cmap = 'bone')\n",
    "        ax.set_title('Original')\n",
    "        ax.axis('off')\n",
    "\n",
    "        image = filtered_images[i].squeeze(0)\n",
    "\n",
    "        ax = fig.add_subplot(2, n_images, n_images+i+1)\n",
    "        ax.imshow(image, cmap='bone')\n",
    "        ax.set_title(f'Output')\n",
    "        ax.axis('off');    "
   ]
  },
  {
   "cell_type": "markdown",
   "metadata": {},
   "source": [
    "In deep learning, **the weights of the filter are learned using backpropagation, but for the purpose of this demo, we will fix the filter weights and observe what happens after applying the convolution to our images**. \n",
    "\n",
    "We will be making using of [`torch.nn.functional.conv2d`](https://pytorch.org/docs/stable/nn.functional.html) that takes as input a batch of images and a filter. I encourage you to check out the documentation to see what the appropriate shapes for the inputs to the `conv2d` function are."
   ]
  },
  {
   "cell_type": "markdown",
   "metadata": {},
   "source": [
    "## All-Ones $2\\times 2$ Kernel\n",
    " \n",
    "To illustrate, let's start a with a small $2\\times 2$ filter with all ones."
   ]
  },
  {
   "cell_type": "code",
   "execution_count": 8,
   "metadata": {
    "colab": {
     "base_uri": "https://localhost:8080/",
     "height": 319
    },
    "id": "4tjM-7anbLCr",
    "outputId": "588cc331-4be3-4f9d-bcf9-c52dd9d35206"
   },
   "outputs": [
    {
     "name": "stdout",
     "output_type": "stream",
     "text": [
      "Size of Original Image: torch.Size([1, 28, 28])\n",
      "Size of Kernel/Filter : torch.Size([2, 2])\n",
      "Size of Filtered Image: torch.Size([1, 27, 27])\n"
     ]
    },
    {
     "data": {
      "image/png": "[encoded data removed]",
      "text/plain": [
       "<Figure size 1440x360 with 10 Axes>"
      ]
     },
     "metadata": {
      "needs_background": "light"
     },
     "output_type": "display_data"
    }
   ],
   "source": [
    "filter = [[1,1],\n",
    "          [1,1]]\n",
    "\n",
    "filter = torch.FloatTensor(filter).unsqueeze(0).unsqueeze(0) # converting to the appropriate shape\n",
    "\n",
    "filtered_images = F.conv2d(images, filter)\n",
    "print(\"Size of Original Image:\", images[0].shape)\n",
    "print(\"Size of Kernel/Filter :\", filter[0,0].shape)\n",
    "print(\"Size of Filtered Image:\", filtered_images[0].shape)\n",
    "plot_filter(images, filtered_images)"
   ]
  },
  {
   "cell_type": "markdown",
   "metadata": {},
   "source": [
    "Hmm, can't really see much here (although the outputs look slightly grayer than the inputs). As we observed with the image at the beginning of the notebook, we see that the size of the output decreased! Again, reason why this is the case by counting the number of possible windows in the input image with respect to the size of the filter we just used."
   ]
  },
  {
   "cell_type": "markdown",
   "metadata": {},
   "source": [
    "## All-Ones $5\\times 5$ Kernel\n",
    "\n",
    "What if we increase the size of the filter?"
   ]
  },
  {
   "cell_type": "code",
   "execution_count": 9,
   "metadata": {
    "colab": {
     "base_uri": "https://localhost:8080/",
     "height": 319
    },
    "id": "S6O9nuO0ber2",
    "outputId": "f6dc485a-296e-434b-fbdf-d11d97ef6997"
   },
   "outputs": [
    {
     "name": "stdout",
     "output_type": "stream",
     "text": [
      "Size of Original Image: torch.Size([1, 28, 28])\n",
      "Size of Kernel/Filter : torch.Size([5, 5])\n",
      "Size of Filtered Image: torch.Size([1, 24, 24])\n"
     ]
    },
    {
     "data": {
      "image/png": "[encoded data removed]",
      "text/plain": [
       "<Figure size 1440x360 with 10 Axes>"
      ]
     },
     "metadata": {
      "needs_background": "light"
     },
     "output_type": "display_data"
    }
   ],
   "source": [
    "filter = [[1,1,1,1,1],\n",
    "          [1,1,1,1,1],\n",
    "          [1,1,1,1,1],\n",
    "          [1,1,1,1,1],\n",
    "          [1,1,1,1,1]\n",
    "          ]\n",
    "filter = torch.FloatTensor(filter).unsqueeze(0).unsqueeze(0)\n",
    "\n",
    "filtered_images = F.conv2d(images,filter)\n",
    "print(\"Size of Original Image:\", images[0].shape)\n",
    "print(\"Size of Kernel/Filter :\", filter[0,0].shape)\n",
    "print(\"Size of Filtered Image:\", filtered_images[0].shape)\n",
    "plot_filter(images, filtered_images)"
   ]
  },
  {
   "cell_type": "markdown",
   "metadata": {},
   "source": [
    "The effect is now much more visible. And the size of our output image is even smaller when compared to the $2\\times 2$ case as there are fewer windows in the input image to place our $5 \\times 5$ kernel.\n",
    "\n",
    "The all-ones filter smears out values of the input, therefore producing blurry image outputs. Play around with different filter sizes to see what happens. At what point does the output become completely unrecognizable?\n",
    "\n",
    "To get an interactive plot for the \"4\" image, try running the following two lines of code in separate cells:\n",
    "```\n",
    "go.Figure(data=[go.Surface(z=images[-1,0].T.tolist())])\n",
    "```\n",
    "\n",
    "```\n",
    "go.Figure(data=[go.Surface(z=filtered_images[-1,0].T.tolist())])\n",
    "```\n",
    "\n",
    "As an exercise, compare the minimum and maximum values in input and output tensors. What's happened after applying our all-ones filter?"
   ]
  },
  {
   "cell_type": "markdown",
   "metadata": {},
   "source": [
    "## Horizontal Edge Detector $2\\times 2$ Kernel\n",
    "\n",
    "Let us now try a different filter. This time, our filter will have some negative values."
   ]
  },
  {
   "cell_type": "code",
   "execution_count": 10,
   "metadata": {
    "colab": {
     "base_uri": "https://localhost:8080/",
     "height": 319
    },
    "id": "STLBXQ0Tc1NE",
    "outputId": "5d1eb57c-f99c-4234-c3ca-06b37caeefa9"
   },
   "outputs": [
    {
     "name": "stdout",
     "output_type": "stream",
     "text": [
      "Size of Original Image: torch.Size([1, 28, 28])\n",
      "Size of Kernel/Filter : torch.Size([2, 2])\n",
      "Size of Filtered Image: torch.Size([1, 27, 27])\n"
     ]
    },
    {
     "data": {
      "image/png": "[encoded data removed]",
      "text/plain": [
       "<Figure size 1440x360 with 10 Axes>"
      ]
     },
     "metadata": {
      "needs_background": "light"
     },
     "output_type": "display_data"
    }
   ],
   "source": [
    "filter = [[1,1],\n",
    "          [-1, -1]]\n",
    "\n",
    "filter = torch.FloatTensor(filter).unsqueeze(0).unsqueeze(0)\n",
    "\n",
    "filtered_images = F.conv2d(images,filter)\n",
    "print(\"Size of Original Image:\", images[0].shape)\n",
    "print(\"Size of Kernel/Filter :\", filter[0,0].shape)\n",
    "print(\"Size of Filtered Image:\", filtered_images[0].shape)\n",
    "plot_filter(images, filtered_images)"
   ]
  },
  {
   "cell_type": "markdown",
   "metadata": {},
   "source": [
    "Interesting. If you stare carefully, features that are vertical (such as most of the 1, or the left side of the 0, or the stalk of the 4) have been grayed out, while features that are *horizontal* (such as the bar of the 7, or the bar of the 4) are bright. This particular filter is a type of *horizontal edge detector*. Note that in the case of the 7, the \"top\" of the horizontal bar has lower pixel values than the bottom of the horizontal bar. Let's flip our kernel and see what happens."
   ]
  },
  {
   "cell_type": "code",
   "execution_count": 11,
   "metadata": {},
   "outputs": [
    {
     "name": "stdout",
     "output_type": "stream",
     "text": [
      "Size of Original Image: torch.Size([1, 28, 28])\n",
      "Size of Kernel/Filter : torch.Size([2, 2])\n",
      "Size of Filtered Image: torch.Size([1, 27, 27])\n"
     ]
    },
    {
     "data": {
      "image/png": "[encoded data removed]",
      "text/plain": [
       "<Figure size 1440x360 with 10 Axes>"
      ]
     },
     "metadata": {
      "needs_background": "light"
     },
     "output_type": "display_data"
    }
   ],
   "source": [
    "filter = [[-1,-1],\n",
    "          [1, 1]]\n",
    "\n",
    "filter = torch.FloatTensor(filter).unsqueeze(0).unsqueeze(0)\n",
    "\n",
    "filtered_images = F.conv2d(images,filter)\n",
    "print(\"Size of Original Image:\", images[0].shape)\n",
    "print(\"Size of Kernel/Filter :\", filter[0,0].shape)\n",
    "print(\"Size of Filtered Image:\", filtered_images[0].shape)\n",
    "plot_filter(images, filtered_images)"
   ]
  },
  {
   "cell_type": "markdown",
   "metadata": {},
   "source": [
    "For the output images, now the top of the horizontal bar has higher pixel values than the bottom part of the bar. Given the filter values, can you see why?"
   ]
  },
  {
   "cell_type": "markdown",
   "metadata": {},
   "source": [
    "## Horizontal Edge Detector $3\\times 3$ Kernel\n",
    "\n",
    "The edge-detecting effect is slightly more pronounced if we use 3x3 filters."
   ]
  },
  {
   "cell_type": "code",
   "execution_count": 12,
   "metadata": {
    "colab": {
     "base_uri": "https://localhost:8080/",
     "height": 319
    },
    "id": "YeCq7CJmds0p",
    "outputId": "8c2983a8-0869-4951-94ca-6f3d759f128e"
   },
   "outputs": [
    {
     "name": "stdout",
     "output_type": "stream",
     "text": [
      "Size of Original Image: torch.Size([1, 28, 28])\n",
      "Size of Kernel/Filter : torch.Size([3, 3])\n",
      "Size of Filtered Image: torch.Size([1, 26, 26])\n"
     ]
    },
    {
     "data": {
      "image/png": "[encoded data removed]",
      "text/plain": [
       "<Figure size 1440x360 with 10 Axes>"
      ]
     },
     "metadata": {
      "needs_background": "light"
     },
     "output_type": "display_data"
    }
   ],
   "source": [
    "filter = [[-1,-2,-1],\n",
    "          [0,0,0],\n",
    "          [1,2,1]]\n",
    "filter = torch.FloatTensor(filter).unsqueeze(0).unsqueeze(0)\n",
    "\n",
    "filtered_images = F.conv2d(images,filter)\n",
    "print(\"Size of Original Image:\", images[0].shape)\n",
    "print(\"Size of Kernel/Filter :\", filter[0,0].shape)\n",
    "print(\"Size of Filtered Image:\", filtered_images[0].shape)\n",
    "plot_filter(images, filtered_images) "
   ]
  },
  {
   "cell_type": "markdown",
   "metadata": {},
   "source": [
    "See if you can get better edge detection using other filters. Play around also with the direction; how would you detect vertical edges?\n",
    "\n",
    "## Average Pooling\n",
    "Let us now also examine pooling. This is related to filtering, and is used to reduce the resolution (size) of the input image. Like convolution, this also happens by operating on windows of the input; the difference, however, is that we now use a *stride*, i.e., we skip over certain windows. For example, with stride = 2, we skip computing the output of every 2nd window; this means that the output is (approximately, barring fence effects) half the size of the input. \n",
    "\n",
    "Let's look at average pooling which simply averages the pixels over the specified kernel size. We will use Torch's built-in [`avg_pool2d`](https://pytorch.org/docs/stable/nn.functional.html#pooling-functions) function. Checking out the documentation, we see that Torch will set the stride to the kernel size."
   ]
  },
  {
   "cell_type": "code",
   "execution_count": 13,
   "metadata": {
    "colab": {
     "base_uri": "https://localhost:8080/",
     "height": 319
    },
    "id": "I3lnpDZeeL4H",
    "outputId": "fcd44c0e-d091-4efd-9091-682acaaa948c"
   },
   "outputs": [
    {
     "name": "stdout",
     "output_type": "stream",
     "text": [
      "Size of Original Image: torch.Size([1, 28, 28])\n",
      "Size of Filtered Image: torch.Size([1, 9, 9])\n"
     ]
    },
    {
     "data": {
      "image/png": "[encoded data removed]",
      "text/plain": [
       "<Figure size 1440x360 with 10 Axes>"
      ]
     },
     "metadata": {
      "needs_background": "light"
     },
     "output_type": "display_data"
    }
   ],
   "source": [
    "pooled_images = F.avg_pool2d(images,kernel_size=3)\n",
    "print(\"Size of Original Image:\", images[0].shape)\n",
    "print(\"Size of Filtered Image:\", pooled_images[0].shape)\n",
    "plot_filter(images, pooled_images)"
   ]
  },
  {
   "cell_type": "markdown",
   "metadata": {},
   "source": [
    "As visually evident, the output looks blocky and is grayed out. Also, since our kernel (and thus stride) size is equal to 3, the resolution of our output image is $\\sim 1/3$ the resolution of the input image."
   ]
  },
  {
   "cell_type": "markdown",
   "metadata": {},
   "source": [
    "We can also implement the average pooling function using the convolution function provided by torch. For a $3x3$ window of our input image, we want each pixel value to contribute a weight of $1/9$ of its value to the final value of the output pixel (since we are averaging over 9 values). We also need to remember to set the stride to 3."
   ]
  },
  {
   "cell_type": "code",
   "execution_count": 14,
   "metadata": {
    "colab": {
     "base_uri": "https://localhost:8080/",
     "height": 319
    },
    "id": "c71ZMz8ee47c",
    "outputId": "32e58d09-d61b-4863-97e0-071066abc9a5"
   },
   "outputs": [
    {
     "name": "stdout",
     "output_type": "stream",
     "text": [
      "tensor([[[[0.1111, 0.1111, 0.1111],\n",
      "          [0.1111, 0.1111, 0.1111],\n",
      "          [0.1111, 0.1111, 0.1111]]]])\n"
     ]
    }
   ],
   "source": [
    "filter = [[1,1,1,],\n",
    "          [1,1,1],\n",
    "          [1,1,1]]\n",
    "\n",
    "filter = torch.FloatTensor(filter).unsqueeze(0).unsqueeze(0)\n",
    "filter = filter / 9 \n",
    "print(filter)"
   ]
  },
  {
   "cell_type": "markdown",
   "metadata": {},
   "source": [
    "So each weight of our $3\\times 3$ kernel is set to $1/9$."
   ]
  },
  {
   "cell_type": "code",
   "execution_count": 15,
   "metadata": {},
   "outputs": [
    {
     "name": "stdout",
     "output_type": "stream",
     "text": [
      "Size of Original Image: torch.Size([1, 28, 28])\n",
      "Size of Kernel/Filter : torch.Size([3, 3])\n",
      "Size of Filtered Image: torch.Size([1, 9, 9])\n"
     ]
    },
    {
     "data": {
      "image/png": "[encoded data removed]",
      "text/plain": [
       "<Figure size 1440x360 with 10 Axes>"
      ]
     },
     "metadata": {
      "needs_background": "light"
     },
     "output_type": "display_data"
    }
   ],
   "source": [
    "filtered_images = F.conv2d(images, filter, stride=3)\n",
    "print(\"Size of Original Image:\", images[0].shape)\n",
    "print(\"Size of Kernel/Filter :\", filter[0,0].shape)\n",
    "print(\"Size of Filtered Image:\", filtered_images[0].shape)\n",
    "plot_filter(images, filtered_images)"
   ]
  },
  {
   "cell_type": "markdown",
   "metadata": {},
   "source": [
    "As a sanity check, let's confirm that our output images using `F.conv2d` with our hand-crafted average pooling kernel match the images output from calling the built-in `F.avg_pool2d` function."
   ]
  },
  {
   "cell_type": "code",
   "execution_count": 16,
   "metadata": {
    "colab": {
     "base_uri": "https://localhost:8080/"
    },
    "id": "YXHtpmhnfWDK",
    "outputId": "7b6a5f1b-e218-4a78-e281-2f8459a4630a"
   },
   "outputs": [
    {
     "data": {
      "text/plain": [
       "True"
      ]
     },
     "execution_count": 16,
     "metadata": {},
     "output_type": "execute_result"
    }
   ],
   "source": [
    "torch.allclose(filtered_images, pooled_images)"
   ]
  },
  {
   "cell_type": "markdown",
   "metadata": {},
   "source": [
    "## Max Pooling\n",
    "We saw that average pooling grays out the output image. Max-pool retains brightness by simply examining a window of our image and simply selecting and outputing the pixel with the highest value."
   ]
  },
  {
   "cell_type": "code",
   "execution_count": 17,
   "metadata": {
    "colab": {
     "base_uri": "https://localhost:8080/",
     "height": 319
    },
    "id": "xAg5OxChfdLy",
    "outputId": "ab980b7d-629b-4043-cc53-13e5335892d8"
   },
   "outputs": [
    {
     "name": "stdout",
     "output_type": "stream",
     "text": [
      "Size of Original Image: torch.Size([1, 28, 28])\n",
      "Size of Filtered Image: torch.Size([1, 9, 9])\n"
     ]
    },
    {
     "data": {
      "image/png": "[encoded data removed]",
      "text/plain": [
       "<Figure size 1440x360 with 10 Axes>"
      ]
     },
     "metadata": {
      "needs_background": "light"
     },
     "output_type": "display_data"
    }
   ],
   "source": [
    "pooled_images = F.max_pool2d(images, kernel_size=3)\n",
    "print(\"Size of Original Image:\", images[0].shape)\n",
    "print(\"Size of Filtered Image:\", pooled_images[0].shape)\n",
    "plot_filter(images, pooled_images)"
   ]
  },
  {
   "cell_type": "markdown",
   "metadata": {},
   "source": [
    "\n",
    "\n",
    "This is basically it! We now know what these elementary operations (filtering and pooling) mean in the context of convnets.\n",
    "\n",
    "In essence, the forward pass of any convolutional network (however deep) involves some combination of filtering and pooling operations as discussed above, interspersed with nonlinear (pixel-wise) activations, Sometimes possibly other types of pointwise operations such as batch-norm or drop-out are used, but the conv operations are the key.\n",
    "\n",
    "The crucial difference, of course, is that **in convnets, the filter weights are not a priori set by hand (as we did in the above examples) but rather incrementally learned from data using back-propagation.**\n",
    "\n",
    "A fun resource for playing around with convolutions: https://generic-github-user.github.io/Image-Convolution-Playground/src/\n"
   ]
  }
 ],
 "metadata": {
  "colab": {
   "provenance": []
  },
  "kernelspec": {
   "display_name": "Python 3",
   "language": "python",
   "name": "python3"
  },
  "language_info": {
   "codemirror_mode": {
    "name": "ipython",
    "version": 3
   },
   "file_extension": ".py",
   "mimetype": "text/x-python",
   "name": "python",
   "nbconvert_exporter": "python",
   "pygments_lexer": "ipython3",
   "version": "3.7.6"
  },
  "widgets": {
   "application/vnd.jupyter.widget-state+json": {
    "0a83b5ed52b74d8398fd3f1a548aa6ea": {
     "model_module": "@jupyter-widgets/controls",
     "model_module_version": "1.5.0",
     "model_name": "HBoxModel",
     "state": {
      "_dom_classes": [],
      "_model_module": "@jupyter-widgets/controls",
      "_model_module_version": "1.5.0",
      "_model_name": "HBoxModel",
      "_view_count": null,
      "_view_module": "@jupyter-widgets/controls",
      "_view_module_version": "1.5.0",
      "_view_name": "HBoxView",
      "box_style": "",
      "children": [
       "IPY_MODEL_c9caa1da565b479db5b9565eb55dc141",
       "IPY_MODEL_f67d76f05e5746dbbe5f24aa905819de",
       "IPY_MODEL_e951768f750f45cdb59a7f04f534e1e2"
      ],
      "layout": "IPY_MODEL_2bf6766a622b435b9800145e2d7a1785"
     }
    },
    "1257864d663f44b99896c7b7574681ff": {
     "model_module": "@jupyter-widgets/base",
     "model_module_version": "1.2.0",
     "model_name": "LayoutModel",
     "state": {
      "_model_module": "@jupyter-widgets/base",
      "_model_module_version": "1.2.0",
      "_model_name": "LayoutModel",
      "_view_count": null,
      "_view_module": "@jupyter-widgets/base",
      "_view_module_version": "1.2.0",
      "_view_name": "LayoutView",
      "align_content": null,
      "align_items": null,
      "align_self": null,
      "border": null,
      "bottom": null,
      "display": null,
      "flex": null,
      "flex_flow": null,
      "grid_area": null,
      "grid_auto_columns": null,
      "grid_auto_flow": null,
      "grid_auto_rows": null,
      "grid_column": null,
      "grid_gap": null,
      "grid_row": null,
      "grid_template_areas": null,
      "grid_template_columns": null,
      "grid_template_rows": null,
      "height": null,
      "justify_content": null,
      "justify_items": null,
      "left": null,
      "margin": null,
      "max_height": null,
      "max_width": null,
      "min_height": null,
      "min_width": null,
      "object_fit": null,
      "object_position": null,
      "order": null,
      "overflow": null,
      "overflow_x": null,
      "overflow_y": null,
      "padding": null,
      "right": null,
      "top": null,
      "visibility": null,
      "width": null
     }
    },
    "19d6034fc2cd4d1db8408b0603f8e3a8": {
     "model_module": "@jupyter-widgets/base",
     "model_module_version": "1.2.0",
     "model_name": "LayoutModel",
     "state": {
      "_model_module": "@jupyter-widgets/base",
      "_model_module_version": "1.2.0",
      "_model_name": "LayoutModel",
      "_view_count": null,
      "_view_module": "@jupyter-widgets/base",
      "_view_module_version": "1.2.0",
      "_view_name": "LayoutView",
      "align_content": null,
      "align_items": null,
      "align_self": null,
      "border": null,
      "bottom": null,
      "display": null,
      "flex": null,
      "flex_flow": null,
      "grid_area": null,
      "grid_auto_columns": null,
      "grid_auto_flow": null,
      "grid_auto_rows": null,
      "grid_column": null,
      "grid_gap": null,
      "grid_row": null,
      "grid_template_areas": null,
      "grid_template_columns": null,
      "grid_template_rows": null,
      "height": null,
      "justify_content": null,
      "justify_items": null,
      "left": null,
      "margin": null,
      "max_height": null,
      "max_width": null,
      "min_height": null,
      "min_width": null,
      "object_fit": null,
      "object_position": null,
      "order": null,
      "overflow": null,
      "overflow_x": null,
      "overflow_y": null,
      "padding": null,
      "right": null,
      "top": null,
      "visibility": null,
      "width": null
     }
    },
    "1c037019f0fe46a0bc2a28e4ddf6a69a": {
     "model_module": "@jupyter-widgets/base",
     "model_module_version": "1.2.0",
     "model_name": "LayoutModel",
     "state": {
      "_model_module": "@jupyter-widgets/base",
      "_model_module_version": "1.2.0",
      "_model_name": "LayoutModel",
      "_view_count": null,
      "_view_module": "@jupyter-widgets/base",
      "_view_module_version": "1.2.0",
      "_view_name": "LayoutView",
      "align_content": null,
      "align_items": null,
      "align_self": null,
      "border": null,
      "bottom": null,
      "display": null,
      "flex": null,
      "flex_flow": null,
      "grid_area": null,
      "grid_auto_columns": null,
      "grid_auto_flow": null,
      "grid_auto_rows": null,
      "grid_column": null,
      "grid_gap": null,
      "grid_row": null,
      "grid_template_areas": null,
      "grid_template_columns": null,
      "grid_template_rows": null,
      "height": null,
      "justify_content": null,
      "justify_items": null,
      "left": null,
      "margin": null,
      "max_height": null,
      "max_width": null,
      "min_height": null,
      "min_width": null,
      "object_fit": null,
      "object_position": null,
      "order": null,
      "overflow": null,
      "overflow_x": null,
      "overflow_y": null,
      "padding": null,
      "right": null,
      "top": null,
      "visibility": null,
      "width": null
     }
    },
    "21724fdf69c8490aa8af357c1727c322": {
     "model_module": "@jupyter-widgets/controls",
     "model_module_version": "1.5.0",
     "model_name": "HBoxModel",
     "state": {
      "_dom_classes": [],
      "_model_module": "@jupyter-widgets/controls",
      "_model_module_version": "1.5.0",
      "_model_name": "HBoxModel",
      "_view_count": null,
      "_view_module": "@jupyter-widgets/controls",
      "_view_module_version": "1.5.0",
      "_view_name": "HBoxView",
      "box_style": "",
      "children": [
       "IPY_MODEL_5792cb2615e14b5aac1dbf454e4421ed",
       "IPY_MODEL_b28e57f84e424ef985e7dbda4d3b47df",
       "IPY_MODEL_f94c7f1517074bed8529232193b27294"
      ],
      "layout": "IPY_MODEL_91f90abb98b7442db9336c4f16e4ebc8"
     }
    },
    "283624e7ae6a4c3e9170a3dca022f907": {
     "model_module": "@jupyter-widgets/base",
     "model_module_version": "1.2.0",
     "model_name": "LayoutModel",
     "state": {
      "_model_module": "@jupyter-widgets/base",
      "_model_module_version": "1.2.0",
      "_model_name": "LayoutModel",
      "_view_count": null,
      "_view_module": "@jupyter-widgets/base",
      "_view_module_version": "1.2.0",
      "_view_name": "LayoutView",
      "align_content": null,
      "align_items": null,
      "align_self": null,
      "border": null,
      "bottom": null,
      "display": null,
      "flex": null,
      "flex_flow": null,
      "grid_area": null,
      "grid_auto_columns": null,
      "grid_auto_flow": null,
      "grid_auto_rows": null,
      "grid_column": null,
      "grid_gap": null,
      "grid_row": null,
      "grid_template_areas": null,
      "grid_template_columns": null,
      "grid_template_rows": null,
      "height": null,
      "justify_content": null,
      "justify_items": null,
      "left": null,
      "margin": null,
      "max_height": null,
      "max_width": null,
      "min_height": null,
      "min_width": null,
      "object_fit": null,
      "object_position": null,
      "order": null,
      "overflow": null,
      "overflow_x": null,
      "overflow_y": null,
      "padding": null,
      "right": null,
      "top": null,
      "visibility": null,
      "width": null
     }
    },
    "29153d470bba4d91a99d178674472238": {
     "model_module": "@jupyter-widgets/controls",
     "model_module_version": "1.5.0",
     "model_name": "DescriptionStyleModel",
     "state": {
      "_model_module": "@jupyter-widgets/controls",
      "_model_module_version": "1.5.0",
      "_model_name": "DescriptionStyleModel",
      "_view_count": null,
      "_view_module": "@jupyter-widgets/base",
      "_view_module_version": "1.2.0",
      "_view_name": "StyleView",
      "description_width": ""
     }
    },
    "2bca0f0d660a4a258a140c5b24c1e15f": {
     "model_module": "@jupyter-widgets/controls",
     "model_module_version": "1.5.0",
     "model_name": "HTMLModel",
     "state": {
      "_dom_classes": [],
      "_model_module": "@jupyter-widgets/controls",
      "_model_module_version": "1.5.0",
      "_model_name": "HTMLModel",
      "_view_count": null,
      "_view_module": "@jupyter-widgets/controls",
      "_view_module_version": "1.5.0",
      "_view_name": "HTMLView",
      "description": "",
      "description_tooltip": null,
      "layout": "IPY_MODEL_74567cf53c8c4d7797c62b817a5e8dbc",
      "placeholder": "​",
      "style": "IPY_MODEL_fa0b841a84a6484289a830843f2e11cd",
      "value": " 9912422/9912422 [00:00&lt;00:00, 87768729.80it/s]"
     }
    },
    "2bf6766a622b435b9800145e2d7a1785": {
     "model_module": "@jupyter-widgets/base",
     "model_module_version": "1.2.0",
     "model_name": "LayoutModel",
     "state": {
      "_model_module": "@jupyter-widgets/base",
      "_model_module_version": "1.2.0",
      "_model_name": "LayoutModel",
      "_view_count": null,
      "_view_module": "@jupyter-widgets/base",
      "_view_module_version": "1.2.0",
      "_view_name": "LayoutView",
      "align_content": null,
      "align_items": null,
      "align_self": null,
      "border": null,
      "bottom": null,
      "display": null,
      "flex": null,
      "flex_flow": null,
      "grid_area": null,
      "grid_auto_columns": null,
      "grid_auto_flow": null,
      "grid_auto_rows": null,
      "grid_column": null,
      "grid_gap": null,
      "grid_row": null,
      "grid_template_areas": null,
      "grid_template_columns": null,
      "grid_template_rows": null,
      "height": null,
      "justify_content": null,
      "justify_items": null,
      "left": null,
      "margin": null,
      "max_height": null,
      "max_width": null,
      "min_height": null,
      "min_width": null,
      "object_fit": null,
      "object_position": null,
      "order": null,
      "overflow": null,
      "overflow_x": null,
      "overflow_y": null,
      "padding": null,
      "right": null,
      "top": null,
      "visibility": null,
      "width": null
     }
    },
    "2c4e1df345284859a11b87f0a54e7223": {
     "model_module": "@jupyter-widgets/controls",
     "model_module_version": "1.5.0",
     "model_name": "DescriptionStyleModel",
     "state": {
      "_model_module": "@jupyter-widgets/controls",
      "_model_module_version": "1.5.0",
      "_model_name": "DescriptionStyleModel",
      "_view_count": null,
      "_view_module": "@jupyter-widgets/base",
      "_view_module_version": "1.2.0",
      "_view_name": "StyleView",
      "description_width": ""
     }
    },
    "2c6021d5b196400a99aaab687628b6aa": {
     "model_module": "@jupyter-widgets/controls",
     "model_module_version": "1.5.0",
     "model_name": "HTMLModel",
     "state": {
      "_dom_classes": [],
      "_model_module": "@jupyter-widgets/controls",
      "_model_module_version": "1.5.0",
      "_model_name": "HTMLModel",
      "_view_count": null,
      "_view_module": "@jupyter-widgets/controls",
      "_view_module_version": "1.5.0",
      "_view_name": "HTMLView",
      "description": "",
      "description_tooltip": null,
      "layout": "IPY_MODEL_324a428f4ffb4ec0a049c8b10fd81698",
      "placeholder": "​",
      "style": "IPY_MODEL_c18d7eaba1434ff2b460e5765fc310e9",
      "value": " 28881/28881 [00:00&lt;00:00, 1944580.44it/s]"
     }
    },
    "324a428f4ffb4ec0a049c8b10fd81698": {
     "model_module": "@jupyter-widgets/base",
     "model_module_version": "1.2.0",
     "model_name": "LayoutModel",
     "state": {
      "_model_module": "@jupyter-widgets/base",
      "_model_module_version": "1.2.0",
      "_model_name": "LayoutModel",
      "_view_count": null,
      "_view_module": "@jupyter-widgets/base",
      "_view_module_version": "1.2.0",
      "_view_name": "LayoutView",
      "align_content": null,
      "align_items": null,
      "align_self": null,
      "border": null,
      "bottom": null,
      "display": null,
      "flex": null,
      "flex_flow": null,
      "grid_area": null,
      "grid_auto_columns": null,
      "grid_auto_flow": null,
      "grid_auto_rows": null,
      "grid_column": null,
      "grid_gap": null,
      "grid_row": null,
      "grid_template_areas": null,
      "grid_template_columns": null,
      "grid_template_rows": null,
      "height": null,
      "justify_content": null,
      "justify_items": null,
      "left": null,
      "margin": null,
      "max_height": null,
      "max_width": null,
      "min_height": null,
      "min_width": null,
      "object_fit": null,
      "object_position": null,
      "order": null,
      "overflow": null,
      "overflow_x": null,
      "overflow_y": null,
      "padding": null,
      "right": null,
      "top": null,
      "visibility": null,
      "width": null
     }
    },
    "3907e9340d1a4391b98c0c50020ee574": {
     "model_module": "@jupyter-widgets/base",
     "model_module_version": "1.2.0",
     "model_name": "LayoutModel",
     "state": {
      "_model_module": "@jupyter-widgets/base",
      "_model_module_version": "1.2.0",
      "_model_name": "LayoutModel",
      "_view_count": null,
      "_view_module": "@jupyter-widgets/base",
      "_view_module_version": "1.2.0",
      "_view_name": "LayoutView",
      "align_content": null,
      "align_items": null,
      "align_self": null,
      "border": null,
      "bottom": null,
      "display": null,
      "flex": null,
      "flex_flow": null,
      "grid_area": null,
      "grid_auto_columns": null,
      "grid_auto_flow": null,
      "grid_auto_rows": null,
      "grid_column": null,
      "grid_gap": null,
      "grid_row": null,
      "grid_template_areas": null,
      "grid_template_columns": null,
      "grid_template_rows": null,
      "height": null,
      "justify_content": null,
      "justify_items": null,
      "left": null,
      "margin": null,
      "max_height": null,
      "max_width": null,
      "min_height": null,
      "min_width": null,
      "object_fit": null,
      "object_position": null,
      "order": null,
      "overflow": null,
      "overflow_x": null,
      "overflow_y": null,
      "padding": null,
      "right": null,
      "top": null,
      "visibility": null,
      "width": null
     }
    },
    "41bc87a2ea754d5e8bfd2ca315f55217": {
     "model_module": "@jupyter-widgets/controls",
     "model_module_version": "1.5.0",
     "model_name": "HTMLModel",
     "state": {
      "_dom_classes": [],
      "_model_module": "@jupyter-widgets/controls",
      "_model_module_version": "1.5.0",
      "_model_name": "HTMLModel",
      "_view_count": null,
      "_view_module": "@jupyter-widgets/controls",
      "_view_module_version": "1.5.0",
      "_view_name": "HTMLView",
      "description": "",
      "description_tooltip": null,
      "layout": "IPY_MODEL_98a08ad6b00f400dac79af070244d4c5",
      "placeholder": "​",
      "style": "IPY_MODEL_2c4e1df345284859a11b87f0a54e7223",
      "value": "100%"
     }
    },
    "44308811de424866b311b591f751ef59": {
     "model_module": "@jupyter-widgets/base",
     "model_module_version": "1.2.0",
     "model_name": "LayoutModel",
     "state": {
      "_model_module": "@jupyter-widgets/base",
      "_model_module_version": "1.2.0",
      "_model_name": "LayoutModel",
      "_view_count": null,
      "_view_module": "@jupyter-widgets/base",
      "_view_module_version": "1.2.0",
      "_view_name": "LayoutView",
      "align_content": null,
      "align_items": null,
      "align_self": null,
      "border": null,
      "bottom": null,
      "display": null,
      "flex": null,
      "flex_flow": null,
      "grid_area": null,
      "grid_auto_columns": null,
      "grid_auto_flow": null,
      "grid_auto_rows": null,
      "grid_column": null,
      "grid_gap": null,
      "grid_row": null,
      "grid_template_areas": null,
      "grid_template_columns": null,
      "grid_template_rows": null,
      "height": null,
      "justify_content": null,
      "justify_items": null,
      "left": null,
      "margin": null,
      "max_height": null,
      "max_width": null,
      "min_height": null,
      "min_width": null,
      "object_fit": null,
      "object_position": null,
      "order": null,
      "overflow": null,
      "overflow_x": null,
      "overflow_y": null,
      "padding": null,
      "right": null,
      "top": null,
      "visibility": null,
      "width": null
     }
    },
    "5792cb2615e14b5aac1dbf454e4421ed": {
     "model_module": "@jupyter-widgets/controls",
     "model_module_version": "1.5.0",
     "model_name": "HTMLModel",
     "state": {
      "_dom_classes": [],
      "_model_module": "@jupyter-widgets/controls",
      "_model_module_version": "1.5.0",
      "_model_name": "HTMLModel",
      "_view_count": null,
      "_view_module": "@jupyter-widgets/controls",
      "_view_module_version": "1.5.0",
      "_view_name": "HTMLView",
      "description": "",
      "description_tooltip": null,
      "layout": "IPY_MODEL_283624e7ae6a4c3e9170a3dca022f907",
      "placeholder": "​",
      "style": "IPY_MODEL_c608bfce9f9a4532888d8c9fe7637426",
      "value": "100%"
     }
    },
    "6cea4b92aa7d438594a65180697ad114": {
     "model_module": "@jupyter-widgets/controls",
     "model_module_version": "1.5.0",
     "model_name": "ProgressStyleModel",
     "state": {
      "_model_module": "@jupyter-widgets/controls",
      "_model_module_version": "1.5.0",
      "_model_name": "ProgressStyleModel",
      "_view_count": null,
      "_view_module": "@jupyter-widgets/base",
      "_view_module_version": "1.2.0",
      "_view_name": "StyleView",
      "bar_color": null,
      "description_width": ""
     }
    },
    "74567cf53c8c4d7797c62b817a5e8dbc": {
     "model_module": "@jupyter-widgets/base",
     "model_module_version": "1.2.0",
     "model_name": "LayoutModel",
     "state": {
      "_model_module": "@jupyter-widgets/base",
      "_model_module_version": "1.2.0",
      "_model_name": "LayoutModel",
      "_view_count": null,
      "_view_module": "@jupyter-widgets/base",
      "_view_module_version": "1.2.0",
      "_view_name": "LayoutView",
      "align_content": null,
      "align_items": null,
      "align_self": null,
      "border": null,
      "bottom": null,
      "display": null,
      "flex": null,
      "flex_flow": null,
      "grid_area": null,
      "grid_auto_columns": null,
      "grid_auto_flow": null,
      "grid_auto_rows": null,
      "grid_column": null,
      "grid_gap": null,
      "grid_row": null,
      "grid_template_areas": null,
      "grid_template_columns": null,
      "grid_template_rows": null,
      "height": null,
      "justify_content": null,
      "justify_items": null,
      "left": null,
      "margin": null,
      "max_height": null,
      "max_width": null,
      "min_height": null,
      "min_width": null,
      "object_fit": null,
      "object_position": null,
      "order": null,
      "overflow": null,
      "overflow_x": null,
      "overflow_y": null,
      "padding": null,
      "right": null,
      "top": null,
      "visibility": null,
      "width": null
     }
    },
    "8c8f9953d1d347d0981fda0680b45c18": {
     "model_module": "@jupyter-widgets/controls",
     "model_module_version": "1.5.0",
     "model_name": "DescriptionStyleModel",
     "state": {
      "_model_module": "@jupyter-widgets/controls",
      "_model_module_version": "1.5.0",
      "_model_name": "DescriptionStyleModel",
      "_view_count": null,
      "_view_module": "@jupyter-widgets/base",
      "_view_module_version": "1.2.0",
      "_view_name": "StyleView",
      "description_width": ""
     }
    },
    "91f90abb98b7442db9336c4f16e4ebc8": {
     "model_module": "@jupyter-widgets/base",
     "model_module_version": "1.2.0",
     "model_name": "LayoutModel",
     "state": {
      "_model_module": "@jupyter-widgets/base",
      "_model_module_version": "1.2.0",
      "_model_name": "LayoutModel",
      "_view_count": null,
      "_view_module": "@jupyter-widgets/base",
      "_view_module_version": "1.2.0",
      "_view_name": "LayoutView",
      "align_content": null,
      "align_items": null,
      "align_self": null,
      "border": null,
      "bottom": null,
      "display": null,
      "flex": null,
      "flex_flow": null,
      "grid_area": null,
      "grid_auto_columns": null,
      "grid_auto_flow": null,
      "grid_auto_rows": null,
      "grid_column": null,
      "grid_gap": null,
      "grid_row": null,
      "grid_template_areas": null,
      "grid_template_columns": null,
      "grid_template_rows": null,
      "height": null,
      "justify_content": null,
      "justify_items": null,
      "left": null,
      "margin": null,
      "max_height": null,
      "max_width": null,
      "min_height": null,
      "min_width": null,
      "object_fit": null,
      "object_position": null,
      "order": null,
      "overflow": null,
      "overflow_x": null,
      "overflow_y": null,
      "padding": null,
      "right": null,
      "top": null,
      "visibility": null,
      "width": null
     }
    },
    "95c5cd8967c144eeb61f148531f54e8e": {
     "model_module": "@jupyter-widgets/controls",
     "model_module_version": "1.5.0",
     "model_name": "FloatProgressModel",
     "state": {
      "_dom_classes": [],
      "_model_module": "@jupyter-widgets/controls",
      "_model_module_version": "1.5.0",
      "_model_name": "FloatProgressModel",
      "_view_count": null,
      "_view_module": "@jupyter-widgets/controls",
      "_view_module_version": "1.5.0",
      "_view_name": "ProgressView",
      "bar_style": "success",
      "description": "",
      "description_tooltip": null,
      "layout": "IPY_MODEL_3907e9340d1a4391b98c0c50020ee574",
      "max": 9912422,
      "min": 0,
      "orientation": "horizontal",
      "style": "IPY_MODEL_ea5dfcf7454e4c268a6f9f3a0a4ad9ef",
      "value": 9912422
     }
    },
    "96018e730365413ca947a39547df709e": {
     "model_module": "@jupyter-widgets/base",
     "model_module_version": "1.2.0",
     "model_name": "LayoutModel",
     "state": {
      "_model_module": "@jupyter-widgets/base",
      "_model_module_version": "1.2.0",
      "_model_name": "LayoutModel",
      "_view_count": null,
      "_view_module": "@jupyter-widgets/base",
      "_view_module_version": "1.2.0",
      "_view_name": "LayoutView",
      "align_content": null,
      "align_items": null,
      "align_self": null,
      "border": null,
      "bottom": null,
      "display": null,
      "flex": null,
      "flex_flow": null,
      "grid_area": null,
      "grid_auto_columns": null,
      "grid_auto_flow": null,
      "grid_auto_rows": null,
      "grid_column": null,
      "grid_gap": null,
      "grid_row": null,
      "grid_template_areas": null,
      "grid_template_columns": null,
      "grid_template_rows": null,
      "height": null,
      "justify_content": null,
      "justify_items": null,
      "left": null,
      "margin": null,
      "max_height": null,
      "max_width": null,
      "min_height": null,
      "min_width": null,
      "object_fit": null,
      "object_position": null,
      "order": null,
      "overflow": null,
      "overflow_x": null,
      "overflow_y": null,
      "padding": null,
      "right": null,
      "top": null,
      "visibility": null,
      "width": null
     }
    },
    "98a08ad6b00f400dac79af070244d4c5": {
     "model_module": "@jupyter-widgets/base",
     "model_module_version": "1.2.0",
     "model_name": "LayoutModel",
     "state": {
      "_model_module": "@jupyter-widgets/base",
      "_model_module_version": "1.2.0",
      "_model_name": "LayoutModel",
      "_view_count": null,
      "_view_module": "@jupyter-widgets/base",
      "_view_module_version": "1.2.0",
      "_view_name": "LayoutView",
      "align_content": null,
      "align_items": null,
      "align_self": null,
      "border": null,
      "bottom": null,
      "display": null,
      "flex": null,
      "flex_flow": null,
      "grid_area": null,
      "grid_auto_columns": null,
      "grid_auto_flow": null,
      "grid_auto_rows": null,
      "grid_column": null,
      "grid_gap": null,
      "grid_row": null,
      "grid_template_areas": null,
      "grid_template_columns": null,
      "grid_template_rows": null,
      "height": null,
      "justify_content": null,
      "justify_items": null,
      "left": null,
      "margin": null,
      "max_height": null,
      "max_width": null,
      "min_height": null,
      "min_width": null,
      "object_fit": null,
      "object_position": null,
      "order": null,
      "overflow": null,
      "overflow_x": null,
      "overflow_y": null,
      "padding": null,
      "right": null,
      "top": null,
      "visibility": null,
      "width": null
     }
    },
    "a16cbfa072d74bfb84eabecc21efea45": {
     "model_module": "@jupyter-widgets/controls",
     "model_module_version": "1.5.0",
     "model_name": "HBoxModel",
     "state": {
      "_dom_classes": [],
      "_model_module": "@jupyter-widgets/controls",
      "_model_module_version": "1.5.0",
      "_model_name": "HBoxModel",
      "_view_count": null,
      "_view_module": "@jupyter-widgets/controls",
      "_view_module_version": "1.5.0",
      "_view_name": "HBoxView",
      "box_style": "",
      "children": [
       "IPY_MODEL_41bc87a2ea754d5e8bfd2ca315f55217",
       "IPY_MODEL_95c5cd8967c144eeb61f148531f54e8e",
       "IPY_MODEL_2bca0f0d660a4a258a140c5b24c1e15f"
      ],
      "layout": "IPY_MODEL_c3fe727446304f59a316d3e0853569be"
     }
    },
    "ae1dced92dfc4f23bef6992282aca15e": {
     "model_module": "@jupyter-widgets/controls",
     "model_module_version": "1.5.0",
     "model_name": "DescriptionStyleModel",
     "state": {
      "_model_module": "@jupyter-widgets/controls",
      "_model_module_version": "1.5.0",
      "_model_name": "DescriptionStyleModel",
      "_view_count": null,
      "_view_module": "@jupyter-widgets/base",
      "_view_module_version": "1.2.0",
      "_view_name": "StyleView",
      "description_width": ""
     }
    },
    "b0ef58d7e6c944eb878dc1dc01b52a18": {
     "model_module": "@jupyter-widgets/base",
     "model_module_version": "1.2.0",
     "model_name": "LayoutModel",
     "state": {
      "_model_module": "@jupyter-widgets/base",
      "_model_module_version": "1.2.0",
      "_model_name": "LayoutModel",
      "_view_count": null,
      "_view_module": "@jupyter-widgets/base",
      "_view_module_version": "1.2.0",
      "_view_name": "LayoutView",
      "align_content": null,
      "align_items": null,
      "align_self": null,
      "border": null,
      "bottom": null,
      "display": null,
      "flex": null,
      "flex_flow": null,
      "grid_area": null,
      "grid_auto_columns": null,
      "grid_auto_flow": null,
      "grid_auto_rows": null,
      "grid_column": null,
      "grid_gap": null,
      "grid_row": null,
      "grid_template_areas": null,
      "grid_template_columns": null,
      "grid_template_rows": null,
      "height": null,
      "justify_content": null,
      "justify_items": null,
      "left": null,
      "margin": null,
      "max_height": null,
      "max_width": null,
      "min_height": null,
      "min_width": null,
      "object_fit": null,
      "object_position": null,
      "order": null,
      "overflow": null,
      "overflow_x": null,
      "overflow_y": null,
      "padding": null,
      "right": null,
      "top": null,
      "visibility": null,
      "width": null
     }
    },
    "b28e57f84e424ef985e7dbda4d3b47df": {
     "model_module": "@jupyter-widgets/controls",
     "model_module_version": "1.5.0",
     "model_name": "FloatProgressModel",
     "state": {
      "_dom_classes": [],
      "_model_module": "@jupyter-widgets/controls",
      "_model_module_version": "1.5.0",
      "_model_name": "FloatProgressModel",
      "_view_count": null,
      "_view_module": "@jupyter-widgets/controls",
      "_view_module_version": "1.5.0",
      "_view_name": "ProgressView",
      "bar_style": "success",
      "description": "",
      "description_tooltip": null,
      "layout": "IPY_MODEL_19d6034fc2cd4d1db8408b0603f8e3a8",
      "max": 4542,
      "min": 0,
      "orientation": "horizontal",
      "style": "IPY_MODEL_ba3e3bcb5cc44905ad88897d185bb4c7",
      "value": 4542
     }
    },
    "b991b4844ab94fd29b02c7c2e34cd3d4": {
     "model_module": "@jupyter-widgets/base",
     "model_module_version": "1.2.0",
     "model_name": "LayoutModel",
     "state": {
      "_model_module": "@jupyter-widgets/base",
      "_model_module_version": "1.2.0",
      "_model_name": "LayoutModel",
      "_view_count": null,
      "_view_module": "@jupyter-widgets/base",
      "_view_module_version": "1.2.0",
      "_view_name": "LayoutView",
      "align_content": null,
      "align_items": null,
      "align_self": null,
      "border": null,
      "bottom": null,
      "display": null,
      "flex": null,
      "flex_flow": null,
      "grid_area": null,
      "grid_auto_columns": null,
      "grid_auto_flow": null,
      "grid_auto_rows": null,
      "grid_column": null,
      "grid_gap": null,
      "grid_row": null,
      "grid_template_areas": null,
      "grid_template_columns": null,
      "grid_template_rows": null,
      "height": null,
      "justify_content": null,
      "justify_items": null,
      "left": null,
      "margin": null,
      "max_height": null,
      "max_width": null,
      "min_height": null,
      "min_width": null,
      "object_fit": null,
      "object_position": null,
      "order": null,
      "overflow": null,
      "overflow_x": null,
      "overflow_y": null,
      "padding": null,
      "right": null,
      "top": null,
      "visibility": null,
      "width": null
     }
    },
    "ba3e3bcb5cc44905ad88897d185bb4c7": {
     "model_module": "@jupyter-widgets/controls",
     "model_module_version": "1.5.0",
     "model_name": "ProgressStyleModel",
     "state": {
      "_model_module": "@jupyter-widgets/controls",
      "_model_module_version": "1.5.0",
      "_model_name": "ProgressStyleModel",
      "_view_count": null,
      "_view_module": "@jupyter-widgets/base",
      "_view_module_version": "1.2.0",
      "_view_name": "StyleView",
      "bar_color": null,
      "description_width": ""
     }
    },
    "bd9e9f40aa3c49dd83f5963791d61a10": {
     "model_module": "@jupyter-widgets/controls",
     "model_module_version": "1.5.0",
     "model_name": "HBoxModel",
     "state": {
      "_dom_classes": [],
      "_model_module": "@jupyter-widgets/controls",
      "_model_module_version": "1.5.0",
      "_model_name": "HBoxModel",
      "_view_count": null,
      "_view_module": "@jupyter-widgets/controls",
      "_view_module_version": "1.5.0",
      "_view_name": "HBoxView",
      "box_style": "",
      "children": [
       "IPY_MODEL_e3346f79681a4092a1c82cc03dfa659a",
       "IPY_MODEL_e3595ecec2214f8e8c9631ba9b1b00fd",
       "IPY_MODEL_2c6021d5b196400a99aaab687628b6aa"
      ],
      "layout": "IPY_MODEL_96018e730365413ca947a39547df709e"
     }
    },
    "bfbb8947089e458f9b0b12b6af48389b": {
     "model_module": "@jupyter-widgets/controls",
     "model_module_version": "1.5.0",
     "model_name": "ProgressStyleModel",
     "state": {
      "_model_module": "@jupyter-widgets/controls",
      "_model_module_version": "1.5.0",
      "_model_name": "ProgressStyleModel",
      "_view_count": null,
      "_view_module": "@jupyter-widgets/base",
      "_view_module_version": "1.2.0",
      "_view_name": "StyleView",
      "bar_color": null,
      "description_width": ""
     }
    },
    "c18d7eaba1434ff2b460e5765fc310e9": {
     "model_module": "@jupyter-widgets/controls",
     "model_module_version": "1.5.0",
     "model_name": "DescriptionStyleModel",
     "state": {
      "_model_module": "@jupyter-widgets/controls",
      "_model_module_version": "1.5.0",
      "_model_name": "DescriptionStyleModel",
      "_view_count": null,
      "_view_module": "@jupyter-widgets/base",
      "_view_module_version": "1.2.0",
      "_view_name": "StyleView",
      "description_width": ""
     }
    },
    "c3fe727446304f59a316d3e0853569be": {
     "model_module": "@jupyter-widgets/base",
     "model_module_version": "1.2.0",
     "model_name": "LayoutModel",
     "state": {
      "_model_module": "@jupyter-widgets/base",
      "_model_module_version": "1.2.0",
      "_model_name": "LayoutModel",
      "_view_count": null,
      "_view_module": "@jupyter-widgets/base",
      "_view_module_version": "1.2.0",
      "_view_name": "LayoutView",
      "align_content": null,
      "align_items": null,
      "align_self": null,
      "border": null,
      "bottom": null,
      "display": null,
      "flex": null,
      "flex_flow": null,
      "grid_area": null,
      "grid_auto_columns": null,
      "grid_auto_flow": null,
      "grid_auto_rows": null,
      "grid_column": null,
      "grid_gap": null,
      "grid_row": null,
      "grid_template_areas": null,
      "grid_template_columns": null,
      "grid_template_rows": null,
      "height": null,
      "justify_content": null,
      "justify_items": null,
      "left": null,
      "margin": null,
      "max_height": null,
      "max_width": null,
      "min_height": null,
      "min_width": null,
      "object_fit": null,
      "object_position": null,
      "order": null,
      "overflow": null,
      "overflow_x": null,
      "overflow_y": null,
      "padding": null,
      "right": null,
      "top": null,
      "visibility": null,
      "width": null
     }
    },
    "c5c7c7c919a84656ad654eacb713fe08": {
     "model_module": "@jupyter-widgets/base",
     "model_module_version": "1.2.0",
     "model_name": "LayoutModel",
     "state": {
      "_model_module": "@jupyter-widgets/base",
      "_model_module_version": "1.2.0",
      "_model_name": "LayoutModel",
      "_view_count": null,
      "_view_module": "@jupyter-widgets/base",
      "_view_module_version": "1.2.0",
      "_view_name": "LayoutView",
      "align_content": null,
      "align_items": null,
      "align_self": null,
      "border": null,
      "bottom": null,
      "display": null,
      "flex": null,
      "flex_flow": null,
      "grid_area": null,
      "grid_auto_columns": null,
      "grid_auto_flow": null,
      "grid_auto_rows": null,
      "grid_column": null,
      "grid_gap": null,
      "grid_row": null,
      "grid_template_areas": null,
      "grid_template_columns": null,
      "grid_template_rows": null,
      "height": null,
      "justify_content": null,
      "justify_items": null,
      "left": null,
      "margin": null,
      "max_height": null,
      "max_width": null,
      "min_height": null,
      "min_width": null,
      "object_fit": null,
      "object_position": null,
      "order": null,
      "overflow": null,
      "overflow_x": null,
      "overflow_y": null,
      "padding": null,
      "right": null,
      "top": null,
      "visibility": null,
      "width": null
     }
    },
    "c608bfce9f9a4532888d8c9fe7637426": {
     "model_module": "@jupyter-widgets/controls",
     "model_module_version": "1.5.0",
     "model_name": "DescriptionStyleModel",
     "state": {
      "_model_module": "@jupyter-widgets/controls",
      "_model_module_version": "1.5.0",
      "_model_name": "DescriptionStyleModel",
      "_view_count": null,
      "_view_module": "@jupyter-widgets/base",
      "_view_module_version": "1.2.0",
      "_view_name": "StyleView",
      "description_width": ""
     }
    },
    "c9caa1da565b479db5b9565eb55dc141": {
     "model_module": "@jupyter-widgets/controls",
     "model_module_version": "1.5.0",
     "model_name": "HTMLModel",
     "state": {
      "_dom_classes": [],
      "_model_module": "@jupyter-widgets/controls",
      "_model_module_version": "1.5.0",
      "_model_name": "HTMLModel",
      "_view_count": null,
      "_view_module": "@jupyter-widgets/controls",
      "_view_module_version": "1.5.0",
      "_view_name": "HTMLView",
      "description": "",
      "description_tooltip": null,
      "layout": "IPY_MODEL_c5c7c7c919a84656ad654eacb713fe08",
      "placeholder": "​",
      "style": "IPY_MODEL_f1586092ca2641c288fe8873e9765345",
      "value": "100%"
     }
    },
    "e3346f79681a4092a1c82cc03dfa659a": {
     "model_module": "@jupyter-widgets/controls",
     "model_module_version": "1.5.0",
     "model_name": "HTMLModel",
     "state": {
      "_dom_classes": [],
      "_model_module": "@jupyter-widgets/controls",
      "_model_module_version": "1.5.0",
      "_model_name": "HTMLModel",
      "_view_count": null,
      "_view_module": "@jupyter-widgets/controls",
      "_view_module_version": "1.5.0",
      "_view_name": "HTMLView",
      "description": "",
      "description_tooltip": null,
      "layout": "IPY_MODEL_b0ef58d7e6c944eb878dc1dc01b52a18",
      "placeholder": "​",
      "style": "IPY_MODEL_29153d470bba4d91a99d178674472238",
      "value": "100%"
     }
    },
    "e3595ecec2214f8e8c9631ba9b1b00fd": {
     "model_module": "@jupyter-widgets/controls",
     "model_module_version": "1.5.0",
     "model_name": "FloatProgressModel",
     "state": {
      "_dom_classes": [],
      "_model_module": "@jupyter-widgets/controls",
      "_model_module_version": "1.5.0",
      "_model_name": "FloatProgressModel",
      "_view_count": null,
      "_view_module": "@jupyter-widgets/controls",
      "_view_module_version": "1.5.0",
      "_view_name": "ProgressView",
      "bar_style": "success",
      "description": "",
      "description_tooltip": null,
      "layout": "IPY_MODEL_44308811de424866b311b591f751ef59",
      "max": 28881,
      "min": 0,
      "orientation": "horizontal",
      "style": "IPY_MODEL_bfbb8947089e458f9b0b12b6af48389b",
      "value": 28881
     }
    },
    "e951768f750f45cdb59a7f04f534e1e2": {
     "model_module": "@jupyter-widgets/controls",
     "model_module_version": "1.5.0",
     "model_name": "HTMLModel",
     "state": {
      "_dom_classes": [],
      "_model_module": "@jupyter-widgets/controls",
      "_model_module_version": "1.5.0",
      "_model_name": "HTMLModel",
      "_view_count": null,
      "_view_module": "@jupyter-widgets/controls",
      "_view_module_version": "1.5.0",
      "_view_name": "HTMLView",
      "description": "",
      "description_tooltip": null,
      "layout": "IPY_MODEL_b991b4844ab94fd29b02c7c2e34cd3d4",
      "placeholder": "​",
      "style": "IPY_MODEL_8c8f9953d1d347d0981fda0680b45c18",
      "value": " 1648877/1648877 [00:00&lt;00:00, 26326094.67it/s]"
     }
    },
    "ea5dfcf7454e4c268a6f9f3a0a4ad9ef": {
     "model_module": "@jupyter-widgets/controls",
     "model_module_version": "1.5.0",
     "model_name": "ProgressStyleModel",
     "state": {
      "_model_module": "@jupyter-widgets/controls",
      "_model_module_version": "1.5.0",
      "_model_name": "ProgressStyleModel",
      "_view_count": null,
      "_view_module": "@jupyter-widgets/base",
      "_view_module_version": "1.2.0",
      "_view_name": "StyleView",
      "bar_color": null,
      "description_width": ""
     }
    },
    "f1586092ca2641c288fe8873e9765345": {
     "model_module": "@jupyter-widgets/controls",
     "model_module_version": "1.5.0",
     "model_name": "DescriptionStyleModel",
     "state": {
      "_model_module": "@jupyter-widgets/controls",
      "_model_module_version": "1.5.0",
      "_model_name": "DescriptionStyleModel",
      "_view_count": null,
      "_view_module": "@jupyter-widgets/base",
      "_view_module_version": "1.2.0",
      "_view_name": "StyleView",
      "description_width": ""
     }
    },
    "f67d76f05e5746dbbe5f24aa905819de": {
     "model_module": "@jupyter-widgets/controls",
     "model_module_version": "1.5.0",
     "model_name": "FloatProgressModel",
     "state": {
      "_dom_classes": [],
      "_model_module": "@jupyter-widgets/controls",
      "_model_module_version": "1.5.0",
      "_model_name": "FloatProgressModel",
      "_view_count": null,
      "_view_module": "@jupyter-widgets/controls",
      "_view_module_version": "1.5.0",
      "_view_name": "ProgressView",
      "bar_style": "success",
      "description": "",
      "description_tooltip": null,
      "layout": "IPY_MODEL_1c037019f0fe46a0bc2a28e4ddf6a69a",
      "max": 1648877,
      "min": 0,
      "orientation": "horizontal",
      "style": "IPY_MODEL_6cea4b92aa7d438594a65180697ad114",
      "value": 1648877
     }
    },
    "f94c7f1517074bed8529232193b27294": {
     "model_module": "@jupyter-widgets/controls",
     "model_module_version": "1.5.0",
     "model_name": "HTMLModel",
     "state": {
      "_dom_classes": [],
      "_model_module": "@jupyter-widgets/controls",
      "_model_module_version": "1.5.0",
      "_model_name": "HTMLModel",
      "_view_count": null,
      "_view_module": "@jupyter-widgets/controls",
      "_view_module_version": "1.5.0",
      "_view_name": "HTMLView",
      "description": "",
      "description_tooltip": null,
      "layout": "IPY_MODEL_1257864d663f44b99896c7b7574681ff",
      "placeholder": "​",
      "style": "IPY_MODEL_ae1dced92dfc4f23bef6992282aca15e",
      "value": " 4542/4542 [00:00&lt;00:00, 232612.87it/s]"
     }
    },
    "fa0b841a84a6484289a830843f2e11cd": {
     "model_module": "@jupyter-widgets/controls",
     "model_module_version": "1.5.0",
     "model_name": "DescriptionStyleModel",
     "state": {
      "_model_module": "@jupyter-widgets/controls",
      "_model_module_version": "1.5.0",
      "_model_name": "DescriptionStyleModel",
      "_view_count": null,
      "_view_module": "@jupyter-widgets/base",
      "_view_module_version": "1.2.0",
      "_view_name": "StyleView",
      "description_width": ""
     }
    }
   }
  }
 },
 "nbformat": 4,
 "nbformat_minor": 1
}
