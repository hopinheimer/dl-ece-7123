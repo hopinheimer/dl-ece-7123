{
 "cells": [
  {
   "cell_type": "markdown",
   "metadata": {
    "id": "txDUKwFp2O9L"
   },
   "source": [
    "# PyTorch Basics\n",
    "\n",
    "I'll assume that everyone is familiar with python. Training neural nets in bare python is somewhat painful, but fortunately there are several well-established libraries which can help. I like pytorch, which is built upon an earlier library called torch. There are many others, including TensorFlow and Jax."
   ]
  },
  {
   "cell_type": "code",
   "execution_count": 54,
   "metadata": {
    "id": "GlCIT7IJ2L0K"
   },
   "outputs": [],
   "source": [
    "# We start by importing the libraries we'll use today\n",
    "import numpy as np\n",
    "import torch\n",
    "import torchvision"
   ]
  },
  {
   "cell_type": "code",
   "execution_count": 55,
   "metadata": {
    "colab": {
     "base_uri": "https://localhost:8080/"
    },
    "executionInfo": {
     "elapsed": 5,
     "status": "ok",
     "timestamp": 1674771419296,
     "user": {
      "displayName": "Karthik Garimella",
      "userId": "04378348427673454344"
     },
     "user_tz": 300
    },
    "id": "MvYbWcJji2gZ",
    "outputId": "b5e4e334-516c-4215-9ac2-1bf357b9eb2b"
   },
   "outputs": [
    {
     "name": "stdout",
     "output_type": "stream",
     "text": [
      "[[0.15712112 0.74391533 0.83364516]\n",
      " [0.73384515 0.08844869 0.51282697]]\n",
      "tensor([[0.1571, 0.7439, 0.8336],\n",
      "        [0.7338, 0.0884, 0.5128]], dtype=torch.float64)\n"
     ]
    }
   ],
   "source": [
    "a = np.random.rand(2,3)\n",
    "b = torch.from_numpy(a)\n",
    "\n",
    "print(a)\n",
    "print(b)"
   ]
  },
  {
   "cell_type": "code",
   "execution_count": 56,
   "metadata": {
    "colab": {
     "base_uri": "https://localhost:8080/"
    },
    "executionInfo": {
     "elapsed": 489,
     "status": "ok",
     "timestamp": 1674771421190,
     "user": {
      "displayName": "Karthik Garimella",
      "userId": "04378348427673454344"
     },
     "user_tz": 300
    },
    "id": "vDhu7psgjBVe",
    "outputId": "4cc4b7bc-1207-4b08-dc35-50ea1c0fdb0c"
   },
   "outputs": [
    {
     "name": "stdout",
     "output_type": "stream",
     "text": [
      "tensor([[10.1571, 10.7439, 10.8336],\n",
      "        [10.7338, 10.0884, 10.5128]], dtype=torch.float64)\n",
      "\n",
      "tensor([[0.1565, 0.6772, 0.7404],\n",
      "        [0.6697, 0.0883, 0.4906]], dtype=torch.float64)\n",
      "\n",
      "tensor(3.0698, dtype=torch.float64)\n",
      "\n",
      "tensor(0.5116, dtype=torch.float64)\n",
      "\n",
      "torch.Size([2, 3])\n"
     ]
    }
   ],
   "source": [
    "print(b + 10.0)\n",
    "print()\n",
    "print(torch.sin(b))\n",
    "print()\n",
    "print(b.sum())\n",
    "print()\n",
    "print(b.mean())\n",
    "print()\n",
    "print(b.shape)"
   ]
  },
  {
   "cell_type": "markdown",
   "metadata": {
    "id": "otMKsc9W2woY"
   },
   "source": [
    "Torch believes everything is a *tensor.*\n",
    "\n",
    "The main intuition is that tensors allow for intuitive and efficient matrix multiplication across different indexing dimensions. Soon, we will see that training neural nets basically consits of *forward* and *backward* passes, both of which are essentially matrix multiplies.\n",
    "\n",
    "The other thing about torch variables is that they (natively) can be differentiated. Again, we'll see why this is important when we learn about backpropagation."
   ]
  },
  {
   "cell_type": "markdown",
   "metadata": {
    "id": "4DihuedmqDyz"
   },
   "source": [
    "Suppose we want $dy/da$ in the following expression:\n",
    "- $y = a + b$"
   ]
  },
  {
   "cell_type": "code",
   "execution_count": 57,
   "metadata": {
    "colab": {
     "base_uri": "https://localhost:8080/"
    },
    "executionInfo": {
     "elapsed": 563,
     "status": "ok",
     "timestamp": 1674771424532,
     "user": {
      "displayName": "Karthik Garimella",
      "userId": "04378348427673454344"
     },
     "user_tz": 300
    },
    "id": "5YhcphgzjZXK",
    "outputId": "dec36095-4069-4d57-f316-2087a9a2b9fa"
   },
   "outputs": [
    {
     "name": "stdout",
     "output_type": "stream",
     "text": [
      "a: tensor([[0.7476]], requires_grad=True)\n",
      "b: tensor([[0.4284]])\n",
      "y: tensor([[1.1760]], grad_fn=<AddBackward0>)\n"
     ]
    }
   ],
   "source": [
    "a = torch.rand(1,1, requires_grad=True)\n",
    "b = torch.rand(1,1)\n",
    "y = a + b\n",
    "print(\"a:\", a)\n",
    "print(\"b:\", b)\n",
    "print(\"y:\", y)"
   ]
  },
  {
   "cell_type": "markdown",
   "metadata": {
    "id": "L3DxgbnpyQmA"
   },
   "source": [
    "Here, $y$ is a function of the input $a$ so we can use PyTorch to compute $dy/da$"
   ]
  },
  {
   "cell_type": "code",
   "execution_count": 58,
   "metadata": {
    "colab": {
     "base_uri": "https://localhost:8080/"
    },
    "executionInfo": {
     "elapsed": 4,
     "status": "ok",
     "timestamp": 1674771426438,
     "user": {
      "displayName": "Karthik Garimella",
      "userId": "04378348427673454344"
     },
     "user_tz": 300
    },
    "id": "EWcV4s7zyMdW",
    "outputId": "2172046d-06e0-4f5c-e24a-7edd7523238f"
   },
   "outputs": [
    {
     "name": "stdout",
     "output_type": "stream",
     "text": [
      "dy/da: tensor([[1.]])\n"
     ]
    }
   ],
   "source": [
    "y.backward()\n",
    "print(\"dy/da:\", a.grad)"
   ]
  },
  {
   "cell_type": "markdown",
   "metadata": {
    "id": "zAQSva_osWlH"
   },
   "source": [
    "Let's try this again with a more complex function:\n",
    "- $y = a^2 \\cdot b$\n",
    "\n"
   ]
  },
  {
   "cell_type": "code",
   "execution_count": 59,
   "metadata": {
    "colab": {
     "base_uri": "https://localhost:8080/"
    },
    "executionInfo": {
     "elapsed": 4,
     "status": "ok",
     "timestamp": 1674771428538,
     "user": {
      "displayName": "Karthik Garimella",
      "userId": "04378348427673454344"
     },
     "user_tz": 300
    },
    "id": "rjxHZS1or4Rb",
    "outputId": "9ba00ff1-4277-465f-8faa-556e28548246"
   },
   "outputs": [
    {
     "name": "stdout",
     "output_type": "stream",
     "text": [
      "a: tensor([[0.1356]], requires_grad=True)\n",
      "b: tensor([[0.5041]])\n",
      "y: tensor([[0.0093]], grad_fn=<MulBackward0>)\n",
      "dy/da: tensor([[0.1367]])\n",
      "dy/da: tensor([[0.1367]], grad_fn=<MulBackward0>)\n"
     ]
    }
   ],
   "source": [
    "a = torch.rand(1,1, requires_grad=True)\n",
    "b = torch.rand(1,1)\n",
    "y = (a**2)*b\n",
    "print(\"a:\", a)\n",
    "print(\"b:\", b)\n",
    "print(\"y:\", y)\n",
    "y.backward()\n",
    "print(\"dy/da:\", a.grad)\n",
    "print(\"dy/da:\", 2 * a * b)"
   ]
  },
  {
   "cell_type": "markdown",
   "metadata": {
    "id": "cDdbLxhFX1vW"
   },
   "source": [
    "Torch has calculated $dy/da$ using backpropagation which is in agreement with our answer calculated using standard differentiation rules."
   ]
  },
  {
   "cell_type": "markdown",
   "metadata": {
    "id": "Qn8qXugsAZ5I"
   },
   "source": [
    "Here is an example with matrices and vectors:"
   ]
  },
  {
   "cell_type": "code",
   "execution_count": 60,
   "metadata": {
    "id": "2F0-AtH32vae"
   },
   "outputs": [],
   "source": [
    "A = torch.rand(2,2)\n",
    "b = torch.rand(2,1)\n",
    "x = torch.rand(2,1, requires_grad = True)\n",
    "\n",
    "y = torch.matmul(A, x) + b\n",
    "z = y.sum()"
   ]
  },
  {
   "cell_type": "markdown",
   "metadata": {
    "id": "kbWH5spr3TS3"
   },
   "source": [
    "Here, $z$ is a function of the input $x$. Let us now compute the derivative of $z$ with respect to $x$ using backpropagation."
   ]
  },
  {
   "cell_type": "code",
   "execution_count": 61,
   "metadata": {
    "colab": {
     "base_uri": "https://localhost:8080/"
    },
    "executionInfo": {
     "elapsed": 340,
     "status": "ok",
     "timestamp": 1674771433330,
     "user": {
      "displayName": "Karthik Garimella",
      "userId": "04378348427673454344"
     },
     "user_tz": 300
    },
    "id": "MpUgxwJC3Nat",
    "outputId": "f672fef6-bf80-48bf-f66d-ccbbd61f558e"
   },
   "outputs": [
    {
     "name": "stdout",
     "output_type": "stream",
     "text": [
      "tensor([[0.1900],\n",
      "        [0.5986]], requires_grad=True)\n",
      "tensor([[0.4531],\n",
      "        [0.6452]])\n"
     ]
    }
   ],
   "source": [
    "z.backward()\n",
    "print(x)\n",
    "print(x.grad)"
   ]
  },
  {
   "cell_type": "markdown",
   "metadata": {
    "id": "_09Os5Jv3h-9"
   },
   "source": [
    "## Training simple models\n",
    "\n",
    "Let's jump in with our first, simple model. We will train a logistic classifier (equivalent to using a single-layer neural network) on a popular image dataset called *Fashion-MNIST*. Torchvision also has several other image datasets which we can directly load as variables."
   ]
  },
  {
   "cell_type": "code",
   "execution_count": 62,
   "metadata": {
    "id": "q4j1iTpV3htP"
   },
   "outputs": [],
   "source": [
    "trainingdata = torchvision.datasets.FashionMNIST('./FashionMNIST/',train=True,download=True,transform=torchvision.transforms.ToTensor())\n",
    "testdata = torchvision.datasets.FashionMNIST('./FashionMNIST/',train=False,download=True,transform=torchvision.transforms.ToTensor())"
   ]
  },
  {
   "cell_type": "markdown",
   "metadata": {
    "id": "VDzG3rgo3052"
   },
   "source": [
    "Let's check that everything has been downloaded."
   ]
  },
  {
   "cell_type": "code",
   "execution_count": 63,
   "metadata": {
    "colab": {
     "base_uri": "https://localhost:8080/"
    },
    "executionInfo": {
     "elapsed": 223,
     "status": "ok",
     "timestamp": 1674771438825,
     "user": {
      "displayName": "Karthik Garimella",
      "userId": "04378348427673454344"
     },
     "user_tz": 300
    },
    "id": "22dRVEKY3z37",
    "outputId": "515afca0-0af9-48df-cf6b-0b49fce46536"
   },
   "outputs": [
    {
     "name": "stdout",
     "output_type": "stream",
     "text": [
      "60000\n",
      "10000\n"
     ]
    }
   ],
   "source": [
    "print(len(trainingdata))\n",
    "print(len(testdata))"
   ]
  },
  {
   "cell_type": "markdown",
   "metadata": {
    "id": "nVE1Aqo_4Bx9"
   },
   "source": [
    "Let's investigate to see what's inside the dataset."
   ]
  },
  {
   "cell_type": "code",
   "execution_count": 64,
   "metadata": {
    "colab": {
     "base_uri": "https://localhost:8080/"
    },
    "executionInfo": {
     "elapsed": 5,
     "status": "ok",
     "timestamp": 1674771441383,
     "user": {
      "displayName": "Karthik Garimella",
      "userId": "04378348427673454344"
     },
     "user_tz": 300
    },
    "id": "bf0Snhu-4A_c",
    "outputId": "d246413d-45fe-415e-d9d8-108539b0c48e"
   },
   "outputs": [
    {
     "name": "stdout",
     "output_type": "stream",
     "text": [
      "torch.Size([1, 28, 28]) 9\n"
     ]
    }
   ],
   "source": [
    "image, label = trainingdata[0]\n",
    "print(image.shape, label)"
   ]
  },
  {
   "cell_type": "markdown",
   "metadata": {
    "id": "pWzhVnwN4Img"
   },
   "source": [
    "We cannot directly plot the image object given that its first dimension has a size of 1. So we will use the `squeeze` function to get rid of the first dimension."
   ]
  },
  {
   "cell_type": "code",
   "execution_count": 65,
   "metadata": {
    "colab": {
     "base_uri": "https://localhost:8080/"
    },
    "executionInfo": {
     "elapsed": 4,
     "status": "ok",
     "timestamp": 1674771443285,
     "user": {
      "displayName": "Karthik Garimella",
      "userId": "04378348427673454344"
     },
     "user_tz": 300
    },
    "id": "STrrNZFf2uYg",
    "outputId": "f4bc5562-d113-4127-d222-ec3424f3d082"
   },
   "outputs": [
    {
     "name": "stdout",
     "output_type": "stream",
     "text": [
      "torch.Size([28, 28])\n"
     ]
    }
   ],
   "source": [
    "print(image.squeeze().shape)"
   ]
  },
  {
   "cell_type": "code",
   "execution_count": 66,
   "metadata": {
    "colab": {
     "base_uri": "https://localhost:8080/",
     "height": 283
    },
    "executionInfo": {
     "elapsed": 522,
     "status": "ok",
     "timestamp": 1674771446630,
     "user": {
      "displayName": "Karthik Garimella",
      "userId": "04378348427673454344"
     },
     "user_tz": 300
    },
    "id": "XSoAec0d4H2j",
    "outputId": "b83e2d38-d229-4b82-e38d-1a658fddeefc"
   },
   "outputs": [
    {
     "data": {
      "text/plain": [
       "<matplotlib.image.AxesImage at 0x145e596d0>"
      ]
     },
     "execution_count": 66,
     "metadata": {},
     "output_type": "execute_result"
    },
    {
     "data": {
      "image/png": "[encoded data removed]",
      "text/plain": [
       "<Figure size 640x480 with 1 Axes>"
      ]
     },
     "metadata": {},
     "output_type": "display_data"
    }
   ],
   "source": [
    "import matplotlib.pyplot as plt\n",
    "%matplotlib inline\n",
    "plt.imshow(image.squeeze(), cmap=plt.cm.gray)"
   ]
  },
  {
   "cell_type": "markdown",
   "metadata": {
    "id": "2M2X2FW94Tx5"
   },
   "source": [
    "Looks like a shoe? Fashion-MNIST is a bunch of different black and white images of clothing with a corresponding label identifying the category the clothing belongs to. It looks like label 9 corresponds to shoes.\n",
    "\n",
    "In order to nicely wrap the process of iterating through the dataset, we'll use a dataloader."
   ]
  },
  {
   "cell_type": "code",
   "execution_count": 67,
   "metadata": {
    "id": "zrqhfhQ94h9F"
   },
   "outputs": [],
   "source": [
    "trainDataLoader = torch.utils.data.DataLoader(trainingdata,batch_size=64,shuffle=True)\n",
    "testDataLoader = torch.utils.data.DataLoader(testdata,batch_size=64,shuffle=False)"
   ]
  },
  {
   "cell_type": "markdown",
   "metadata": {
    "id": "IaNv97ra250d"
   },
   "source": [
    "Let's also check the length of the train and test dataloader"
   ]
  },
  {
   "cell_type": "code",
   "execution_count": 68,
   "metadata": {
    "colab": {
     "base_uri": "https://localhost:8080/"
    },
    "executionInfo": {
     "elapsed": 221,
     "status": "ok",
     "timestamp": 1674771450843,
     "user": {
      "displayName": "Karthik Garimella",
      "userId": "04378348427673454344"
     },
     "user_tz": 300
    },
    "id": "t8HqOFhb3Ajp",
    "outputId": "4041f0b7-0b07-442d-aeb2-2db20162ddd2"
   },
   "outputs": [
    {
     "name": "stdout",
     "output_type": "stream",
     "text": [
      "938\n",
      "157\n"
     ]
    }
   ],
   "source": [
    "print(len(trainDataLoader))\n",
    "print(len(testDataLoader))"
   ]
  },
  {
   "cell_type": "markdown",
   "metadata": {
    "id": "9CzCOA5-YK6i"
   },
   "source": [
    "The length here depends upon the batch size defined above. Multiplying the length of our dataloader by the batch size should give us back the number of samples in each set."
   ]
  },
  {
   "cell_type": "code",
   "execution_count": 69,
   "metadata": {
    "colab": {
     "base_uri": "https://localhost:8080/"
    },
    "executionInfo": {
     "elapsed": 3,
     "status": "ok",
     "timestamp": 1674771452469,
     "user": {
      "displayName": "Karthik Garimella",
      "userId": "04378348427673454344"
     },
     "user_tz": 300
    },
    "id": "TEKU8Vcl3EXz",
    "outputId": "cfcdade7-496f-40e6-9fd4-3d46b3521d8a"
   },
   "outputs": [
    {
     "name": "stdout",
     "output_type": "stream",
     "text": [
      "60032\n",
      "10048\n"
     ]
    }
   ],
   "source": [
    "print(len(trainDataLoader) * 64) # batch_size from above\n",
    "print(len(testDataLoader) * 64)"
   ]
  },
  {
   "cell_type": "markdown",
   "metadata": {
    "id": "AQ_9qunz4xUd"
   },
   "source": [
    "Now let's use it to look at a few images."
   ]
  },
  {
   "cell_type": "code",
   "execution_count": 70,
   "metadata": {
    "colab": {
     "base_uri": "https://localhost:8080/",
     "height": 160
    },
    "executionInfo": {
     "elapsed": 856,
     "status": "ok",
     "timestamp": 1674771456467,
     "user": {
      "displayName": "Karthik Garimella",
      "userId": "04378348427673454344"
     },
     "user_tz": 300
    },
    "id": "da5yKkMo4zKz",
    "outputId": "06e35a4b-8354-4afb-e701-34573c88b120"
   },
   "outputs": [
    {
     "data": {
      "image/png": "[encoded data removed]",
      "text/plain": [
       "<Figure size 1000x400 with 5 Axes>"
      ]
     },
     "metadata": {},
     "output_type": "display_data"
    }
   ],
   "source": [
    "images, labels = next(iter(trainDataLoader))\n",
    "\n",
    "plt.figure(figsize=(10,4))\n",
    "for index in np.arange(0,5):\n",
    "  plt.subplot(1,5,index+1)\n",
    "  plt.title(f'Label: {labels[index].item()}')\n",
    "  plt.imshow(images[index].squeeze(),cmap=plt.cm.gray)"
   ]
  },
  {
   "cell_type": "markdown",
   "metadata": {
    "id": "VGyspXXr5FUk"
   },
   "source": [
    "Now let's set up our model."
   ]
  },
  {
   "cell_type": "code",
   "execution_count": 71,
   "metadata": {
    "id": "QbleoEIy5EfA"
   },
   "outputs": [],
   "source": [
    "class DenseNN(torch.nn.Module):\n",
    "    def __init__(self):\n",
    "        super(DenseNN, self).__init__()\n",
    "        self.flatten = torch.nn.Flatten() \n",
    "        self.hidden_layers = torch.nn.Sequential(\n",
    "            torch.nn.Linear(28*28, 256),  \n",
    "            torch.nn.ReLU(),              \n",
    "            torch.nn.Linear(256, 128),    \n",
    "            torch.nn.ReLU(),              \n",
    "            torch.nn.Linear(128, 64),     \n",
    "            torch.nn.ReLU(),             \n",
    "            torch.nn.Linear(64, 10)       \n",
    "        )\n",
    "\n",
    "    def forward(self, x):\n",
    "        x = self.flatten(x)          \n",
    "        x = self.hidden_layers(x)    \n",
    "        return x\n",
    "\n",
    "\n",
    "net = DenseNN()\n",
    "loss = torch.nn.CrossEntropyLoss()\n",
    "optimizer = torch.optim.SGD(net.parameters(), lr=0.01)"
   ]
  },
  {
   "cell_type": "markdown",
   "metadata": {
    "id": "r6s7Ecae5tIU"
   },
   "source": [
    "Now let's train our model!"
   ]
  },
  {
   "cell_type": "code",
   "execution_count": 72,
   "metadata": {
    "colab": {
     "base_uri": "https://localhost:8080/"
    },
    "executionInfo": {
     "elapsed": 134081,
     "status": "ok",
     "timestamp": 1674771662708,
     "user": {
      "displayName": "Karthik Garimella",
      "userId": "04378348427673454344"
     },
     "user_tz": 300
    },
    "id": "8vGgZop05u2B",
    "outputId": "999a4ca9-6550-497c-ae02-fc5f9004dba8",
    "scrolled": true
   },
   "outputs": [
    {
     "name": "stdout",
     "output_type": "stream",
     "text": [
      "Epoch 0, Train loss 1.790800531535769, Test loss 1.0603051542476485\n",
      "Epoch 1, Train loss 0.8529607821375068, Test loss 0.7733812026537148\n",
      "Epoch 2, Train loss 0.6769277097256199, Test loss 0.6564493959496736\n",
      "Epoch 3, Train loss 0.593183401423985, Test loss 0.6243235043659332\n",
      "Epoch 4, Train loss 0.5381992296941245, Test loss 0.5406382598315075\n",
      "Epoch 5, Train loss 0.5053155627300236, Test loss 0.5175931903587025\n",
      "Epoch 6, Train loss 0.4796605160368531, Test loss 0.515896940117429\n",
      "Epoch 7, Train loss 0.4631439371467399, Test loss 0.48335448552848426\n",
      "Epoch 8, Train loss 0.4469954495205046, Test loss 0.5000266747869504\n",
      "Epoch 9, Train loss 0.43423084589019256, Test loss 0.4897563001912111\n",
      "Epoch 10, Train loss 0.4239746161551872, Test loss 0.45172963049381404\n",
      "Epoch 11, Train loss 0.4117685082529399, Test loss 0.4470290798859991\n",
      "Epoch 12, Train loss 0.4025032970506245, Test loss 0.4385752216645866\n",
      "Epoch 13, Train loss 0.3930039745308697, Test loss 0.4250946553649416\n",
      "Epoch 14, Train loss 0.38559330578869594, Test loss 0.4244547132284019\n",
      "Epoch 15, Train loss 0.37728721198878057, Test loss 0.4413584735552976\n",
      "Epoch 16, Train loss 0.3700822573036019, Test loss 0.4197087126552679\n",
      "Epoch 17, Train loss 0.364003892741732, Test loss 0.41320078350176476\n",
      "Epoch 18, Train loss 0.35565167722671526, Test loss 0.42305152156170767\n",
      "Epoch 19, Train loss 0.34972605083002717, Test loss 0.387189338256599\n",
      "Epoch 20, Train loss 0.3424752625797603, Test loss 0.3874732476131172\n",
      "Epoch 21, Train loss 0.33785510592178497, Test loss 0.38247387832517077\n",
      "Epoch 22, Train loss 0.33232041306968435, Test loss 0.3944590399219732\n",
      "Epoch 23, Train loss 0.32535908074934344, Test loss 0.39451974497479236\n",
      "Epoch 24, Train loss 0.3206135963699393, Test loss 0.3868599485629683\n",
      "Epoch 25, Train loss 0.31485860650219133, Test loss 0.38783029898716387\n",
      "Epoch 26, Train loss 0.309089551872409, Test loss 0.3722162968034198\n",
      "Epoch 27, Train loss 0.3055018623834099, Test loss 0.4750619567693419\n",
      "Epoch 28, Train loss 0.3002693054518466, Test loss 0.3799902642038977\n",
      "Epoch 29, Train loss 0.29638162233046633, Test loss 0.35834711956180587\n"
     ]
    }
   ],
   "source": [
    "train_loss_history = []\n",
    "test_loss_history = []\n",
    "\n",
    "for epoch in range(30):\n",
    "  train_loss = 0.0\n",
    "  test_loss = 0.0\n",
    "  \n",
    "  net.train()\n",
    "  for i, data in enumerate(trainDataLoader):\n",
    "    images, labels = data\n",
    "    images = images\n",
    "    labels = labels\n",
    "    optimizer.zero_grad() # zero out any gradient values from the previous iteration\n",
    "    predicted_output = net(images) # forward propagation  \n",
    "    fit = loss(predicted_output, labels)  # calculate our measure of goodness\n",
    "    fit.backward() # backpropagation\n",
    "    optimizer.step() # update the weights of our trainable parameters\n",
    "    train_loss += fit.item()\n",
    "\n",
    "  net.eval()\n",
    "  for i, data in enumerate(testDataLoader):\n",
    "    with torch.no_grad():\n",
    "      images, labels = data\n",
    "      images = images\n",
    "      labels = labels\n",
    "      predicted_output = net(images)\n",
    "      fit = loss(predicted_output, labels)\n",
    "      test_loss += fit.item()\n",
    "  train_loss = train_loss / len(trainDataLoader)\n",
    "  test_loss = test_loss / len(testDataLoader)\n",
    "  train_loss_history += [train_loss]\n",
    "  test_loss_history += [test_loss]\n",
    "  print(f'Epoch {epoch}, Train loss {train_loss}, Test loss {test_loss}')"
   ]
  },
  {
   "cell_type": "markdown",
   "metadata": {
    "id": "fh-rlPJ46-yj"
   },
   "source": [
    "Let's plot our loss by training epoch to see how we did."
   ]
  },
  {
   "cell_type": "code",
   "execution_count": 73,
   "metadata": {
    "colab": {
     "base_uri": "https://localhost:8080/",
     "height": 279
    },
    "executionInfo": {
     "elapsed": 255,
     "status": "ok",
     "timestamp": 1674771683174,
     "user": {
      "displayName": "Karthik Garimella",
      "userId": "04378348427673454344"
     },
     "user_tz": 300
    },
    "id": "vP9KBzxz7Bif",
    "outputId": "8c0a446d-7e70-4c7a-bf24-fffba0d12eb3"
   },
   "outputs": [
    {
     "data": {
      "image/png": "[encoded data removed]",
      "text/plain": [
       "<Figure size 640x480 with 1 Axes>"
      ]
     },
     "metadata": {},
     "output_type": "display_data"
    }
   ],
   "source": [
    "plt.plot(range(30),train_loss_history,'-',linewidth=3,label='Train error')\n",
    "plt.plot(range(30),test_loss_history,'-',linewidth=3,label='Test error')\n",
    "plt.xlabel('epoch')\n",
    "plt.ylabel('loss')\n",
    "plt.grid(True)\n",
    "plt.legend()\n",
    "plt.show()"
   ]
  },
  {
   "cell_type": "markdown",
   "metadata": {
    "id": "IyPSu5tr7Enh"
   },
   "source": [
    "Why is test loss larger than training loss?\n",
    "\n",
    "We definitely see some improvement. Let's look at the images, the predictions our model makes and the true label."
   ]
  },
  {
   "cell_type": "markdown",
   "metadata": {
    "id": "j4ZJAue77Oa4"
   },
   "source": [
    "Now for the labels and predicted labels."
   ]
  },
  {
   "cell_type": "code",
   "execution_count": 74,
   "metadata": {
    "colab": {
     "base_uri": "https://localhost:8080/"
    },
    "executionInfo": {
     "elapsed": 204,
     "status": "ok",
     "timestamp": 1674771912103,
     "user": {
      "displayName": "Karthik Garimella",
      "userId": "04378348427673454344"
     },
     "user_tz": 300
    },
    "id": "PWAHUPQf7Nuj",
    "outputId": "8ea3befe-7907-404b-96f5-a5fd25652857"
   },
   "outputs": [
    {
     "name": "stdout",
     "output_type": "stream",
     "text": [
      "Predicted: tensor([3, 2, 7, 5, 8, 4, 5, 6, 8, 9, 1, 9, 1, 8, 1, 5])\n",
      "True labels: tensor([3, 2, 7, 5, 8, 4, 5, 6, 8, 9, 1, 9, 1, 8, 1, 5])\n",
      "0.11070889979600906\n"
     ]
    }
   ],
   "source": [
    "predicted_outputs = net(images)\n",
    "predicted_classes = torch.max(predicted_outputs, 1)[1]\n",
    "print('Predicted:', predicted_classes)\n",
    "fit = loss(predicted_output, labels)\n",
    "print('True labels:', labels)\n",
    "print(fit.item())"
   ]
  },
  {
   "cell_type": "code",
   "execution_count": 75,
   "metadata": {
    "colab": {
     "base_uri": "https://localhost:8080/",
     "height": 299
    },
    "executionInfo": {
     "elapsed": 470,
     "status": "ok",
     "timestamp": 1674771936195,
     "user": {
      "displayName": "Karthik Garimella",
      "userId": "04378348427673454344"
     },
     "user_tz": 300
    },
    "id": "fODInaCcLBIF",
    "outputId": "389cf078-cd37-412e-b791-24a992b8f9e7"
   },
   "outputs": [
    {
     "data": {
      "text/plain": [
       "Text(0.5, 1.0, 'Pred: 2, True: 2')"
      ]
     },
     "execution_count": 75,
     "metadata": {},
     "output_type": "execute_result"
    },
    {
     "data": {
      "image/png": "[encoded data removed]",
      "text/plain": [
       "<Figure size 640x480 with 1 Axes>"
      ]
     },
     "metadata": {},
     "output_type": "display_data"
    }
   ],
   "source": [
    "plt.imshow(images[1].squeeze().cpu(), cmap=plt.cm.gray)\n",
    "plt.title(f'Pred: {predicted_classes[1].item()}, True: {labels[1].item()}')"
   ]
  }
 ],
 "metadata": {
  "accelerator": "GPU",
  "colab": {
   "provenance": []
  },
  "gpuClass": "standard",
  "kernelspec": {
   "display_name": "Python 3 (ipykernel)",
   "language": "python",
   "name": "python3"
  },
  "language_info": {
   "codemirror_mode": {
    "name": "ipython",
    "version": 3
   },
   "file_extension": ".py",
   "mimetype": "text/x-python",
   "name": "python",
   "nbconvert_exporter": "python",
   "pygments_lexer": "ipython3",
   "version": "3.13.2"
  }
 },
 "nbformat": 4,
 "nbformat_minor": 4
}
