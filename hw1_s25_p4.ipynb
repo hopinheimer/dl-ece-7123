{
  "nbformat": 4,
  "nbformat_minor": 0,
  "metadata": {
    "colab": {
      "provenance": []
    },
    "kernelspec": {
      "name": "python3",
      "display_name": "Python 3"
    }
  },
  "cells": [
    {
      "cell_type": "markdown",
      "metadata": {
        "id": "CKRRjmhbFcx7"
      },
      "source": [
        "In this problem we will train a neural network from scratch using numpy. In practice, you will never need to do this (you'd just use TensorFlow or PyTorch). But hopefully this will give us a sense of what's happening under the hood.\n",
        "\n",
        "For training/testing, we will use the standard MNIST benchmark consisting of images of handwritten images.\n",
        "\n"
      ]
    },
    {
      "cell_type": "markdown",
      "source": [
        "In the second demo, we worked with autodiff. Autodiff enables us to implicitly store how to calculate the gradient when we call backward. We implemented some basic operations (addition, multiplication, power, and ReLU). In this homework problem, you will implement backprop for more complicated operations directly. Instead of using autodiff, you will manually compute the gradient of the loss function for each parameter."
      ],
      "metadata": {
        "id": "k0Zpyb4xQNu2"
      }
    },
    {
      "cell_type": "code",
      "metadata": {
        "id": "kjvPSnDA4J_w",
        "colab": {
          "base_uri": "https://localhost:8080/",
          "height": 430
        },
        "outputId": "1afc4df4-7751-4313-8f0e-618c671a7e90"
      },
      "source": [
        "import tensorflow as tf\n",
        "import matplotlib.pyplot as plt\n",
        "\n",
        "(x_train, y_train), (x_test, y_test) = tf.keras.datasets.mnist.load_data(path=\"mnist.npz\")\n",
        "\n",
        "plt.imshow(x_train[0],cmap='gray');"
      ],
      "execution_count": 21,
      "outputs": [
        {
          "output_type": "display_data",
          "data": {
            "text/plain": [
              "<Figure size 640x480 with 1 Axes>"
            ],
            "image/png": "[encoded data removed]"
          },
          "metadata": {}
        }
      ]
    },
    {
      "cell_type": "markdown",
      "metadata": {
        "id": "Klx9qPmxF9jI"
      },
      "source": [
        "Loading MNIST is the only place where we will use TensorFlow; the rest of the code will be pure numpy.\n",
        "\n",
        "Let us now set up a few helper functions. We will use sigmoid activations for neurons, the softmax activation for the last layer, and the cross entropy loss."
      ]
    },
    {
      "cell_type": "code",
      "metadata": {
        "id": "sdyvaUKoF7ux"
      },
      "source": [
        "import numpy as np\n",
        "\n",
        "def sigmoid(x):\n",
        "  # Numerically stable sigmoid function based on\n",
        "  # http://timvieira.github.io/blog/post/2014/02/11/exp-normalize-trick/\n",
        "\n",
        "  x = np.clip(x, -500, 500) # We get an overflow warning without this\n",
        "\n",
        "  return np.where(\n",
        "    x >= 0,\n",
        "    1 / (1 + np.exp(-x)),\n",
        "    np.exp(x) / (1 + np.exp(x))\n",
        "  )\n",
        "\n",
        "def dsigmoid(x): # Derivative of sigmoid\n",
        "  return sigmoid(x) * (1 - sigmoid(x))\n",
        "\n",
        "def softmax(x):\n",
        "  # Numerically stable softmax based on (same source as sigmoid)\n",
        "  # http://timvieira.github.io/blog/post/2014/02/11/exp-normalize-trick/\n",
        "  b = x.max()\n",
        "  y = np.exp(x - b)\n",
        "  return y / y.sum()\n",
        "\n",
        "def cross_entropy_loss(y, yHat):\n",
        "  return -np.sum(y * np.log(yHat))\n",
        "\n",
        "def integer_to_one_hot(x, max):\n",
        "  # x: integer to convert to one hot encoding\n",
        "  # max: the size of the one hot encoded array\n",
        "  result = np.zeros(10)\n",
        "  result[x] = 1\n",
        "  return result"
      ],
      "execution_count": 22,
      "outputs": []
    },
    {
      "cell_type": "markdown",
      "metadata": {
        "id": "_xIZEupTHyNM"
      },
      "source": [
        "OK, we are now ready to build and train our model. The input is an image of size 28x28, and the output is one of 10 classes. So, first:\n",
        "\n",
        "Q1. Initialize a 2-hidden layer neural network with 32 neurons in each hidden layer, i.e., your layer sizes should be:\n",
        "\n",
        "784 -> 32 -> 32 -> 10\n",
        "\n",
        "If the layer is $n_{in} \\times n_{out}$ your layer weights should be initialized by sampling from a normal distribution with mean zero and variance 1/$\\max(n_{in},n_{out})$."
      ]
    },
    {
      "cell_type": "code",
      "metadata": {
        "id": "zBeGvbu6FaM_"
      },
      "source": [
        "import math\n",
        "\n",
        "# Initialize weights of each layer with a normal distribution of mean 0 and\n",
        "# standard deviation 1/sqrt(n), where n is the number of inputs.\n",
        "# This means the weighted input will be a random variable itself with mean\n",
        "# 0 and standard deviation close to 1 (if biases are initialized as 0, standard\n",
        "# deviation will be exactly 1)\n",
        "\n",
        "from numpy.random import default_rng\n",
        "\n",
        "rng = default_rng(80085)\n",
        "\n",
        "n_input = 784\n",
        "n_hidden = 32\n",
        "n_output = 10\n",
        "\n",
        "weights = [\n",
        "    rng.normal(0, 1/np.sqrt(n_input), (n_input, n_hidden)),\n",
        "    rng.normal(0, 1/np.sqrt(n_hidden), (n_hidden, n_hidden)),\n",
        "    rng.normal(0, 1/np.sqrt(n_hidden), (n_hidden, n_output))\n",
        "]\n",
        "\n",
        "biases = [\n",
        "    np.zeros(n_hidden),\n",
        "    np.zeros(n_hidden),\n",
        "    np.zeros(n_output)\n",
        "]"
      ],
      "execution_count": 23,
      "outputs": []
    },
    {
      "cell_type": "markdown",
      "metadata": {
        "id": "IafUGD_VGeLh"
      },
      "source": [
        "Next, we will set up the forward pass. We will implement this by looping over the layers and successively computing the activations of each layer.\n",
        "\n",
        "Q2. Implement the forward pass for a single sample, and for the entire dataset.\n",
        "\n",
        "\n",
        "Right now, your network weights should be random, so doing a forward pass with the data should not give you any meaningful information. Therefore, in the last line, when you calculate test accuracy, it should be somewhere around 1/10 (i.e., a random guess)."
      ]
    },
    {
      "cell_type": "code",
      "metadata": {
        "id": "cd6jGroQGdOF",
        "colab": {
          "base_uri": "https://localhost:8080/"
        },
        "outputId": "4d2f6911-601c-416f-939e-638d93163290"
      },
      "source": [
        "def feed_forward_sample(sample, y):\n",
        "    a = sample.flatten()\n",
        "    for i in range(len(weights)):\n",
        "        z = np.dot(a, weights[i]) + biases[i]\n",
        "        if i == len(weights) - 1:\n",
        "            a = softmax(z)\n",
        "        else:\n",
        "            a = sigmoid(z)\n",
        "    y_one_hot = integer_to_one_hot(y, 10)\n",
        "    loss = cross_entropy_loss(y_one_hot, a)\n",
        "    predicted_class = np.argmax(a)\n",
        "    one_hot_guess = np.zeros(10)\n",
        "    one_hot_guess[predicted_class] = 1\n",
        "    return loss, one_hot_guess\n",
        "\n",
        "def feed_forward_dataset(x, y):\n",
        "    losses = np.empty(x.shape[0])\n",
        "    one_hot_guesses = np.empty((x.shape[0], 10))\n",
        "    for i in range(x.shape[0]):\n",
        "        sample = x[i]\n",
        "        label = y[i]\n",
        "        loss, one_hot = feed_forward_sample(sample, label)\n",
        "        losses[i] = loss\n",
        "        one_hot_guesses[i] = one_hot\n",
        "\n",
        "    y_one_hot = np.zeros((y.size, 10))\n",
        "    y_one_hot[np.arange(y.size), y] = 1\n",
        "\n",
        "    correct_guesses = np.sum(y_one_hot * one_hot_guesses)\n",
        "    correct_guess_percent = format((correct_guesses / y.shape[0]) * 100, \".2f\")\n",
        "\n",
        "    print(\"\\nAverage loss:\", np.round(np.average(losses), decimals=2))\n",
        "    print(\"Accuracy (# of correct guesses):\", correct_guesses, \"/\", y.shape[0], \"(\", correct_guess_percent, \"%)\")\n",
        "\n",
        "def feed_forward_training_data():\n",
        "    print(\"Feeding forward all training data...\")\n",
        "    feed_forward_dataset(x_train, y_train)\n",
        "    print(\"\")\n",
        "\n",
        "def feed_forward_test_data():\n",
        "    print(\"Feeding forward all test data...\")\n",
        "    feed_forward_dataset(x_test, y_test)\n",
        "    print(\"\")\n",
        "\n",
        "# Initial test accuracy (should be around 1/10)\n",
        "feed_forward_test_data()\n"
      ],
      "execution_count": 24,
      "outputs": [
        {
          "output_type": "stream",
          "name": "stdout",
          "text": [
            "Feeding forward all test data...\n",
            "\n",
            "Average loss: 2.37\n",
            "Accuracy (# of correct guesses): 880.0 / 10000 ( 8.80 %)\n",
            "\n"
          ]
        }
      ]
    },
    {
      "cell_type": "markdown",
      "metadata": {
        "id": "sSrlc2VLOi8L"
      },
      "source": [
        "OK, now we will implement the backward pass using backpropagation. We will keep it simple and just do training sample-by-sample (no minibatching, no randomness).\n",
        "\n",
        "Q3: Compute the gradient of all the weights and biases by backpropagating derivatives all the way from the output to the first layer.\n",
        "\n",
        "\n",
        "\n"
      ]
    },
    {
      "cell_type": "code",
      "metadata": {
        "id": "BLLEsVdcOgzi"
      },
      "source": [
        "def train_one_sample(sample, y, learning_rate=0.003):\n",
        "    a = sample.flatten()\n",
        "    activations = [a]\n",
        "    zs = []\n",
        "\n",
        "    # Forward pass\n",
        "    for i in range(len(weights)):\n",
        "        z = np.dot(a, weights[i]) + biases[i]\n",
        "        zs.append(z)\n",
        "        if i == len(weights) - 1:\n",
        "            a = softmax(z)\n",
        "        else:\n",
        "            a = sigmoid(z)\n",
        "        activations.append(a)\n",
        "\n",
        "    y_one_hot = integer_to_one_hot(y, 10)\n",
        "\n",
        "    # Backward pass\n",
        "    delta3 = activations[-1] - y_one_hot\n",
        "\n",
        "    # Layer 2 gradients\n",
        "    dW2 = np.outer(activations[-2], delta3)\n",
        "    db2 = delta3\n",
        "\n",
        "    # Layer 1 gradients\n",
        "    delta2 = (delta3 @ weights[2].T) * dsigmoid(zs[1])\n",
        "    dW1 = np.outer(activations[-3], delta2)\n",
        "    db1 = delta2\n",
        "\n",
        "    # Layer 0 gradients\n",
        "    delta1 = (delta2 @ weights[1].T) * dsigmoid(zs[0])\n",
        "    dW0 = np.outer(activations[-4], delta1)\n",
        "    db0 = delta1\n",
        "\n",
        "    weight_gradients = [dW0, dW1, dW2]\n",
        "    bias_gradients = [db0, db1, db2]\n",
        "\n",
        "    # Update weights and biases\n",
        "    for i in range(len(weights)):\n",
        "        weights[i] -= learning_rate * weight_gradients[i]\n",
        "        biases[i] -= learning_rate * bias_gradients[i]"
      ],
      "execution_count": 25,
      "outputs": []
    },
    {
      "cell_type": "markdown",
      "metadata": {
        "id": "6AXY27pOB9cW"
      },
      "source": [
        "Finally, train for 3 epochs by looping over the entire training dataset 3 times.\n",
        "\n",
        "Q4. Train your model for 3 epochs."
      ]
    },
    {
      "cell_type": "code",
      "metadata": {
        "id": "8Ygk05FcB-rL",
        "colab": {
          "base_uri": "https://localhost:8080/"
        },
        "outputId": "431f62a8-c8ea-4595-b29f-84b6239b81ad"
      },
      "source": [
        "def train_one_epoch(learning_rate=0.003):\n",
        "    print(\"Training for one epoch over the training dataset...\")\n",
        "    for idx in range(x_train.shape[0]):\n",
        "        sample = x_train[idx]\n",
        "        label = y_train[idx]\n",
        "        train_one_sample(sample, label, learning_rate)\n",
        "    print(\"Finished training.\\n\")\n",
        "\n",
        "feed_forward_test_data()\n",
        "\n",
        "def test_and_train():\n",
        "  train_one_epoch()\n",
        "  feed_forward_test_data()\n",
        "\n",
        "for i in range(3):\n",
        "  test_and_train()\n"
      ],
      "execution_count": 26,
      "outputs": [
        {
          "output_type": "stream",
          "name": "stdout",
          "text": [
            "Feeding forward all test data...\n",
            "\n",
            "Average loss: 2.37\n",
            "Accuracy (# of correct guesses): 880.0 / 10000 ( 8.80 %)\n",
            "\n",
            "Training for one epoch over the training dataset...\n",
            "Finished training.\n",
            "\n",
            "Feeding forward all test data...\n",
            "\n",
            "Average loss: 0.96\n",
            "Accuracy (# of correct guesses): 6653.0 / 10000 ( 66.53 %)\n",
            "\n",
            "Training for one epoch over the training dataset...\n",
            "Finished training.\n",
            "\n",
            "Feeding forward all test data...\n",
            "\n",
            "Average loss: 0.96\n",
            "Accuracy (# of correct guesses): 6596.0 / 10000 ( 65.96 %)\n",
            "\n",
            "Training for one epoch over the training dataset...\n",
            "Finished training.\n",
            "\n",
            "Feeding forward all test data...\n",
            "\n",
            "Average loss: 0.84\n",
            "Accuracy (# of correct guesses): 7257.0 / 10000 ( 72.57 %)\n",
            "\n"
          ]
        }
      ]
    },
    {
      "cell_type": "markdown",
      "metadata": {
        "id": "IKzEn_lyCAIe"
      },
      "source": [
        "\n",
        "That's it!\n",
        "\n",
        "Your code is probably very time- and memory-inefficient; that's ok. There is a ton of optimization under the hood in professional deep learning frameworks which we won't get into.\n",
        "\n",
        "If everything is working well, you should be able to raise the accuracy from ~10% to ~70% accuracy after 3 epochs."
      ]
    },
    {
      "cell_type": "markdown",
      "source": [
        "\n",
        "**Attributes & Values for Satyrium spini (Spine Hairstreak):**\n",
        "\n",
        "- **Name**: Satyrium spini (Spine Hairstreak)\n",
        "- **Wingspan**: 1.5 to 2 inches (3.8 to 5.1 cm)\n",
        "- **Color**: Dark brown or black with blue and orange markings\n",
        "- **Underside of Wings**: Mottled brown with orange and white markings\n",
        "- **Distinctive Features**: Spine-like projection at the end of the hind wing\n",
        "- **Habitat**: Forests, fields, and gardens\n",
        "- **Nectar Sources**: Variety of flowers\n",
        "- **Attracted to**: Bright, open areas"
      ],
      "metadata": {
        "id": "5HG1KMF2-Jxy"
      }
    }
  ]
}