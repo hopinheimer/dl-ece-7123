{
 "cells": [
  {
   "cell_type": "markdown",
   "metadata": {
    "id": "FheeATiH-kiw"
   },
   "source": [
    "# Goal: Policy Gradients and the Gym Environment\n",
    "\n",
    "The goal of this demo is to get familiar with the [Gymansium](https://gymnasium.farama.org) library and implement REINFORCE, a policy gradient algorithm for Reinforcement Learning. In particular, we will use REINFORCE to solve the [CartPole](https://jeffjar.me/cartpole.html) environment provided by Gym. \n",
    "\n",
    "**Small note: we will be using OpenAI's [Gym Library](https://github.com/openai/gym#important-notice) rather than Gymnasium**\n",
    "\n",
    "Reinforcement Learning is fundmantally a problem in sequential decision making. The following diagram from the [seminal text in the field](http://incompleteideas.net/book/the-book-2nd.html) describes it well:\n",
    "\n",
    "![](http://www.incompleteideas.net/book/ebook/figtmp7.png)\n",
    "\n",
    "We have an *agent* that exists in some *environment*. At each timestep, the agent receives an observation that encapsulates the state of the environment (denoted as $s$) and takes an action $a$ based on this state. This mapping from states to actions is known as the agent's policy $\\pi$. After taking an action, the state of the environment is updated. \n",
    "\n",
    "Additionally at each time step, the agent will receive a reward signal $r$ from the environment. Thus the goal of our agent is to figure out the best policy where “best” is defined in terms of maximizing the rewards ([see class notes](https://chinmayhegde.github.io/dl-notes/notes/lecture09/#setup))."
   ]
  },
  {
   "cell_type": "markdown",
   "metadata": {
    "id": "3rM2HQIICT4n"
   },
   "source": [
    "## Imports\n",
    "\n",
    "Let's begin by importing our favorite packages. We will also import `gym`. "
   ]
  },
  {
   "cell_type": "code",
   "execution_count": 1,
   "metadata": {
    "colab": {
     "base_uri": "https://localhost:8080/"
    },
    "id": "EDc7Tt0GB_3x",
    "outputId": "c3cad9f5-988e-4aae-f0ae-485f85b4ee4e"
   },
   "outputs": [
    {
     "name": "stdout",
     "output_type": "stream",
     "text": [
      "True\n"
     ]
    }
   ],
   "source": [
    "import torch\n",
    "import torch.nn as nn\n",
    "import torch.optim as optim\n",
    "import torch.nn.functional as F\n",
    "import torch.distributions as distributions\n",
    "\n",
    "import gym\n",
    "\n",
    "import numpy as np\n",
    "import matplotlib.pyplot as plt\n",
    "%matplotlib inline\n",
    "\n",
    "print(torch.cuda.is_available())"
   ]
  },
  {
   "cell_type": "markdown",
   "metadata": {
    "id": "rd7Pjk_ItcML"
   },
   "source": [
    "We will also import turn off deprecation warnings since we are using a slighly outdated library."
   ]
  },
  {
   "cell_type": "code",
   "execution_count": 2,
   "metadata": {
    "id": "W_j6k0-BhOS8"
   },
   "outputs": [],
   "source": [
    "import warnings\n",
    "warnings.filterwarnings(\"ignore\", category=DeprecationWarning)"
   ]
  },
  {
   "cell_type": "markdown",
   "metadata": {
    "id": "6_jpJAnehNnG"
   },
   "source": [
    "## The CartPole-v1 Environment\n",
    "\n",
    "Let's instantiate the `CartPole-v1` environment. We can render what our CartPole environment looks like. The environment will remain static unless we call `env.step()`."
   ]
  },
  {
   "cell_type": "code",
   "execution_count": 11,
   "metadata": {
    "colab": {
     "base_uri": "https://localhost:8080/",
     "height": 413
    },
    "id": "izi2PM72sRBe",
    "outputId": "cb55e1b0-26e8-44d5-f86f-3919e3198558"
   },
   "outputs": [
    {
     "data": {
      "text/plain": [
       "<matplotlib.image.AxesImage at 0x7f93f913f880>"
      ]
     },
     "execution_count": 11,
     "metadata": {},
     "output_type": "execute_result"
    },
    {
     "data": {
      "image/png": "[encoded data removed]",
      "text/plain": [
       "<Figure size 640x480 with 1 Axes>"
      ]
     },
     "metadata": {},
     "output_type": "display_data"
    }
   ],
   "source": [
    "env = gym.make(\"CartPole-v1\")\n",
    "env.reset()\n",
    "plt.imshow(env.render(mode='rgb_array'))"
   ]
  },
  {
   "cell_type": "markdown",
   "metadata": {
    "id": "hNLNtnHg5unk"
   },
   "source": [
    "So we can see that we have a pole attached to a cart that can move in the x-direction. And our goal is to keep the pole upright."
   ]
  },
  {
   "cell_type": "markdown",
   "metadata": {
    "id": "Aj5aalWnhWn3"
   },
   "source": [
    "## What are the actions, states, reward function for CartPole-v1?\n",
    "Now, let's concretize our understanding by looking at the action, state, and reward space. As we go through this section, do a sanity check with the [CartPole-v1 documentation](https://gymnasium.farama.org/environments/classic_control/cart_pole/). "
   ]
  },
  {
   "cell_type": "markdown",
   "metadata": {
    "id": "t7Ymu9dy6keI"
   },
   "source": [
    "### [Action Space](https://gymnasium.farama.org/environments/classic_control/cart_pole/#action-space)"
   ]
  },
  {
   "cell_type": "code",
   "execution_count": 12,
   "metadata": {
    "colab": {
     "base_uri": "https://localhost:8080/"
    },
    "id": "hgyvVGCKsuCn",
    "outputId": "d0cba40d-29f1-454f-a7d8-a55426ee0592"
   },
   "outputs": [
    {
     "name": "stdout",
     "output_type": "stream",
     "text": [
      "Discrete(2)\n"
     ]
    }
   ],
   "source": [
    "print(env.action_space)"
   ]
  },
  {
   "cell_type": "markdown",
   "metadata": {
    "id": "RB3sKsQ66pJd"
   },
   "source": [
    "So, our action space consists of two discrete decisions: move left (0) or move right (1). We can perform a uniform sample over the action space directly from `env`. "
   ]
  },
  {
   "cell_type": "code",
   "execution_count": 13,
   "metadata": {
    "colab": {
     "base_uri": "https://localhost:8080/"
    },
    "id": "5owyVUwO60Gi",
    "outputId": "4c910551-789c-4539-f8d7-0cf3eaa5fd26"
   },
   "outputs": [
    {
     "name": "stdout",
     "output_type": "stream",
     "text": [
      "Uniformly choosing an action: 0\n"
     ]
    }
   ],
   "source": [
    "print(\"Uniformly choosing an action:\", env.action_space.sample())"
   ]
  },
  {
   "cell_type": "markdown",
   "metadata": {
    "id": "kXmXr7EN6491"
   },
   "source": [
    "Try running the above cell a few times. "
   ]
  },
  {
   "cell_type": "markdown",
   "metadata": {
    "id": "ndvTNrSg69YZ"
   },
   "source": [
    "### [Observation (State) Space](https://gymnasium.farama.org/environments/classic_control/cart_pole/#observation-space)"
   ]
  },
  {
   "cell_type": "code",
   "execution_count": 14,
   "metadata": {
    "colab": {
     "base_uri": "https://localhost:8080/"
    },
    "id": "pwV6gLF8tCfg",
    "outputId": "0ebcd6c3-1629-4de5-b115-bcc0c0ba65e3"
   },
   "outputs": [
    {
     "name": "stdout",
     "output_type": "stream",
     "text": [
      "(4,)\n"
     ]
    }
   ],
   "source": [
    "print(env.observation_space.shape) # state space"
   ]
  },
  {
   "cell_type": "markdown",
   "metadata": {
    "id": "JkPii7iX7Cpe"
   },
   "source": [
    "Our `state` will consist of four items:\n",
    "- the cart position\n",
    "- the cart velocity\n",
    "- the pole angle\n",
    "- the pole's angular velocity\n",
    "\n",
    "These are continuous variables and some of them are bounded. We can print out the bounds like so:"
   ]
  },
  {
   "cell_type": "code",
   "execution_count": 15,
   "metadata": {
    "colab": {
     "base_uri": "https://localhost:8080/"
    },
    "id": "kiCefTxd7LXd",
    "outputId": "db10f5fb-31cc-4734-f6b6-e4cbddc07b6c"
   },
   "outputs": [
    {
     "name": "stdout",
     "output_type": "stream",
     "text": [
      "Box([-4.8000002e+00 -3.4028235e+38 -4.1887903e-01 -3.4028235e+38], [4.8000002e+00 3.4028235e+38 4.1887903e-01 3.4028235e+38], (4,), float32)\n"
     ]
    }
   ],
   "source": [
    "print(env.observation_space)"
   ]
  },
  {
   "cell_type": "markdown",
   "metadata": {
    "id": "QbA901g37Xle"
   },
   "source": [
    "### [Reward](https://gymnasium.farama.org/environments/classic_control/cart_pole/#rewards)\n",
    "\n",
    "We just receive a reward of `+1` for every time step until our pole falls over. If we keep the pole upright for more than 475 timesteps, that means we have solved the CartPole-v1 environent.\n",
    "\n",
    "\n",
    "### A Random Policy $\\pi$\n",
    "Let's create a random policy $\\pi$ that simply takes a random action at each timestep. We will play for a maximum of 500 timesteps and if we crash, we will break out of our loop."
   ]
  },
  {
   "cell_type": "code",
   "execution_count": 16,
   "metadata": {
    "colab": {
     "base_uri": "https://localhost:8080/"
    },
    "id": "b97nEnznteAO",
    "outputId": "99d10497-7491-4c45-dcca-f31dcd67bca1"
   },
   "outputs": [
    {
     "name": "stdout",
     "output_type": "stream",
     "text": [
      "number of steps before we crashed: 17\n"
     ]
    }
   ],
   "source": [
    "rewards = []\n",
    "for idx in range(500):\n",
    "   action = env.action_space.sample()                # return either a 0 (for move left) or a 1 (for move right)\n",
    "   state, reward, terminated, _  = env.step(action)  # performs the action in our environment.\n",
    "   rewards.append(reward)\n",
    "   if terminated:\n",
    "     break\n",
    "print(\"number of steps before we crashed:\", idx)"
   ]
  },
  {
   "cell_type": "markdown",
   "metadata": {
    "id": "DJCh3ceC8JP1"
   },
   "source": [
    "So we made it 17 timesteps before our pole fell over! Let's visualize and print the final state of our environment."
   ]
  },
  {
   "cell_type": "code",
   "execution_count": 17,
   "metadata": {
    "colab": {
     "base_uri": "https://localhost:8080/",
     "height": 413
    },
    "id": "LnxMOzKgt6mR",
    "outputId": "fb4de8e2-a769-41e4-860f-4d4b4ff3ee2b"
   },
   "outputs": [
    {
     "data": {
      "text/plain": [
       "<matplotlib.image.AxesImage at 0x7f93f85a4c70>"
      ]
     },
     "execution_count": 17,
     "metadata": {},
     "output_type": "execute_result"
    },
    {
     "data": {
      "image/png": "[encoded data removed]",
      "text/plain": [
       "<Figure size 640x480 with 1 Axes>"
      ]
     },
     "metadata": {},
     "output_type": "display_data"
    }
   ],
   "source": [
    "plt.imshow(env.render(mode='rgb_array'))"
   ]
  },
  {
   "cell_type": "markdown",
   "metadata": {
    "id": "ShixvRmf8Yuc"
   },
   "source": [
    "Check the [termination rules](https://gymnasium.farama.org/environments/classic_control/cart_pole/#episode-end) for CartPole to understand why our episode terminated."
   ]
  },
  {
   "cell_type": "code",
   "execution_count": 21,
   "metadata": {
    "colab": {
     "base_uri": "https://localhost:8080/"
    },
    "id": "olpur-0it9QQ",
    "outputId": "0198316c-b49c-47c6-87e8-d01af86a233b"
   },
   "outputs": [
    {
     "name": "stdout",
     "output_type": "stream",
     "text": [
      "[ 0.08003918  0.84610975 -0.21306242 -1.6377889 ]\n"
     ]
    }
   ],
   "source": [
    "print(state)"
   ]
  },
  {
   "cell_type": "code",
   "execution_count": 22,
   "metadata": {
    "colab": {
     "base_uri": "https://localhost:8080/"
    },
    "id": "kwS3VJ2fuCgu",
    "outputId": "944e5e13-ab7c-4431-a5ef-37eabe5972b2"
   },
   "outputs": [
    {
     "name": "stdout",
     "output_type": "stream",
     "text": [
      "Degree of pole: -12.207577438843742\n"
     ]
    }
   ],
   "source": [
    "print(\"Degree of pole:\", np.rad2deg(-0.21306242))"
   ]
  },
  {
   "cell_type": "markdown",
   "metadata": {
    "id": "HmrMzCrw8gTd"
   },
   "source": [
    "Let's calculate our cumulative reward for our episode. It's common to sum the individual rewards starting at time step and discounting future rewards as follows:"
   ]
  },
  {
   "cell_type": "markdown",
   "metadata": {
    "id": "X2yaAu8Bue-W"
   },
   "source": [
    "$R = r_0 + \\gamma r_1 + \\gamma^2 r_2 \\ldots$"
   ]
  },
  {
   "cell_type": "code",
   "execution_count": 23,
   "metadata": {
    "colab": {
     "base_uri": "https://localhost:8080/"
    },
    "id": "cwAmhF-VusQU",
    "outputId": "a36fe8ac-fc64-4689-916b-ed34457fa8f6"
   },
   "outputs": [
    {
     "name": "stdout",
     "output_type": "stream",
     "text": [
      "[1.0, 1.0, 1.0, 1.0, 1.0, 1.0, 1.0, 1.0, 1.0, 1.0, 1.0, 1.0, 1.0, 1.0, 1.0, 1.0, 1.0, 1.0]\n"
     ]
    }
   ],
   "source": [
    "print(rewards)"
   ]
  },
  {
   "cell_type": "markdown",
   "metadata": {
    "id": "jgcqaSLoA65b"
   },
   "source": [
    "We will set our discount factor to $\\gamma=0.9$."
   ]
  },
  {
   "cell_type": "code",
   "execution_count": 45,
   "metadata": {
    "colab": {
     "base_uri": "https://localhost:8080/"
    },
    "id": "2foJSCQbuvT_",
    "outputId": "1b4971c9-441f-4a13-fe4a-f5399a9d8e5b"
   },
   "outputs": [
    {
     "name": "stdout",
     "output_type": "stream",
     "text": [
      "8.499053647030008\n"
     ]
    }
   ],
   "source": [
    "R = 0\n",
    "gamma = 0.9\n",
    "for i in range(len(rewards)):\n",
    "  R += rewards[i] * gamma**i\n",
    "\n",
    "print(R)"
   ]
  },
  {
   "cell_type": "markdown",
   "metadata": {
    "id": "6JOIVpjN8yKx"
   },
   "source": [
    "So, it looks like we achieved a cumulative, discounted reward of 8.499. If we had solved the CartPole-v1 environment, we should have achieved a cumulative, discounted reward in the 400s!"
   ]
  },
  {
   "cell_type": "markdown",
   "metadata": {
    "id": "NQNYL0cthc4w"
   },
   "source": [
    "## Building a Policy Network\n",
    "\n",
    "Let's now build a policy network and use the REINFORCE algorithm to solve the CartPole-v1 environment. First, we will instantiate two CartPole-v1 environments: one for training and one for evaluation."
   ]
  },
  {
   "cell_type": "code",
   "execution_count": 26,
   "metadata": {
    "id": "TT4JRIm_u_pm"
   },
   "outputs": [],
   "source": [
    "train_env = gym.make('CartPole-v1')\n",
    "test_env  = gym.make('CartPole-v1')"
   ]
  },
  {
   "cell_type": "markdown",
   "metadata": {
    "id": "q3iE7T919gF8"
   },
   "source": [
    "Recall that our goal is to create a policy $\\pi$ that maps states to actions. We will use a small neural network for this."
   ]
  },
  {
   "cell_type": "markdown",
   "metadata": {
    "id": "qgy4IUqlvP7d"
   },
   "source": [
    "$\\pi(a|s) = P[A = a | S = s]$"
   ]
  },
  {
   "cell_type": "code",
   "execution_count": 27,
   "metadata": {
    "id": "ZvHbxyl1wDRT"
   },
   "outputs": [],
   "source": [
    "class PolicyNet(nn.Module):\n",
    "  def __init__(self, state_space_size, hidden_dim, action_space_size, dropout=.5):\n",
    "    super().__init__()\n",
    "    self.net = nn.Sequential(\n",
    "        nn.Linear(state_space_size, hidden_dim), # 4 -> hidden_dim\n",
    "        nn.Dropout(dropout),\n",
    "        nn.ReLU(),\n",
    "        nn.Linear(hidden_dim, action_space_size) # hidden_dim -> 2\n",
    "    )\n",
    "\n",
    "  def forward(self, x):\n",
    "    return self.net(x)"
   ]
  },
  {
   "cell_type": "markdown",
   "metadata": {
    "id": "mubY7aFj90NS"
   },
   "source": [
    "Let's obtain the input and output dimensions of the policy network. We already know these values since we understand our environment but it's best to be Pythonic. We will also set the hidden dimension size here."
   ]
  },
  {
   "cell_type": "code",
   "execution_count": 31,
   "metadata": {
    "colab": {
     "base_uri": "https://localhost:8080/"
    },
    "id": "KdjoQ1Q3wXTG",
    "outputId": "d3052d0a-89ef-44fb-8954-612ce50a8e05"
   },
   "outputs": [
    {
     "name": "stdout",
     "output_type": "stream",
     "text": [
      "input dim: 4\n",
      "output dim: 2\n"
     ]
    }
   ],
   "source": [
    "input_dim = train_env.observation_space.shape[0]\n",
    "print('input dim:', input_dim)\n",
    "\n",
    "output_dim = train_env.action_space.n\n",
    "print('output dim:', output_dim)\n",
    "\n",
    "hidden_dim = 128"
   ]
  },
  {
   "cell_type": "markdown",
   "metadata": {
    "id": "DhhoDQhR-DLv"
   },
   "source": [
    "Let's instantiate both the network and the optimizer."
   ]
  },
  {
   "cell_type": "code",
   "execution_count": 42,
   "metadata": {
    "colab": {
     "base_uri": "https://localhost:8080/"
    },
    "id": "1NyIGPmtwc65",
    "outputId": "ee11d1f5-a295-49bd-98dc-d563949a3fb9"
   },
   "outputs": [
    {
     "name": "stdout",
     "output_type": "stream",
     "text": [
      "PolicyNet(\n",
      "  (net): Sequential(\n",
      "    (0): Linear(in_features=4, out_features=128, bias=True)\n",
      "    (1): Dropout(p=0.5, inplace=False)\n",
      "    (2): ReLU()\n",
      "    (3): Linear(in_features=128, out_features=2, bias=True)\n",
      "  )\n",
      ")\n"
     ]
    }
   ],
   "source": [
    "policy = PolicyNet(input_dim, hidden_dim, output_dim)\n",
    "print(policy)\n",
    "\n",
    "optimizer = optim.Adam(policy.parameters(), lr=0.01)"
   ]
  },
  {
   "cell_type": "markdown",
   "metadata": {
    "id": "tVgL0MNo9ykS"
   },
   "source": [
    "As it stand now, our policy network output a vector of size 2 which contains real values. We need to convert this to a proper probability distribution over two discrete outcomes. To do this, we will \n",
    "- normalize our output\n",
    "- convert this normalized vector to a torch distribution"
   ]
  },
  {
   "cell_type": "markdown",
   "metadata": {
    "id": "-mDea6VN-VOI"
   },
   "source": [
    "The following code snippet shows how we can do this."
   ]
  },
  {
   "cell_type": "code",
   "execution_count": null,
   "metadata": {
    "colab": {
     "base_uri": "https://localhost:8080/"
    },
    "id": "UBIPgCUawtda",
    "outputId": "323d2e78-55c3-4b3c-f6e8-3527fe272052"
   },
   "outputs": [
    {
     "name": "stdout",
     "output_type": "stream",
     "text": [
      "output: tensor([ 1.1884, -0.2575])\n",
      "probs: tensor([0.8094, 0.1906])\n",
      "Categorical(probs: torch.Size([2]))\n",
      "sample: tensor(0)\n",
      "log probl: tensor(-0.2115)\n"
     ]
    }
   ],
   "source": [
    "output = torch.randn(2,)                   # output of network\n",
    "print(\"output:\", output)\n",
    "probs = F.softmax(output, dim=-1)          # normalize using softmax\n",
    "print(\"probs:\", probs)\n",
    "dist = distributions.Categorical(probs)    # convert to discrete distribution\n",
    "print(dist)\n",
    "sample = dist.sample()                     # sample from our distribution\n",
    "print(\"sample:\", sample)\n",
    "print('log probl:', dist.log_prob(sample)) # find the log_prob of our sample"
   ]
  },
  {
   "cell_type": "code",
   "execution_count": null,
   "metadata": {
    "colab": {
     "base_uri": "https://localhost:8080/"
    },
    "id": "y0Ib7reCxyKU",
    "outputId": "b586fbdf-d28e-455f-fdfb-597954a9c626"
   },
   "outputs": [
    {
     "data": {
      "text/plain": [
       "-0.21146204654037185"
      ]
     },
     "execution_count": 23,
     "metadata": {},
     "output_type": "execute_result"
    }
   ],
   "source": [
    "np.log(0.8094)"
   ]
  },
  {
   "cell_type": "markdown",
   "metadata": {
    "id": "qiGnLvmg-ZS-"
   },
   "source": [
    "You will see that we also measured the log probability of our sample in the above code snippet. We will need to calculate the log probability for the REINFORCE algorithm."
   ]
  },
  {
   "cell_type": "markdown",
   "metadata": {
    "id": "HXIK3tEbhf_L"
   },
   "source": [
    "## REINFORCE Algorithm (from [class notes](https://chinmayhegde.github.io/dl-notes/notes/lecture09/#policy-gradients))\n",
    "\n",
    "The following is the REINFORCE algorithm covered in class. I'd highly suggest going over the class notes to understand how the log-derivative trick is employed.\n",
    "\n",
    "- Sample a trajectory/rollout $(s_0,a_0, s_1, a_1, \\ldots, s_T, a_T)$\n",
    "- For each $t=0, 1, \\ldots, T-1$:\n",
    "  - Compute $R_t = r_t + \\gamma r_{t+1} + \\gamma^2 r_{t+2} $\n",
    "  - $\\theta \\leftarrow \\theta + \\eta R_t \\frac{d}{d\\theta}log\\left(\\pi(a_t|s_t)\\right)$"
   ]
  },
  {
   "cell_type": "markdown",
   "metadata": {
    "id": "zuIgaVkbhkL5"
   },
   "source": [
    "## Calculating the Return for an Episode"
   ]
  },
  {
   "cell_type": "markdown",
   "metadata": {
    "id": "bjI5DO0s--ec"
   },
   "source": [
    "In class, we described how to compute a single discounted reward of a trajectory. In practice, we want to leverage our data for more updates. We do this by considering the future discounted reward for *every* state in our trajectory."
   ]
  },
  {
   "cell_type": "code",
   "execution_count": 33,
   "metadata": {
    "id": "YFF8mTVTyBLZ"
   },
   "outputs": [],
   "source": [
    "def calculate_returns(rewards, discount_factor, normalize=True):\n",
    "  returns = []\n",
    "  R = 0\n",
    "  for r in reversed(rewards):\n",
    "    R = r + R * discount_factor\n",
    "    returns.insert(0,R)\n",
    "\n",
    "    \n",
    "  returns = torch.tensor(returns)\n",
    "  # Remember we normalize to differentiate between\n",
    "  # \"good\" and \"bad\" actions\n",
    "  if normalize:\n",
    "    returns = (returns - returns.mean()) / returns.std()\n",
    "  \n",
    "  return returns"
   ]
  },
  {
   "cell_type": "markdown",
   "metadata": {
    "id": "iKehax23_CRD"
   },
   "source": [
    "Let's go ahead and run this cell for the rewards we obtained during our random policy run."
   ]
  },
  {
   "cell_type": "code",
   "execution_count": 34,
   "metadata": {
    "colab": {
     "base_uri": "https://localhost:8080/"
    },
    "id": "gaIiaHTzyIp8",
    "outputId": "26ab9be6-afb7-4dbd-df0d-03617a2a0cf8"
   },
   "outputs": [
    {
     "data": {
      "text/plain": [
       "tensor([8.4991, 8.3323, 8.1470, 7.9411, 7.7123, 7.4581, 7.1757, 6.8619, 6.5132,\n",
       "        6.1258, 5.6953, 5.2170, 4.6856, 4.0951, 3.4390, 2.7100, 1.9000, 1.0000])"
      ]
     },
     "execution_count": 34,
     "metadata": {},
     "output_type": "execute_result"
    }
   ],
   "source": [
    "calculate_returns(rewards, 0.9, False)"
   ]
  },
  {
   "cell_type": "markdown",
   "metadata": {
    "id": "fKRkQEJv_MgN"
   },
   "source": [
    "Note that the first value in our `returns` tensor is the same value we calculated above (8.499)! Each value in the `returns` tensor calculates the discounted reward *starting from that time step and up to the end of the episode*. It's common to normalize the returns."
   ]
  },
  {
   "cell_type": "code",
   "execution_count": 35,
   "metadata": {
    "colab": {
     "base_uri": "https://localhost:8080/"
    },
    "id": "_2jhhLd7ylWp",
    "outputId": "c775e0a7-0898-4db2-f45b-c004f399cc1e"
   },
   "outputs": [
    {
     "data": {
      "text/plain": [
       "tensor([ 1.1837,  1.1119,  1.0321,  0.9434,  0.8449,  0.7354,  0.6138,  0.4786,\n",
       "         0.3285,  0.1616, -0.0237, -0.2297, -0.4586, -0.7129, -0.9955, -1.3094,\n",
       "        -1.6583, -2.0459])"
      ]
     },
     "execution_count": 35,
     "metadata": {},
     "output_type": "execute_result"
    }
   ],
   "source": [
    "calculate_returns(rewards, 0.9, True)"
   ]
  },
  {
   "cell_type": "markdown",
   "metadata": {
    "id": "AFRxYrY-hnOL"
   },
   "source": [
    "## Gradient Calculation\n",
    "Once we have returns and log probabilities of the actions we take, we will compute the loss and optimize. Note the negative sign in this `loss` expression. Can you see why we need to add the negative sign?"
   ]
  },
  {
   "cell_type": "code",
   "execution_count": 36,
   "metadata": {
    "id": "VqGSq5IGykDi"
   },
   "outputs": [],
   "source": [
    "def update_policy(returns, log_prob_actions, optimizer):\n",
    "  returns = returns.detach()\n",
    "  # Because we minimize (by convention) and we actually\n",
    "  # want to maximize returns, we negate the expected sum\n",
    "  loss = - (returns * log_prob_actions).sum()\n",
    "  optimizer.zero_grad()\n",
    "\n",
    "  loss.backward()\n",
    "  optimizer.step()\n",
    "\n",
    "  return loss.item()"
   ]
  },
  {
   "cell_type": "markdown",
   "metadata": {
    "id": "AnmnOO23hqIg"
   },
   "source": [
    "# Training Function\n",
    "\n",
    "Now we write the training and evaluation functions. Notice how training in RL is more involved than our standard applications.\n",
    "\n",
    "\n"
   ]
  },
  {
   "cell_type": "code",
   "execution_count": 38,
   "metadata": {
    "id": "8aMRM2Wty4xi"
   },
   "outputs": [],
   "source": [
    "def train(env, policy, optimizer, discount_factor=.99):\n",
    "  policy.train()\n",
    "  \n",
    "  log_prob_actions = []\n",
    "  rewards = []\n",
    "  done = False\n",
    "  episode_reward = 0\n",
    "\n",
    "  state = env.reset()\n",
    "\n",
    "  while not done:\n",
    "    state = torch.FloatTensor(state).unsqueeze(0)\n",
    "    action_pred = policy(state)\n",
    "    action_prob = F.softmax(action_pred, dim = -1) # normalize our output\n",
    "\n",
    "    dist = distributions.Categorical(action_prob)\n",
    "    action = dist.sample() # we sample (rather than take the best)\n",
    "    log_prob_action = dist.log_prob(action)\n",
    "\n",
    "    state, reward, done, _ = env.step(action.item())\n",
    "\n",
    "    log_prob_actions.append(log_prob_action)\n",
    "    rewards.append(reward)\n",
    "\n",
    "    episode_reward += reward\n",
    "  \n",
    "  log_prob_actions = torch.cat(log_prob_actions)\n",
    "  returns = calculate_returns(rewards, discount_factor)\n",
    "  loss = update_policy(returns, log_prob_actions, optimizer)\n",
    "\n",
    "  return loss, episode_reward"
   ]
  },
  {
   "cell_type": "markdown",
   "metadata": {
    "id": "J4gjo4J_hsnO"
   },
   "source": [
    "# Evaluation Function\n",
    "\n",
    "The evaluation loop is similar expect we take the best action (i.e. the action that leads to the highest cumulative, discounted reward)."
   ]
  },
  {
   "cell_type": "code",
   "execution_count": 39,
   "metadata": {
    "id": "wz0KCd0Bhs9_"
   },
   "outputs": [],
   "source": [
    "def evaluate(env, policy, return_frames=False):\n",
    "  policy.eval()\n",
    "\n",
    "  done = False\n",
    "  episode_reward = 0\n",
    "  state = env.reset()\n",
    "  frames = []\n",
    "\n",
    "  while not done:\n",
    "    if return_frames:\n",
    "      frames += [env.render(mode='rgb_array')]\n",
    "    state = torch.FloatTensor(state).unsqueeze(0)\n",
    "\n",
    "    action_pred = policy(state)\n",
    "    action_prob = F.softmax(action_pred, dim=-1)\n",
    "\n",
    "    action = torch.argmax(action_prob, dim=-1) # we take the best\n",
    "    state, reward, done, _ = env.step(action.item())\n",
    "    episode_reward += reward\n",
    "  \n",
    "  if return_frames:\n",
    "    return episode_reward, frames\n",
    "  return episode_reward"
   ]
  },
  {
   "cell_type": "markdown",
   "metadata": {
    "id": "XvfWQj1K_0Mw"
   },
   "source": [
    "Let's evaluate our untrained policy network in our `test_env`."
   ]
  },
  {
   "cell_type": "code",
   "execution_count": 40,
   "metadata": {
    "colab": {
     "base_uri": "https://localhost:8080/"
    },
    "id": "zTP4pZ1Lzp7K",
    "outputId": "6f518139-b99d-48b8-daed-06721cfbb520"
   },
   "outputs": [
    {
     "data": {
      "text/plain": [
       "11.0"
      ]
     },
     "execution_count": 40,
     "metadata": {},
     "output_type": "execute_result"
    }
   ],
   "source": [
    "evaluate(test_env, policy)"
   ]
  },
  {
   "cell_type": "markdown",
   "metadata": {
    "id": "gSBGbg4oADSz"
   },
   "source": [
    "## Training\n",
    "\n",
    "Now we're ready to train. Notice the very jagged nature of the loss history. This is because RL is different from our regular training: our policy is stochastic and the reward is more \"sparse\"."
   ]
  },
  {
   "cell_type": "code",
   "execution_count": 43,
   "metadata": {
    "colab": {
     "base_uri": "https://localhost:8080/"
    },
    "id": "Mbu_ZluTzwr_",
    "outputId": "bfeabe10-42ec-491c-dd9c-d56fc88f9aaf"
   },
   "outputs": [
    {
     "name": "stdout",
     "output_type": "stream",
     "text": [
      "| Episode:  10 | Mean Train Rewards:  19.9 | Mean Test Rewards:  25.2 |\n",
      "| Episode:  20 | Mean Train Rewards:  24.9 | Mean Test Rewards:  67.4 |\n",
      "| Episode:  30 | Mean Train Rewards:  37.6 | Mean Test Rewards:  90.2 |\n",
      "| Episode:  40 | Mean Train Rewards:  54.1 | Mean Test Rewards: 113.6 |\n",
      "| Episode:  50 | Mean Train Rewards:  66.6 | Mean Test Rewards: 112.8 |\n",
      "| Episode:  60 | Mean Train Rewards:  74.0 | Mean Test Rewards: 136.2 |\n",
      "| Episode:  70 | Mean Train Rewards:  87.6 | Mean Test Rewards: 254.0 |\n",
      "| Episode:  80 | Mean Train Rewards:  97.4 | Mean Test Rewards: 334.6 |\n",
      "| Episode:  90 | Mean Train Rewards: 126.6 | Mean Test Rewards: 373.3 |\n",
      "| Episode: 100 | Mean Train Rewards: 157.4 | Mean Test Rewards: 380.4 |\n",
      "| Episode: 110 | Mean Train Rewards: 148.5 | Mean Test Rewards: 315.2 |\n",
      "| Episode: 120 | Mean Train Rewards: 198.8 | Mean Test Rewards: 313.5 |\n",
      "| Episode: 130 | Mean Train Rewards: 310.8 | Mean Test Rewards: 369.7 |\n",
      "Reached reward threshold in 138 episodes\n"
     ]
    }
   ],
   "source": [
    "max_episodes = 500\n",
    "num_trials = 25\n",
    "reward_threshold = 475\n",
    "print_every = 10\n",
    "\n",
    "train_rewards = []\n",
    "test_rewards = []\n",
    "\n",
    "for episode in range(1, max_episodes+1):\n",
    "  loss, train_reward = train(train_env, policy, optimizer)\n",
    "  test_reward = evaluate(test_env, policy)\n",
    "\n",
    "  train_rewards += [train_reward]\n",
    "  test_rewards += [test_reward]\n",
    "\n",
    "  mean_train_rewards = np.mean(train_rewards[-num_trials:])\n",
    "  mean_test_rewards = np.mean(test_rewards[-num_trials:])\n",
    "\n",
    "  if episode % print_every == 0:    \n",
    "    print(f'| Episode: {episode:3} | Mean Train Rewards: {mean_train_rewards:5.1f} | Mean Test Rewards: {mean_test_rewards:5.1f} |')\n",
    "    \n",
    "  if mean_test_rewards >= reward_threshold:\n",
    "    print(f'Reached reward threshold in {episode} episodes')\n",
    "    break"
   ]
  },
  {
   "cell_type": "code",
   "execution_count": 44,
   "metadata": {
    "colab": {
     "base_uri": "https://localhost:8080/",
     "height": 710
    },
    "id": "2fjvhy01z71t",
    "outputId": "04b77224-1682-4cc8-ded1-3e3b9e06a624"
   },
   "outputs": [
    {
     "data": {
      "image/png": "[encoded data removed]",
      "text/plain": [
       "<Figure size 800x800 with 1 Axes>"
      ]
     },
     "metadata": {},
     "output_type": "display_data"
    }
   ],
   "source": [
    "plt.figure(figsize=(8,8))\n",
    "plt.plot(test_rewards, label='Test Reward')\n",
    "plt.plot(train_rewards, label='Train Reward')\n",
    "plt.xlabel('Episode', fontsize=20)\n",
    "plt.ylabel('Reward', fontsize=20)\n",
    "plt.hlines(reward_threshold, 0, len(test_rewards), color='r')\n",
    "plt.legend(loc='lower right')\n",
    "plt.grid()"
   ]
  },
  {
   "cell_type": "markdown",
   "metadata": {
    "id": "BFxNQBllAlid"
   },
   "source": [
    "And that's it! We went over the basic setup of Reinforcement Learning, talked about the gym environment, and used the REINFORCE algorithm to solve the cartpole environment."
   ]
  }
 ],
 "metadata": {
  "accelerator": "GPU",
  "colab": {
   "provenance": []
  },
  "gpuClass": "standard",
  "kernelspec": {
   "display_name": "Python 3 (ipykernel)",
   "language": "python",
   "name": "python3"
  },
  "language_info": {
   "codemirror_mode": {
    "name": "ipython",
    "version": 3
   },
   "file_extension": ".py",
   "mimetype": "text/x-python",
   "name": "python",
   "nbconvert_exporter": "python",
   "pygments_lexer": "ipython3",
   "version": "3.11.3"
  }
 },
 "nbformat": 4,
 "nbformat_minor": 1
}
