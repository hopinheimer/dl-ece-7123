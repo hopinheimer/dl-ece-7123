{
  "cells": [
    {
      "cell_type": "markdown",
      "metadata": {
        "id": "view-in-github",
        "colab_type": "text"
      },
      "source": [
        "<a href=\"https://colab.research.google.com/github/rtealwitter/dl-demos/blob/main/demo10-q-learning.ipynb\" target=\"_parent\"><img src=\"https://colab.research.google.com/assets/colab-badge.svg\" alt=\"Open In Colab\"/></a>"
      ]
    },
    {
      "cell_type": "markdown",
      "metadata": {
        "id": "VLtuvsr88j5g"
      },
      "source": [
        "# Deep Q-Networks\n",
        "\n",
        "In this notebook, we will explore policy learning in RL by appropriately training neural networks for predicting Q-functions. These will be called Deep Q-networks (or DQN).  This notebook is taken from this [excellent repo](https://github.com/Curt-Park/rainbow-is-all-you-need)."
      ]
    },
    {
      "cell_type": "code",
      "execution_count": 1,
      "metadata": {
        "colab": {
          "base_uri": "https://localhost:8080/"
        },
        "id": "H2Hubctq8j5h",
        "outputId": "bbbebe89-a322-445a-b8e2-22cbf905ad0e"
      },
      "outputs": [
        {
          "output_type": "stream",
          "name": "stdout",
          "text": [
            "Reading package lists... Done\n",
            "Building dependency tree       \n",
            "Reading state information... Done\n",
            "The following additional packages will be installed:\n",
            "  freeglut3 libpython2-stdlib python2 python2-minimal\n",
            "Suggested packages:\n",
            "  python-tk python-numpy libgle3 python2-doc\n",
            "The following NEW packages will be installed:\n",
            "  freeglut3 libpython2-stdlib python-opengl python2 python2-minimal\n",
            "0 upgraded, 5 newly installed, 0 to remove and 23 not upgraded.\n",
            "Need to get 621 kB of archives.\n",
            "After this operation, 6,059 kB of additional disk space will be used.\n",
            "Get:1 http://archive.ubuntu.com/ubuntu focal/universe amd64 python2-minimal amd64 2.7.17-2ubuntu4 [27.5 kB]\n",
            "Get:2 http://archive.ubuntu.com/ubuntu focal/universe amd64 libpython2-stdlib amd64 2.7.17-2ubuntu4 [7,072 B]\n",
            "Get:3 http://archive.ubuntu.com/ubuntu focal/universe amd64 python2 amd64 2.7.17-2ubuntu4 [26.5 kB]\n",
            "Get:4 http://archive.ubuntu.com/ubuntu focal/universe amd64 freeglut3 amd64 2.8.1-3 [73.6 kB]\n",
            "Get:5 http://archive.ubuntu.com/ubuntu focal/universe amd64 python-opengl all 3.1.0+dfsg-2build1 [486 kB]\n",
            "Fetched 621 kB in 1s (880 kB/s)\n",
            "Selecting previously unselected package python2-minimal.\n",
            "(Reading database ... 129504 files and directories currently installed.)\n",
            "Preparing to unpack .../python2-minimal_2.7.17-2ubuntu4_amd64.deb ...\n",
            "Unpacking python2-minimal (2.7.17-2ubuntu4) ...\n",
            "Selecting previously unselected package libpython2-stdlib:amd64.\n",
            "Preparing to unpack .../libpython2-stdlib_2.7.17-2ubuntu4_amd64.deb ...\n",
            "Unpacking libpython2-stdlib:amd64 (2.7.17-2ubuntu4) ...\n",
            "Setting up python2-minimal (2.7.17-2ubuntu4) ...\n",
            "Selecting previously unselected package python2.\n",
            "(Reading database ... 129533 files and directories currently installed.)\n",
            "Preparing to unpack .../python2_2.7.17-2ubuntu4_amd64.deb ...\n",
            "Unpacking python2 (2.7.17-2ubuntu4) ...\n",
            "Selecting previously unselected package freeglut3:amd64.\n",
            "Preparing to unpack .../freeglut3_2.8.1-3_amd64.deb ...\n",
            "Unpacking freeglut3:amd64 (2.8.1-3) ...\n",
            "Selecting previously unselected package python-opengl.\n",
            "Preparing to unpack .../python-opengl_3.1.0+dfsg-2build1_all.deb ...\n",
            "Unpacking python-opengl (3.1.0+dfsg-2build1) ...\n",
            "Setting up freeglut3:amd64 (2.8.1-3) ...\n",
            "Setting up libpython2-stdlib:amd64 (2.7.17-2ubuntu4) ...\n",
            "Setting up python2 (2.7.17-2ubuntu4) ...\n",
            "Setting up python-opengl (3.1.0+dfsg-2build1) ...\n",
            "Processing triggers for man-db (2.9.1-1) ...\n",
            "Processing triggers for libc-bin (2.31-0ubuntu9.9) ...\n",
            "Reading package lists... Done\n",
            "Building dependency tree       \n",
            "Reading state information... Done\n",
            "ffmpeg is already the newest version (7:4.2.7-0ubuntu0.1).\n",
            "0 upgraded, 0 newly installed, 0 to remove and 23 not upgraded.\n",
            "Reading package lists... Done\n",
            "Building dependency tree       \n",
            "Reading state information... Done\n",
            "The following NEW packages will be installed:\n",
            "  xvfb\n",
            "0 upgraded, 1 newly installed, 0 to remove and 23 not upgraded.\n",
            "Need to get 780 kB of archives.\n",
            "After this operation, 2,271 kB of additional disk space will be used.\n",
            "Get:1 http://archive.ubuntu.com/ubuntu focal-updates/universe amd64 xvfb amd64 2:1.20.13-1ubuntu1~20.04.5 [780 kB]\n",
            "Fetched 780 kB in 1s (1,240 kB/s)\n",
            "Selecting previously unselected package xvfb.\n",
            "(Reading database ... 131921 files and directories currently installed.)\n",
            "Preparing to unpack .../xvfb_2%3a1.20.13-1ubuntu1~20.04.5_amd64.deb ...\n",
            "Unpacking xvfb (2:1.20.13-1ubuntu1~20.04.5) ...\n",
            "Setting up xvfb (2:1.20.13-1ubuntu1~20.04.5) ...\n",
            "Processing triggers for man-db (2.9.1-1) ...\n",
            "Looking in indexes: https://pypi.org/simple, https://us-python.pkg.dev/colab-wheels/public/simple/\n",
            "Collecting pyvirtualdisplay\n",
            "  Downloading PyVirtualDisplay-3.0-py3-none-any.whl (15 kB)\n",
            "Installing collected packages: pyvirtualdisplay\n",
            "Successfully installed pyvirtualdisplay-3.0\n",
            "Looking in indexes: https://pypi.org/simple, https://us-python.pkg.dev/colab-wheels/public/simple/\n",
            "Requirement already satisfied: gym in /usr/local/lib/python3.8/dist-packages (0.25.2)\n",
            "Requirement already satisfied: numpy>=1.18.0 in /usr/local/lib/python3.8/dist-packages (from gym) (1.21.6)\n",
            "Requirement already satisfied: importlib-metadata>=4.8.0 in /usr/local/lib/python3.8/dist-packages (from gym) (6.0.0)\n",
            "Requirement already satisfied: gym-notices>=0.0.4 in /usr/local/lib/python3.8/dist-packages (from gym) (0.0.8)\n",
            "Requirement already satisfied: cloudpickle>=1.2.0 in /usr/local/lib/python3.8/dist-packages (from gym) (2.2.0)\n",
            "Requirement already satisfied: zipp>=0.5 in /usr/local/lib/python3.8/dist-packages (from importlib-metadata>=4.8.0->gym) (3.11.0)\n",
            "Looking in indexes: https://pypi.org/simple, https://us-python.pkg.dev/colab-wheels/public/simple/\n",
            "Requirement already satisfied: gym[box2d] in /usr/local/lib/python3.8/dist-packages (0.25.2)\n",
            "Requirement already satisfied: numpy>=1.18.0 in /usr/local/lib/python3.8/dist-packages (from gym[box2d]) (1.21.6)\n",
            "Requirement already satisfied: cloudpickle>=1.2.0 in /usr/local/lib/python3.8/dist-packages (from gym[box2d]) (2.2.0)\n",
            "Requirement already satisfied: importlib-metadata>=4.8.0 in /usr/local/lib/python3.8/dist-packages (from gym[box2d]) (6.0.0)\n",
            "Requirement already satisfied: gym-notices>=0.0.4 in /usr/local/lib/python3.8/dist-packages (from gym[box2d]) (0.0.8)\n",
            "Collecting box2d-py==2.3.5\n",
            "  Downloading box2d-py-2.3.5.tar.gz (374 kB)\n",
            "\u001b[2K     \u001b[90m━━━━━━━━━━━━━━━━━━━━━━━━━━━━━━━━━━━━━━\u001b[0m \u001b[32m374.4/374.4 KB\u001b[0m \u001b[31m27.7 MB/s\u001b[0m eta \u001b[36m0:00:00\u001b[0m\n",
            "\u001b[?25h  Preparing metadata (setup.py) ... \u001b[?25l\u001b[?25hdone\n",
            "Collecting swig==4.*\n",
            "  Downloading swig-4.1.1-py2.py3-none-manylinux_2_5_x86_64.manylinux1_x86_64.whl (1.8 MB)\n",
            "\u001b[2K     \u001b[90m━━━━━━━━━━━━━━━━━━━━━━━━━━━━━━━━━━━━━━━━\u001b[0m \u001b[32m1.8/1.8 MB\u001b[0m \u001b[31m86.9 MB/s\u001b[0m eta \u001b[36m0:00:00\u001b[0m\n",
            "\u001b[?25hCollecting pygame==2.1.0\n",
            "  Downloading pygame-2.1.0-cp38-cp38-manylinux_2_17_x86_64.manylinux2014_x86_64.whl (18.3 MB)\n",
            "\u001b[2K     \u001b[90m━━━━━━━━━━━━━━━━━━━━━━━━━━━━━━━━━━━━━━━━\u001b[0m \u001b[32m18.3/18.3 MB\u001b[0m \u001b[31m80.4 MB/s\u001b[0m eta \u001b[36m0:00:00\u001b[0m\n",
            "\u001b[?25hRequirement already satisfied: zipp>=0.5 in /usr/local/lib/python3.8/dist-packages (from importlib-metadata>=4.8.0->gym[box2d]) (3.11.0)\n",
            "Building wheels for collected packages: box2d-py\n",
            "  \u001b[1;31merror\u001b[0m: \u001b[1msubprocess-exited-with-error\u001b[0m\n",
            "  \n",
            "  \u001b[31m×\u001b[0m \u001b[32mpython setup.py bdist_wheel\u001b[0m did not run successfully.\n",
            "  \u001b[31m│\u001b[0m exit code: \u001b[1;36m1\u001b[0m\n",
            "  \u001b[31m╰─>\u001b[0m See above for output.\n",
            "  \n",
            "  \u001b[1;35mnote\u001b[0m: This error originates from a subprocess, and is likely not a problem with pip.\n",
            "  Building wheel for box2d-py (setup.py) ... \u001b[?25lerror\n",
            "\u001b[31m  ERROR: Failed building wheel for box2d-py\u001b[0m\u001b[31m\n",
            "\u001b[0m\u001b[?25h  Running setup.py clean for box2d-py\n",
            "Failed to build box2d-py\n",
            "Installing collected packages: swig, box2d-py, pygame\n",
            "  Running setup.py install for box2d-py ... \u001b[?25l\u001b[?25hdone\n",
            "\u001b[33m  DEPRECATION: box2d-py was installed using the legacy 'setup.py install' method, because a wheel could not be built for it. A possible replacement is to fix the wheel build issue reported above. Discussion can be found at https://github.com/pypa/pip/issues/8368\u001b[0m\u001b[33m\n",
            "\u001b[0mSuccessfully installed box2d-py-2.3.5 pygame-2.1.0 swig-4.1.1\n",
            "Reading package lists... Done\n",
            "Building dependency tree       \n",
            "Reading state information... Done\n",
            "0 upgraded, 0 newly installed, 0 to remove and 23 not upgraded.\n"
          ]
        }
      ],
      "source": [
        "import sys\n",
        "IN_COLAB = \"google.colab\" in sys.modules\n",
        "\n",
        "if IN_COLAB:\n",
        "    !apt install python-opengl\n",
        "    !apt install ffmpeg\n",
        "    !apt install xvfb\n",
        "    !pip install pyvirtualdisplay\n",
        "    !pip install gym\n",
        "    !pip install gym[box2d]\n",
        "    !apt autoremove"
      ]
    },
    {
      "cell_type": "markdown",
      "metadata": {
        "id": "_VEj3H6L8j5i"
      },
      "source": [
        "# DQN training\n",
        "\n",
        "At a very high level, Q-learning is simple to grasp. In [class](https://chinmayhegde.github.io/dl-notes/notes/lecture10/) we showed that Q-learning can be viewed as optimizing the Bellman error:\n",
        "$$\n",
        "L = \\frac{1}{2} \\mathbb{E} (r + \\gamma \\max_{a'} Q(s',a') - Q(s,a))^2\n",
        "$$\n",
        "where the expectation is taken over sample 4-tuples $(s,a,r,s')$, and the variables in the loss function are the parameters of a deep neural network that approximates $Q$. \n",
        "\n",
        "\n",
        "In practical Q-learning, there are 3 more points to keep in mind:\n",
        "\n",
        "* *Target updates vs prediction updates*. There are two places where $Q$ appears in the Bellman error above, but really we are keeping the $Q$ in the second part, i.e., the $r + \\gamma \\max Q(s',a')$ in the Bellman error *fixed*. In other words, the ``target'' value is fixed (and updated only occasionally) while the prediction is updated with every sample.\n",
        "\n",
        "* *Gradient clipping* -- The Bellman error defined above involves a squared-error loss, but in order to prevent gradient blow-ups, it is common to *clip* the gradient to $\\pm 1$. This is equivalent to replacing the squared error loss with the [smoothed L1 loss](https://pytorch.org/docs/stable/generated/torch.nn.SmoothL1Loss.html).\n",
        "\n",
        "* *Experience replay*. The 4-tuples $(s,a,r,s')$ are obtained by keeping track of trajectories/episodes that happen over time. This history is stored in a deque, or ND-array, called a *replay buffer*, which can be queried uniformly at random to extract samples.\n",
        "\n",
        "Let us see how this works. First we perform some standard imports.\n"
      ]
    },
    {
      "cell_type": "code",
      "execution_count": 2,
      "metadata": {
        "id": "FwGedGkQ8j5n"
      },
      "outputs": [],
      "source": [
        "import os\n",
        "from typing import Dict, List, Tuple\n",
        "\n",
        "import gym\n",
        "import matplotlib.pyplot as plt\n",
        "import numpy as np\n",
        "import torch\n",
        "import torch.nn as nn\n",
        "import torch.nn.functional as F\n",
        "import torch.optim as optim\n",
        "from IPython.display import clear_output"
      ]
    },
    {
      "cell_type": "markdown",
      "metadata": {
        "id": "ZumzeQ788j5n"
      },
      "source": [
        "\n",
        "\n",
        "Let us now implement a replay buffer using `numpy.ndarray`.\n",
        "\n",
        "\n",
        "Reference: [OpenAI spinning-up](https://github.com/openai/spinningup/blob/master/spinup/algos/sac/sac.py#L10)"
      ]
    },
    {
      "cell_type": "code",
      "execution_count": 3,
      "metadata": {
        "id": "CurGtu8g8j5o"
      },
      "outputs": [],
      "source": [
        "class ReplayBuffer:\n",
        "    \"\"\"A simple numpy replay buffer.\"\"\"\n",
        "\n",
        "    def __init__(self, obs_dim: int, size: int, batch_size: int = 32):\n",
        "        self.obs_buf = np.zeros([size, obs_dim], dtype=np.float32)\n",
        "        self.next_obs_buf = np.zeros([size, obs_dim], dtype=np.float32)\n",
        "        self.acts_buf = np.zeros([size], dtype=np.float32)\n",
        "        self.rews_buf = np.zeros([size], dtype=np.float32)\n",
        "        self.done_buf = np.zeros(size, dtype=np.float32)\n",
        "        self.max_size, self.batch_size = size, batch_size\n",
        "        self.ptr, self.size, = 0, 0\n",
        "\n",
        "    def store(\n",
        "        self,\n",
        "        obs: np.ndarray,\n",
        "        act: np.ndarray, \n",
        "        rew: float, \n",
        "        next_obs: np.ndarray, \n",
        "        done: bool,\n",
        "    ):\n",
        "        self.obs_buf[self.ptr] = obs\n",
        "        self.next_obs_buf[self.ptr] = next_obs\n",
        "        self.acts_buf[self.ptr] = act\n",
        "        self.rews_buf[self.ptr] = rew\n",
        "        self.done_buf[self.ptr] = done\n",
        "        self.ptr = (self.ptr + 1) % self.max_size\n",
        "        self.size = min(self.size + 1, self.max_size)\n",
        "\n",
        "    def sample_batch(self) -> Dict[str, np.ndarray]:\n",
        "        idxs = np.random.choice(self.size, size=self.batch_size, replace=False)\n",
        "        return dict(obs=self.obs_buf[idxs],\n",
        "                    next_obs=self.next_obs_buf[idxs],\n",
        "                    acts=self.acts_buf[idxs],\n",
        "                    rews=self.rews_buf[idxs],\n",
        "                    done=self.done_buf[idxs])\n",
        "\n",
        "    def __len__(self) -> int:\n",
        "        return self.size"
      ]
    },
    {
      "cell_type": "markdown",
      "metadata": {
        "id": "Lx6t7P8y8j5o"
      },
      "source": [
        "Our DQN is going to be rather simple, with 2 hidden layers and ReLU activations."
      ]
    },
    {
      "cell_type": "code",
      "execution_count": 17,
      "metadata": {
        "id": "xJvllA4o8j5o"
      },
      "outputs": [],
      "source": [
        "class Network(nn.Module):\n",
        "    def __init__(self, in_dim: int, out_dim: int):\n",
        "        \"\"\"Initialization.\"\"\"\n",
        "        super(Network, self).__init__()\n",
        "\n",
        "        self.layers = nn.Sequential(\n",
        "            nn.Linear(in_dim, 128), \n",
        "            nn.ReLU(),\n",
        "            nn.Linear(128, 128), \n",
        "            nn.ReLU(), \n",
        "            nn.Linear(128, out_dim)\n",
        "        )\n",
        "\n",
        "    def forward(self, x: torch.Tensor) -> torch.Tensor:\n",
        "        return self.layers(x)"
      ]
    },
    {
      "cell_type": "markdown",
      "metadata": {
        "id": "ymr850fC8j5p"
      },
      "source": [
        "We can now declare a DQNAgent class for the OpenAI gym environment."
      ]
    },
    {
      "cell_type": "code",
      "source": [
        "env = gym.make('LunarLander-v2')\n",
        "num_frames = 40000\n",
        "memory_size = 1000\n",
        "batch_size = 32\n",
        "target_update = 100\n",
        "\n",
        "\n",
        "# device: cpu / gpu\n",
        "device = torch.device(\n",
        "    \"cuda\" if torch.cuda.is_available() else \"cpu\"\n",
        ")\n",
        "\n",
        "obs_dim = env.observation_space.shape[0]\n",
        "action_dim = env.action_space.n\n",
        "\n",
        "# networks: dqn, dqn_target\n",
        "dqn = Network(obs_dim, action_dim).to(device)\n",
        "dqn_target = Network(obs_dim, action_dim).to(device)\n",
        "dqn_target.load_state_dict(dqn.state_dict())\n",
        "dqn_target.eval()\n",
        "\n",
        "# optimizer\n",
        "optimizer = optim.Adam(dqn.parameters())\n",
        "\n",
        "# transition to store in memory\n",
        "transition = list()"
      ],
      "metadata": {
        "id": "yc-GyK1Ssx33"
      },
      "execution_count": 52,
      "outputs": []
    },
    {
      "cell_type": "markdown",
      "source": [
        "The first helper function we'll describe helps us select the next action. In reinforcement learning, there is a tradeoff between exploitation (choosing actions we know are good again) and exploration (finding new good actions).\n",
        "\n",
        "In Q-learning, we balance the tradeoff by at first selecting random actions with high probability and then slowly selecting more of the actions we know are good (using our Q function)."
      ],
      "metadata": {
        "id": "D8FoCNoDvmy-"
      }
    },
    {
      "cell_type": "code",
      "source": [
        "def select_action(state, epsilon, dqn, device, memory=None):\n",
        "  \"\"\"Select an action from the input state.\"\"\"\n",
        "  # epsilon greedy policy\n",
        "  if epsilon > np.random.random():\n",
        "      selected_action = env.action_space.sample()\n",
        "  else:\n",
        "      selected_action = dqn(\n",
        "          torch.FloatTensor(state).to(device)\n",
        "      ).argmax()\n",
        "      selected_action = selected_action.detach().cpu().numpy()\n",
        "\n",
        "  next_state, reward, done, _ = env.step(selected_action)\n",
        "\n",
        "  if memory != None:\n",
        "    memory.store(state, selected_action, reward, next_state, done)\n",
        " \n",
        "  return selected_action, next_state, reward, done\n",
        "    "
      ],
      "metadata": {
        "id": "RwtjPsiUvogT"
      },
      "execution_count": 28,
      "outputs": []
    },
    {
      "cell_type": "markdown",
      "source": [
        "We also need a function for computing the loss. Remember the loss is described by\n",
        "\n",
        "$$\n",
        "L = \\frac{1}{2} \\mathbb{E} (r + \\gamma \\max_{a'} Q(s',a') - Q(s,a))^2\n",
        "$$\n",
        "\n",
        "where $Q$ is `dqn` and $Q'$ is `dqn_target`. The below code computes this loss."
      ],
      "metadata": {
        "id": "ZpHWT574wzv5"
      }
    },
    {
      "cell_type": "code",
      "source": [
        "def compute_dqn_loss(dqn, dqn_target, gamma, samples, device):\n",
        "  \"\"\"Return dqn loss.\"\"\"\n",
        "  state = torch.FloatTensor(samples[\"obs\"]).to(device)\n",
        "  next_state = torch.FloatTensor(samples[\"next_obs\"]).to(device)\n",
        "  action = torch.LongTensor(samples[\"acts\"].reshape(-1, 1)).to(device)\n",
        "  reward = torch.FloatTensor(samples[\"rews\"].reshape(-1, 1)).to(device)\n",
        "  done = torch.FloatTensor(samples[\"done\"].reshape(-1, 1)).to(device)\n",
        "\n",
        "\n",
        "  curr_q_value = dqn(state).gather(1, action)\n",
        "  next_q_value = dqn_target(\n",
        "      next_state\n",
        "  ).max(dim=1, keepdim=True)[0].detach()\n",
        "  mask = 1 - done\n",
        "  target = (reward + gamma * next_q_value * mask).to(device)\n",
        "\n",
        "  # calculate dqn loss\n",
        "  loss = F.smooth_l1_loss(curr_q_value, target)\n",
        "\n",
        "  return loss"
      ],
      "metadata": {
        "id": "u4q_WRzew167"
      },
      "execution_count": 29,
      "outputs": []
    },
    {
      "cell_type": "markdown",
      "source": [
        "It would also be nice to see how we're doing so far with a nice plot."
      ],
      "metadata": {
        "id": "t2Pweq0Txk1g"
      }
    },
    {
      "cell_type": "code",
      "source": [
        "def custom_plot(frame_idx, scores, losses, epsilons):\n",
        "  clear_output(True)\n",
        "  plt.figure(figsize=(20, 5))\n",
        "  plt.subplot(131)\n",
        "  plt.title('frame %s. score: %s' % (frame_idx, np.mean(scores[-10:])))\n",
        "  plt.plot(scores)\n",
        "  plt.subplot(132)\n",
        "  plt.title('loss')\n",
        "  plt.plot(losses)\n",
        "  plt.subplot(133)\n",
        "  plt.title('epsilons')\n",
        "  plt.plot(epsilons)\n",
        "  plt.show()"
      ],
      "metadata": {
        "id": "DCEFp0uNxnTU"
      },
      "execution_count": 30,
      "outputs": []
    },
    {
      "cell_type": "markdown",
      "source": [
        "Now we define the function that we'll use to train."
      ],
      "metadata": {
        "id": "oKE2o1mCu8W0"
      }
    },
    {
      "cell_type": "code",
      "source": [
        "def train(dqn, dqn_target, env, num_frames, batch_size, plotting_interval=200):\n",
        "  epsilon_decay = 1 / 2000\n",
        "  max_epsilon = 1\n",
        "  min_epsilon = .1\n",
        "  epsilon = max_epsilon\n",
        "  gamma = .99\n",
        "  obs_dim = env.observation_space.shape[0]\n",
        "  memory = ReplayBuffer(obs_dim, memory_size, batch_size)\n",
        "\n",
        "  device = torch.device(\n",
        "    \"cuda\" if torch.cuda.is_available() else \"cpu\"\n",
        "  )\n",
        "        \n",
        "  state = env.reset()\n",
        "  update_cnt = 0\n",
        "  epsilons = []\n",
        "  losses = []\n",
        "  scores = []\n",
        "  score = 0\n",
        "\n",
        "  for frame_idx in range(1, num_frames + 1):\n",
        "      action, next_state, reward, done = select_action(\n",
        "          state, epsilon, dqn, device, memory=memory\n",
        "      )\n",
        "\n",
        "      state = next_state\n",
        "      score += reward\n",
        "\n",
        "      # if episode ends\n",
        "      if done:\n",
        "          state = env.reset()\n",
        "          scores.append(score)\n",
        "          score = 0\n",
        "\n",
        "      # if ready to train\n",
        "      if len(memory) >= batch_size:\n",
        "          samples = memory.sample_batch()\n",
        "  \n",
        "          # Forward pass\n",
        "          loss = compute_dqn_loss(dqn, dqn_target, gamma, samples, device)\n",
        "  \n",
        "          # Backward pass\n",
        "          optimizer.zero_grad()\n",
        "          loss.backward()\n",
        "          optimizer.step()\n",
        "\n",
        "          losses.append(loss.item())\n",
        "          update_cnt += 1\n",
        "          \n",
        "          # linearly decrease epsilon\n",
        "          epsilon -= epsilon_decay\n",
        "          epsilon = max(epsilon, min_epsilon)\n",
        "          epsilons.append(epsilon)\n",
        "          \n",
        "          # if hard update is needed\n",
        "          if update_cnt % target_update == 0:\n",
        "            dqn_target.load_state_dict(dqn.state_dict())\n",
        "\n",
        "      # plotting\n",
        "      if frame_idx % plotting_interval == 0:\n",
        "          custom_plot(frame_idx, scores, losses, epsilons)\n",
        "          \n",
        "  env.close()"
      ],
      "metadata": {
        "id": "iPmu7JLqu7ab"
      },
      "execution_count": 46,
      "outputs": []
    },
    {
      "cell_type": "markdown",
      "source": [
        "When training, we sometimes randomly take an action. However, when we test, we'll only take the action we think is best. And we won't compute loss or anything like that so it's much simpler."
      ],
      "metadata": {
        "id": "0mqFgRihx3dt"
      }
    },
    {
      "cell_type": "code",
      "source": [
        "def test(dqn, env):\n",
        "  state = env.reset()\n",
        "  done = False\n",
        "  score = 0\n",
        "  \n",
        "  frames = []\n",
        "  epsilon = 0\n",
        "  while not done:\n",
        "      frames.append(env.render(mode=\"rgb_array\"))\n",
        "      action, next_state, reward, done = select_action(state, epsilon, dqn, device)\n",
        "\n",
        "      state = next_state\n",
        "      score += reward\n",
        "  \n",
        "  print(\"score: \", score)\n",
        "  env.close()\n",
        "  \n",
        "  return frames"
      ],
      "metadata": {
        "id": "O2dvkvW3yCE1"
      },
      "execution_count": 36,
      "outputs": []
    },
    {
      "cell_type": "markdown",
      "source": [
        "Before we train, let's try watching what our random DQN does."
      ],
      "metadata": {
        "id": "VzauwfmoyuVH"
      }
    },
    {
      "cell_type": "code",
      "source": [
        "frames = test(dqn, env)\n",
        "\n",
        "for frame_idx in range(len(frames)):\n",
        "  plt.imshow(frames[frame_idx])\n",
        "  plt.show()\n",
        "  clear_output(True)"
      ],
      "metadata": {
        "id": "u6BC9Pzp4ms7",
        "outputId": "8083e05f-e432-44c6-d6da-3bdd933e648e",
        "colab": {
          "base_uri": "https://localhost:8080/",
          "height": 269
        }
      },
      "execution_count": 54,
      "outputs": [
        {
          "output_type": "display_data",
          "data": {
            "text/plain": [
              "<Figure size 432x288 with 1 Axes>"
            ],
            "image/png": "[encoded data removed]"
          },
          "metadata": {
            "needs_background": "light"
          }
        }
      ]
    },
    {
      "cell_type": "markdown",
      "source": [
        "So it's pretty bad (as we'd expect). Now let's train it and see if we can get improvement."
      ],
      "metadata": {
        "id": "GEDWaB5V4haI"
      }
    },
    {
      "cell_type": "code",
      "source": [
        "train(dqn, dqn_target, env, num_frames, batch_size)"
      ],
      "metadata": {
        "colab": {
          "base_uri": "https://localhost:8080/",
          "height": 336
        },
        "id": "KQsghMDSyvVJ",
        "outputId": "d4cdbcff-6b6f-4dec-bb11-7cc7620ebae8"
      },
      "execution_count": 49,
      "outputs": [
        {
          "output_type": "display_data",
          "data": {
            "text/plain": [
              "<Figure size 1440x360 with 3 Axes>"
            ],
            "image/png": "[encoded data removed]"
          },
          "metadata": {
            "needs_background": "light"
          }
        }
      ]
    },
    {
      "cell_type": "markdown",
      "source": [
        "The next thing we'll do is test to see how we did."
      ],
      "metadata": {
        "id": "UmZwuOep0YQt"
      }
    },
    {
      "cell_type": "code",
      "source": [
        "frames = test(dqn, env)"
      ],
      "metadata": {
        "colab": {
          "base_uri": "https://localhost:8080/"
        },
        "id": "4V_NHiM71Pf0",
        "outputId": "368154ea-fa6c-40f8-fe4e-5bfffd7a0a97"
      },
      "execution_count": 50,
      "outputs": [
        {
          "output_type": "stream",
          "name": "stderr",
          "text": [
            "/usr/local/lib/python3.8/dist-packages/gym/core.py:43: DeprecationWarning: \u001b[33mWARN: The argument mode in render method is deprecated; use render_mode during environment initialization instead.\n",
            "See here for more information: https://www.gymlibrary.ml/content/api/\u001b[0m\n",
            "  deprecation(\n"
          ]
        },
        {
          "output_type": "stream",
          "name": "stdout",
          "text": [
            "score:  203.0974864322161\n"
          ]
        }
      ]
    },
    {
      "cell_type": "markdown",
      "source": [
        "And we can actually see how good the DQN became!"
      ],
      "metadata": {
        "id": "-iZcmuSP2mD2"
      }
    },
    {
      "cell_type": "code",
      "source": [
        "for frame_idx in range(len(frames)):\n",
        "  plt.imshow(frames[frame_idx])\n",
        "  plt.show()\n",
        "  clear_output(True)"
      ],
      "metadata": {
        "colab": {
          "base_uri": "https://localhost:8080/",
          "height": 269
        },
        "id": "j-DbCap51YEw",
        "outputId": "d82278ed-03ee-4903-ed93-84be71829dc1"
      },
      "execution_count": 51,
      "outputs": [
        {
          "output_type": "display_data",
          "data": {
            "text/plain": [
              "<Figure size 432x288 with 1 Axes>"
            ],
            "image/png": "[encoded data removed]"
          },
          "metadata": {
            "needs_background": "light"
          }
        }
      ]
    }
  ],
  "metadata": {
    "accelerator": "GPU",
    "colab": {
      "name": "demo10.ipynb",
      "provenance": [],
      "include_colab_link": true
    },
    "gpuClass": "standard",
    "kernelspec": {
      "display_name": "Python 3.10.0 64-bit ('3.10.0')",
      "language": "python",
      "name": "python3"
    },
    "language_info": {
      "codemirror_mode": {
        "name": "ipython",
        "version": 3
      },
      "file_extension": ".py",
      "mimetype": "text/x-python",
      "name": "python",
      "nbconvert_exporter": "python",
      "pygments_lexer": "ipython3",
      "version": "3.10.0"
    },
    "vscode": {
      "interpreter": {
        "hash": "6aea8d84a86a1280a34780710c5e478b9c6b3c016841b907182e7484363820b1"
      }
    }
  },
  "nbformat": 4,
  "nbformat_minor": 0
}